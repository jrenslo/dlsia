{
 "cells": [
  {
   "cell_type": "markdown",
   "id": "tested-education",
   "metadata": {},
   "source": [
    "<img src=\"../../docs/images/dlsia.png\" width=600 />\n",
    "\n",
    "# Demo on how to save and load models\n",
    "\n",
    "Authors: Eric Roberts and Petrus Zwart\n",
    "\n",
    "E-mail: PHZwart@lbl.gov, EJRoberts@lbl.gov\n",
    "___\n",
    "\n",
    "This notebook highlights some basic functionality with the pyMSDtorch package.\n",
    "\n",
    "Using the pyMSDtorch framework, we initialize convolutional neural networks, and show how to save and load them\n"
   ]
  },
  {
   "cell_type": "code",
   "execution_count": 1,
   "id": "adult-configuration",
   "metadata": {},
   "outputs": [],
   "source": [
    "import numpy as np\n",
    "import random\n",
    "\n",
    "import torch\n",
    "import torch.nn as nn\n",
    "import torch.optim as optim\n",
    "from torch.utils.data import TensorDataset, DataLoader\n",
    "\n",
    "from dlsia.core import helpers, custom_losses, train_scripts\n",
    "from dlsia.core.networks import msdNet, tunet, tunet3plus, smsnet\n",
    "\n",
    "import matplotlib.pyplot as plt"
   ]
  },
  {
   "cell_type": "markdown",
   "id": "silver-clear",
   "metadata": {},
   "source": [
    "Build random data for demo purpose"
   ]
  },
  {
   "cell_type": "code",
   "execution_count": 2,
   "id": "standing-fraction",
   "metadata": {},
   "outputs": [],
   "source": [
    "random_data1 = torch.rand((40, 1, 36, 36))\n",
    "k = nn.Conv2d(in_channels=1, out_channels=1, kernel_size=11, stride=1, padding=5)\n",
    "random_data2 = torch.rand((40, 1, 36, 36))\n",
    "random_data_gt = k(random_data1) \n",
    "random_data_obs = k(random_data1)  + random_data2*0.50\n",
    "K = 3\n",
    "random_data_obs = random_data_obs[:,:,K:32+K,K:32+K].detach()\n",
    "random_data_gt = random_data_gt[:,:,K:32+K,K:32+K].detach()\n",
    "\n",
    "train_x = random_data_obs[:20,...] \n",
    "train_y = random_data_gt[:20,...]\n",
    "test_x = random_data_obs[20:,...]\n",
    "test_y = random_data_gt[20:,...]\n",
    "\n",
    "train_set = TensorDataset( train_x, train_y)\n",
    "test_set = TensorDataset( train_x, train_y)\n",
    "\n",
    "\n",
    "# Specify batch sizes\n",
    "batch_size_train = 20 \n",
    "batch_size_test  = 20\n",
    "\n",
    "# Set Dataloader parameters (Note: we randomly shuffle the training set upon each pass)\n",
    "train_loader_params = {'batch_size': batch_size_train,'shuffle': True}\n",
    "test_loader_params  = {'batch_size': batch_size_test, 'shuffle': False}\n",
    "\n",
    "# Build Dataloaders\n",
    "train_loader = DataLoader(train_set, **train_loader_params)\n",
    "test_loader  = DataLoader(test_set, **test_loader_params)"
   ]
  },
  {
   "cell_type": "markdown",
   "id": "surprising-estate",
   "metadata": {},
   "source": [
    "Construct Networks"
   ]
  },
  {
   "cell_type": "code",
   "execution_count": 18,
   "id": "amended-declaration",
   "metadata": {},
   "outputs": [
    {
     "name": "stdout",
     "output_type": "stream",
     "text": [
      "MSDNet :      7462 parameters\n",
      "TUNet :       46131 parameters\n",
      "TUNet3plus :  49421 parameters\n",
      "SMSNet :      523 parameters\n"
     ]
    }
   ],
   "source": [
    "msdnet = MSDNet.MixedScaleDenseNetwork(in_channels = 1,\n",
    "                                       out_channels = 1, \n",
    "                                       num_layers=40)\n",
    "print(\"MSDNet :     \", helpers.count_parameters(msdnet), \"parameters\")\n",
    "\n",
    "tunet = TUNet.TUNet(image_shape=(32,32),\n",
    "                    in_channels=1,\n",
    "                    out_channels=1,\n",
    "                    depth=3, base_channels=10)\n",
    "print(\"TUNet :      \", helpers.count_parameters(tunet), \"parameters\")\n",
    "\n",
    "tunet3plus = TUNet3Plus.TUNet3Plus(image_shape=(32,32),\n",
    "                                  in_channels=1,\n",
    "                                  out_channels=1,\n",
    "                                  depth=3,\n",
    "                                  base_channels=10)\n",
    "print(\"TUNet3plus : \", helpers.count_parameters(tunet3plus), \"parameters\")\n",
    "\n",
    "smsnet = SMSNet.random_SMS_network(in_channels=1, \n",
    "                                   out_channels=1, \n",
    "                                   hidden_out_channels=[1],\n",
    "                                   layers=40, \n",
    "                                   dilation_choices=[1,2,3,4],\n",
    "                                   #layer_probabilities=layer_probabilities,\n",
    "                                   network_type=\"Regression\")\n",
    "\n",
    "print(\"SMSNet :     \", helpers.count_parameters(smsnet), \"parameters\")"
   ]
  },
  {
   "cell_type": "code",
   "execution_count": 19,
   "id": "metallic-split",
   "metadata": {},
   "outputs": [],
   "source": [
    "epochs = 30             \n",
    "criterion = nn.L1Loss()  \n",
    "LEARNING_RATE = 1e-2\n",
    "\n",
    "# Define optimizers, one per network\n",
    "optimizer_msd        = optim.Adam(msdnet.parameters(), lr=LEARNING_RATE)\n",
    "optimizer_tunet      = optim.Adam(tunet.parameters(), lr=LEARNING_RATE)\n",
    "optimizer_tunet3plus = optim.Adam(tunet3plus.parameters(), lr=LEARNING_RATE)\n",
    "optimizer_smsnet     = optim.Adam(smsnet.parameters(), lr=LEARNING_RATE)\n",
    "\n",
    "device = \"cpu\" \n"
   ]
  },
  {
   "cell_type": "code",
   "execution_count": 20,
   "id": "worse-minnesota",
   "metadata": {},
   "outputs": [
    {
     "name": "stdout",
     "output_type": "stream",
     "text": [
      "Epoch 10 of 30 | Learning rate 1.000e-02\n",
      "Training Loss: 3.0971e-01 | Validation Loss: 3.3526e-01\n",
      "Training CC: 0.3246   Validation CC  : 0.3502 \n",
      "Epoch 20 of 30 | Learning rate 1.000e-02\n",
      "Training Loss: 1.6845e-01 | Validation Loss: 1.5185e-01\n",
      "Training CC: 0.4390   Validation CC  : 0.4625 \n",
      "Epoch 30 of 30 | Learning rate 1.000e-02\n",
      "Training Loss: 1.0159e-01 | Validation Loss: 1.0797e-01\n",
      "Training CC: 0.6644   Validation CC  : 0.6773 \n"
     ]
    }
   ],
   "source": [
    "msdnet.to(device)   \n",
    "msdnet, results = train_scripts.train_regression(msdnet,\n",
    "                                                 train_loader,\n",
    "                                                 test_loader,\n",
    "                                                 epochs,\n",
    "                                                 criterion,\n",
    "                                                 optimizer_msd,\n",
    "                                                 device,\n",
    "                                                 show=10)\n",
    "msdnet = msdnet.cpu()"
   ]
  },
  {
   "cell_type": "code",
   "execution_count": 21,
   "id": "documented-tribe",
   "metadata": {},
   "outputs": [
    {
     "name": "stdout",
     "output_type": "stream",
     "text": [
      "Epoch 10 of 30 | Learning rate 1.000e-02\n",
      "Training Loss: 5.6353e-01 | Validation Loss: 5.1034e-01\n",
      "Training CC: -0.2148   Validation CC  : -0.2249 \n",
      "Epoch 20 of 30 | Learning rate 1.000e-02\n",
      "Training Loss: 1.9419e-01 | Validation Loss: 1.7824e-01\n",
      "Training CC: -0.0490   Validation CC  : -0.0185 \n",
      "Epoch 30 of 30 | Learning rate 1.000e-02\n",
      "Training Loss: 1.4800e-01 | Validation Loss: 1.4394e-01\n",
      "Training CC: 0.4056   Validation CC  : 0.4199 \n"
     ]
    }
   ],
   "source": [
    "tunet.to(device)   \n",
    "tunet, results = train_scripts.train_regression(tunet,\n",
    "                                                 train_loader,\n",
    "                                                 test_loader,\n",
    "                                                 epochs,\n",
    "                                                 criterion,\n",
    "                                                 optimizer_tunet,\n",
    "                                                 device,\n",
    "                                                 show=10)\n",
    "tunet = tunet.cpu()"
   ]
  },
  {
   "cell_type": "code",
   "execution_count": 22,
   "id": "baking-nigeria",
   "metadata": {},
   "outputs": [
    {
     "name": "stdout",
     "output_type": "stream",
     "text": [
      "Epoch 10 of 30 | Learning rate 1.000e-02\n",
      "Training Loss: 1.3394e-01 | Validation Loss: 1.3871e-01\n",
      "Training CC: 0.3538   Validation CC  : 0.3833 \n",
      "Epoch 20 of 30 | Learning rate 1.000e-02\n",
      "Training Loss: 1.0467e-01 | Validation Loss: 1.0212e-01\n",
      "Training CC: 0.6365   Validation CC  : 0.6568 \n",
      "Epoch 30 of 30 | Learning rate 1.000e-02\n",
      "Training Loss: 9.2951e-02 | Validation Loss: 9.2530e-02\n",
      "Training CC: 0.7260   Validation CC  : 0.7311 \n"
     ]
    }
   ],
   "source": [
    "tunet3plus.to(device)   \n",
    "tunet3plus, results = train_scripts.train_regression(tunet3plus,\n",
    "                                                 train_loader,\n",
    "                                                 test_loader,\n",
    "                                                 epochs,\n",
    "                                                 criterion,\n",
    "                                                 optimizer_tunet3plus,\n",
    "                                                 device,\n",
    "                                                 show=10)\n",
    "tunet3plus = tunet3plus.cpu()"
   ]
  },
  {
   "cell_type": "code",
   "execution_count": 23,
   "id": "encouraging-recovery",
   "metadata": {},
   "outputs": [
    {
     "name": "stdout",
     "output_type": "stream",
     "text": [
      "Epoch 10 of 30 | Learning rate 1.000e-02\n",
      "Training Loss: 1.4356e-01 | Validation Loss: 1.4924e-01\n",
      "Training CC: 0.5461   Validation CC  : 0.5648 \n",
      "Epoch 20 of 30 | Learning rate 1.000e-02\n",
      "Training Loss: 1.0884e-01 | Validation Loss: 1.0634e-01\n",
      "Training CC: 0.6762   Validation CC  : 0.6854 \n",
      "Epoch 30 of 30 | Learning rate 1.000e-02\n",
      "Training Loss: 9.8020e-02 | Validation Loss: 9.6028e-02\n",
      "Training CC: 0.7339   Validation CC  : 0.7363 \n"
     ]
    }
   ],
   "source": [
    "smsnet.to(device)   \n",
    "smsnet, results = train_scripts.train_regression(smsnet,\n",
    "                                                 train_loader,\n",
    "                                                 test_loader,\n",
    "                                                 epochs,\n",
    "                                                 criterion,\n",
    "                                                 optimizer_smsnet,\n",
    "                                                 device,\n",
    "                                                 show=10)\n",
    "smsnet = smsnet.cpu()"
   ]
  },
  {
   "cell_type": "code",
   "execution_count": 24,
   "id": "young-plymouth",
   "metadata": {},
   "outputs": [],
   "source": [
    "msdnet.save_network_parameters(\"this_msdnet.pt\")\n",
    "smsnet.save_network_parameters(\"this_smsnet.pt\")\n",
    "tunet.save_network_parameters(\"this_tunet.pt\")\n"
   ]
  },
  {
   "cell_type": "code",
   "execution_count": 25,
   "id": "separate-coupon",
   "metadata": {},
   "outputs": [],
   "source": [
    "copy_msdnet = MSDNet.MSDNetwork_from_file(\"this_msdnet.pt\")\n",
    "copy_smsnet = SMSNet.SMSNetwork_from_file(\"this_smsnet.pt\")\n",
    "copy_tunet = TUNet.TUNetwork_from_file(\"this_tunet.pt\")"
   ]
  },
  {
   "cell_type": "code",
   "execution_count": 26,
   "id": "accessory-alcohol",
   "metadata": {},
   "outputs": [],
   "source": [
    "with torch.no_grad():\n",
    "    r1 = msdnet(test_x)\n",
    "    r2 = copy_msdnet(test_x)\n",
    "delta = r1-r2\n",
    "assert torch.max(torch.abs(delta)) < 1e-8"
   ]
  },
  {
   "cell_type": "code",
   "execution_count": 27,
   "id": "integral-warehouse",
   "metadata": {},
   "outputs": [],
   "source": [
    "with torch.no_grad():\n",
    "    r1 = smsnet(test_x)\n",
    "    r2 = copy_smsnet(test_x)\n",
    "delta = r1-r2\n",
    "assert torch.max(torch.abs(delta)) < 1e-8"
   ]
  },
  {
   "cell_type": "code",
   "execution_count": 28,
   "id": "hindu-jungle",
   "metadata": {},
   "outputs": [],
   "source": [
    "with torch.no_grad():\n",
    "    r1 = tunet(test_x)\n",
    "    r2 = copy_tunet(test_x)\n",
    "delta = r1-r2\n",
    "assert torch.max(torch.abs(delta)) < 1e-8"
   ]
  },
  {
   "cell_type": "code",
   "execution_count": null,
   "id": "impressed-throat",
   "metadata": {},
   "outputs": [],
   "source": []
  }
 ],
 "metadata": {
  "kernelspec": {
   "display_name": "work",
   "language": "python",
   "name": "work"
  },
  "language_info": {
   "codemirror_mode": {
    "name": "ipython",
    "version": 3
   },
   "file_extension": ".py",
   "mimetype": "text/x-python",
   "name": "python",
   "nbconvert_exporter": "python",
   "pygments_lexer": "ipython3",
   "version": "3.8.2"
  }
 },
 "nbformat": 4,
 "nbformat_minor": 5
}