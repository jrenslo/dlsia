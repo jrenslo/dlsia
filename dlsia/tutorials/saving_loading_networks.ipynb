{
 "cells": [
  {
   "cell_type": "markdown",
   "id": "tested-education",
   "metadata": {
    "papermill": {
     "duration": 0.010232,
     "end_time": "2023-02-06T07:10:39.845770",
     "exception": false,
     "start_time": "2023-02-06T07:10:39.835538",
     "status": "completed"
    },
    "tags": []
   },
   "source": [
    "<img src=\"../../docs/images/dlsia.png\" width=600 />\n",
    "\n",
    "# Demo on how to save and load models\n",
    "\n",
    "**Authors:** Eric Roberts and Petrus Zwart\n",
    "\n",
    "**E-mail:** PHZwart@lbl.gov, EJRoberts@lbl.gov\n",
    "\n",
    "This notebook highlights some basic functionality with the dlsia package.\n",
    "\n",
    "Using the dlsia framework, we initialize convolutional neural networks, train each on a small dataset using the cpu, and show how to save and load them."
   ]
  },
  {
   "cell_type": "code",
   "execution_count": 1,
   "id": "adult-configuration",
   "metadata": {
    "execution": {
     "iopub.execute_input": "2023-02-06T07:10:39.861108Z",
     "iopub.status.busy": "2023-02-06T07:10:39.860750Z",
     "iopub.status.idle": "2023-02-06T07:10:41.159202Z",
     "shell.execute_reply": "2023-02-06T07:10:41.158294Z"
    },
    "papermill": {
     "duration": 1.308992,
     "end_time": "2023-02-06T07:10:41.162042",
     "exception": false,
     "start_time": "2023-02-06T07:10:39.853050",
     "status": "completed"
    },
    "tags": []
   },
   "outputs": [],
   "source": [
    "import numpy as np\n",
    "import random\n",
    "\n",
    "import torch\n",
    "import torch.nn as nn\n",
    "import torch.optim as optim\n",
    "from torch.utils.data import TensorDataset, DataLoader\n",
    "\n",
    "from dlsia.core import helpers, custom_losses, train_scripts\n",
    "from dlsia.core.networks import msdnet, tunet, tunet3plus, smsnet\n",
    "\n",
    "import matplotlib.pyplot as plt"
   ]
  },
  {
   "cell_type": "markdown",
   "id": "silver-clear",
   "metadata": {
    "papermill": {
     "duration": 0.006309,
     "end_time": "2023-02-06T07:10:41.177392",
     "exception": false,
     "start_time": "2023-02-06T07:10:41.171083",
     "status": "completed"
    },
    "tags": []
   },
   "source": [
    "## Create & load data \n",
    "\n",
    "### Generate random data\n",
    "\n",
    "Let's build some random data: 40 instances of single channel, 36-by-36 images."
   ]
  },
  {
   "cell_type": "code",
   "execution_count": 2,
   "id": "standing-fraction",
   "metadata": {
    "execution": {
     "iopub.execute_input": "2023-02-06T07:10:41.188121Z",
     "iopub.status.busy": "2023-02-06T07:10:41.187700Z",
     "iopub.status.idle": "2023-02-06T07:10:41.202313Z",
     "shell.execute_reply": "2023-02-06T07:10:41.201144Z"
    },
    "papermill": {
     "duration": 0.022482,
     "end_time": "2023-02-06T07:10:41.205380",
     "exception": false,
     "start_time": "2023-02-06T07:10:41.182898",
     "status": "completed"
    },
    "tags": []
   },
   "outputs": [],
   "source": [
    "n_imgs = 40\n",
    "n_channels = 1\n",
    "n_xy = 36\n",
    "\n",
    "random_data1 = torch.rand((n_imgs, n_channels, n_xy, n_xy))\n",
    "k = nn.Conv2d(in_channels=1, out_channels=1, kernel_size=11, stride=1, padding=5)\n",
    "random_data2 = torch.rand((n_imgs, n_channels, n_xy, n_xy))\n",
    "random_data_gt = k(random_data1) \n",
    "random_data_obs = k(random_data1)  + random_data2*0.50\n",
    "K = 3\n",
    "random_data_obs = random_data_obs[:,:,K:32+K,K:32+K].detach()\n",
    "random_data_gt = random_data_gt[:,:,K:32+K,K:32+K].detach()\n",
    "\n",
    "train_x = random_data_obs[:20,...] \n",
    "train_y = random_data_gt[:20,...]\n",
    "test_x = random_data_obs[20:,...]\n",
    "test_y = random_data_gt[20:,...]"
   ]
  },
  {
   "cell_type": "markdown",
   "id": "a02de733",
   "metadata": {
    "papermill": {
     "duration": 0.006222,
     "end_time": "2023-02-06T07:10:41.220315",
     "exception": false,
     "start_time": "2023-02-06T07:10:41.214093",
     "status": "completed"
    },
    "tags": []
   },
   "source": [
    "### Prep data \n",
    "\n",
    "We cast data as tensors for dlsia pipeline ingestion by making liberal use of the PyTorch Dataloader. This allows us to easy handle and iterative load data into the networks and models. "
   ]
  },
  {
   "cell_type": "code",
   "execution_count": 3,
   "id": "fd74a497",
   "metadata": {
    "execution": {
     "iopub.execute_input": "2023-02-06T07:10:41.237080Z",
     "iopub.status.busy": "2023-02-06T07:10:41.236273Z",
     "iopub.status.idle": "2023-02-06T07:10:41.244022Z",
     "shell.execute_reply": "2023-02-06T07:10:41.242876Z"
    },
    "papermill": {
     "duration": 0.01884,
     "end_time": "2023-02-06T07:10:41.246414",
     "exception": false,
     "start_time": "2023-02-06T07:10:41.227574",
     "status": "completed"
    },
    "tags": []
   },
   "outputs": [],
   "source": [
    "train_set = TensorDataset( train_x, train_y)\n",
    "test_set = TensorDataset( train_x, train_y)\n",
    "\n",
    "# Specify batch sizes\n",
    "batch_size_train = 20 \n",
    "batch_size_test  = 20\n",
    "\n",
    "# Set Dataloader parameters (Note: we randomly shuffle the training set upon each pass)\n",
    "train_loader_params = {'batch_size': batch_size_train,'shuffle': True}\n",
    "test_loader_params  = {'batch_size': batch_size_test, 'shuffle': False}\n",
    "\n",
    "# Build Dataloaders\n",
    "train_loader = DataLoader(train_set, **train_loader_params)\n",
    "test_loader  = DataLoader(test_set, **test_loader_params)"
   ]
  },
  {
   "cell_type": "markdown",
   "id": "surprising-estate",
   "metadata": {
    "papermill": {
     "duration": 0.005352,
     "end_time": "2023-02-06T07:10:41.258324",
     "exception": false,
     "start_time": "2023-02-06T07:10:41.252972",
     "status": "completed"
    },
    "tags": []
   },
   "source": [
    "## Construct Networks\n",
    "\n",
    "dlsia offers a variety of different convolutional neural network architectures."
   ]
  },
  {
   "cell_type": "markdown",
   "id": "d667cef7",
   "metadata": {
    "papermill": {
     "duration": 0.003545,
     "end_time": "2023-02-06T07:10:41.266962",
     "exception": false,
     "start_time": "2023-02-06T07:10:41.263417",
     "status": "completed"
    },
    "tags": []
   },
   "source": [
    "### MSDNet\n",
    "\n",
    "Mixed-scale Dense networks that probe different length scales using dilated convolutions."
   ]
  },
  {
   "cell_type": "code",
   "execution_count": 4,
   "id": "amended-declaration",
   "metadata": {
    "execution": {
     "iopub.execute_input": "2023-02-06T07:10:41.275958Z",
     "iopub.status.busy": "2023-02-06T07:10:41.275242Z",
     "iopub.status.idle": "2023-02-06T07:10:41.300266Z",
     "shell.execute_reply": "2023-02-06T07:10:41.299533Z"
    },
    "papermill": {
     "duration": 0.032416,
     "end_time": "2023-02-06T07:10:41.302938",
     "exception": false,
     "start_time": "2023-02-06T07:10:41.270522",
     "status": "completed"
    },
    "tags": []
   },
   "outputs": [],
   "source": [
    "msdnet_model = msdnet.MixedScaleDenseNetwork(in_channels = 1,\n",
    "                                             out_channels = 1, \n",
    "                                             num_layers=40)"
   ]
  },
  {
   "cell_type": "markdown",
   "id": "6c5366c0",
   "metadata": {
    "papermill": {
     "duration": 0.008495,
     "end_time": "2023-02-06T07:10:41.321243",
     "exception": false,
     "start_time": "2023-02-06T07:10:41.312748",
     "status": "completed"
    },
    "tags": []
   },
   "source": [
    "### TUNet\n",
    "\n",
    "Tuneable U-Nets with a variety of user-customizable parameters."
   ]
  },
  {
   "cell_type": "code",
   "execution_count": 5,
   "id": "f50113e7",
   "metadata": {
    "execution": {
     "iopub.execute_input": "2023-02-06T07:10:41.335686Z",
     "iopub.status.busy": "2023-02-06T07:10:41.335154Z",
     "iopub.status.idle": "2023-02-06T07:10:41.348290Z",
     "shell.execute_reply": "2023-02-06T07:10:41.347123Z"
    },
    "papermill": {
     "duration": 0.022287,
     "end_time": "2023-02-06T07:10:41.350241",
     "exception": false,
     "start_time": "2023-02-06T07:10:41.327954",
     "status": "completed"
    },
    "tags": []
   },
   "outputs": [],
   "source": [
    "tunet_model = tunet.TUNet(image_shape=(32,32),\n",
    "                          in_channels=1,\n",
    "                          out_channels=1,\n",
    "                          depth=3, \n",
    "                          base_channels=10)"
   ]
  },
  {
   "cell_type": "markdown",
   "id": "bc599d92",
   "metadata": {
    "papermill": {
     "duration": 0.007098,
     "end_time": "2023-02-06T07:10:41.362793",
     "exception": false,
     "start_time": "2023-02-06T07:10:41.355695",
     "status": "completed"
    },
    "tags": []
   },
   "source": [
    "### TUNet3+\n",
    "\n",
    "A newer UNet modification connecting all encoder and decoder layers via carefully crafted upsampling/downsampling/convolution/concatenation bundles."
   ]
  },
  {
   "cell_type": "code",
   "execution_count": 6,
   "id": "dbab770f",
   "metadata": {
    "execution": {
     "iopub.execute_input": "2023-02-06T07:10:41.374779Z",
     "iopub.status.busy": "2023-02-06T07:10:41.374254Z",
     "iopub.status.idle": "2023-02-06T07:10:41.389997Z",
     "shell.execute_reply": "2023-02-06T07:10:41.388723Z"
    },
    "papermill": {
     "duration": 0.023903,
     "end_time": "2023-02-06T07:10:41.391795",
     "exception": false,
     "start_time": "2023-02-06T07:10:41.367892",
     "status": "completed"
    },
    "tags": []
   },
   "outputs": [],
   "source": [
    "tunet3plus_model = tunet3plus.TUNet3Plus(image_shape=(32,32),\n",
    "                                         in_channels=1,\n",
    "                                         out_channels=1,\n",
    "                                         depth=3,\n",
    "                                         base_channels=10)"
   ]
  },
  {
   "cell_type": "markdown",
   "id": "66b26bf2",
   "metadata": {
    "papermill": {
     "duration": 0.005646,
     "end_time": "2023-02-06T07:10:41.402225",
     "exception": false,
     "start_time": "2023-02-06T07:10:41.396579",
     "status": "completed"
    },
    "tags": []
   },
   "source": [
    "### SMSNets\n",
    "\n",
    "Sparse Mixed-Scale Networks that lean, randomly & sparsely connected variants of MSDNets."
   ]
  },
  {
   "cell_type": "code",
   "execution_count": 7,
   "id": "67af01b5",
   "metadata": {
    "execution": {
     "iopub.execute_input": "2023-02-06T07:10:41.412514Z",
     "iopub.status.busy": "2023-02-06T07:10:41.411975Z",
     "iopub.status.idle": "2023-02-06T07:10:41.494744Z",
     "shell.execute_reply": "2023-02-06T07:10:41.494284Z"
    },
    "papermill": {
     "duration": 0.089421,
     "end_time": "2023-02-06T07:10:41.496184",
     "exception": false,
     "start_time": "2023-02-06T07:10:41.406763",
     "status": "completed"
    },
    "tags": []
   },
   "outputs": [],
   "source": [
    "smsnet_model = smsnet.random_SMS_network(in_channels=1, \n",
    "                                         out_channels=1, \n",
    "                                         hidden_out_channels=[1],\n",
    "                                         layers=40, \n",
    "                                         dilation_choices=[1,2,3,4],\n",
    "                                         #layer_probabilities=layer_probabilities,\n",
    "                                         network_type=\"Regression\")"
   ]
  },
  {
   "cell_type": "code",
   "execution_count": 8,
   "id": "0f19dbb5",
   "metadata": {
    "execution": {
     "iopub.execute_input": "2023-02-06T07:10:41.505867Z",
     "iopub.status.busy": "2023-02-06T07:10:41.505541Z",
     "iopub.status.idle": "2023-02-06T07:10:41.512160Z",
     "shell.execute_reply": "2023-02-06T07:10:41.511682Z"
    },
    "papermill": {
     "duration": 0.012472,
     "end_time": "2023-02-06T07:10:41.513106",
     "exception": false,
     "start_time": "2023-02-06T07:10:41.500634",
     "status": "completed"
    },
    "tags": []
   },
   "outputs": [
    {
     "name": "stdout",
     "output_type": "stream",
     "text": [
      "MSDNet :      9182 parameters\n",
      "TUNet :       46131 parameters\n",
      "TUNet3plus :  49421 parameters\n",
      "SMSNet :      735 parameters\n"
     ]
    }
   ],
   "source": [
    "# View number of learnable parameters in each network\n",
    "print(\"MSDNet :     \", helpers.count_parameters(msdnet_model), \"parameters\")\n",
    "print(\"TUNet :      \", helpers.count_parameters(tunet_model), \"parameters\")\n",
    "print(\"TUNet3plus : \", helpers.count_parameters(tunet3plus_model), \"parameters\")\n",
    "print(\"SMSNet :     \", helpers.count_parameters(smsnet_model), \"parameters\")"
   ]
  },
  {
   "cell_type": "markdown",
   "id": "092be1dc",
   "metadata": {
    "papermill": {
     "duration": 0.003899,
     "end_time": "2023-02-06T07:10:41.519562",
     "exception": false,
     "start_time": "2023-02-06T07:10:41.515663",
     "status": "completed"
    },
    "tags": []
   },
   "source": [
    "## Training\n",
    "\n",
    "### Training parameters\n",
    "\n",
    "Training hyperparameters are chosen"
   ]
  },
  {
   "cell_type": "code",
   "execution_count": 9,
   "id": "metallic-split",
   "metadata": {
    "execution": {
     "iopub.execute_input": "2023-02-06T07:10:41.527436Z",
     "iopub.status.busy": "2023-02-06T07:10:41.527244Z",
     "iopub.status.idle": "2023-02-06T07:10:41.531638Z",
     "shell.execute_reply": "2023-02-06T07:10:41.531273Z"
    },
    "papermill": {
     "duration": 0.008887,
     "end_time": "2023-02-06T07:10:41.532575",
     "exception": false,
     "start_time": "2023-02-06T07:10:41.523688",
     "status": "completed"
    },
    "tags": []
   },
   "outputs": [
    {
     "name": "stdout",
     "output_type": "stream",
     "text": [
      "Device we will compute on:  cpu\n"
     ]
    }
   ],
   "source": [
    "epochs = 30             \n",
    "criterion = nn.MSELoss()  \n",
    "learning_rate = 1e-2\n",
    "\n",
    "# Define optimizers, one per network\n",
    "optimizer_msd        = optim.Adam(msdnet_model.parameters(), lr=learning_rate)\n",
    "optimizer_tunet      = optim.Adam(tunet_model.parameters(), lr=learning_rate)\n",
    "optimizer_tunet3plus = optim.Adam(tunet3plus_model.parameters(), lr=learning_rate)\n",
    "optimizer_smsnet     = optim.Adam(smsnet_model.parameters(), lr=learning_rate)\n",
    "\n",
    "device = \"cpu\" \n",
    "#device = helpers.get_device()  # Uncomment to get detected GPU\n",
    "\n",
    "print('Device we will compute on: ', device)   # cuda:0 for GPU. Else, CPU"
   ]
  },
  {
   "cell_type": "markdown",
   "id": "67a6b171",
   "metadata": {
    "papermill": {
     "duration": 0.00327,
     "end_time": "2023-02-06T07:10:41.538421",
     "exception": false,
     "start_time": "2023-02-06T07:10:41.535151",
     "status": "completed"
    },
    "tags": []
   },
   "source": [
    "### Training loops"
   ]
  },
  {
   "cell_type": "code",
   "execution_count": 10,
   "id": "worse-minnesota",
   "metadata": {
    "execution": {
     "iopub.execute_input": "2023-02-06T07:10:41.546322Z",
     "iopub.status.busy": "2023-02-06T07:10:41.546006Z",
     "iopub.status.idle": "2023-02-06T07:10:44.202951Z",
     "shell.execute_reply": "2023-02-06T07:10:44.202565Z"
    },
    "papermill": {
     "duration": 2.66217,
     "end_time": "2023-02-06T07:10:44.203955",
     "exception": false,
     "start_time": "2023-02-06T07:10:41.541785",
     "status": "completed"
    },
    "tags": []
   },
   "outputs": [
    {
     "name": "stdout",
     "output_type": "stream",
     "text": [
      "Epoch 10 of 30 | Learning rate 1.000e-02\n",
      "Training Loss: 3.0587e-02 | Validation Loss: 2.9307e-02\n",
      "Training CC: 0.2502   Validation CC  : 0.2717 \n"
     ]
    },
    {
     "name": "stdout",
     "output_type": "stream",
     "text": [
      "Epoch 20 of 30 | Learning rate 1.000e-02\n",
      "Training Loss: 2.5751e-02 | Validation Loss: 2.5685e-02\n",
      "Training CC: 0.3672   Validation CC  : 0.3708 \n"
     ]
    },
    {
     "name": "stdout",
     "output_type": "stream",
     "text": [
      "Epoch 30 of 30 | Learning rate 1.000e-02\n",
      "Training Loss: 2.4834e-02 | Validation Loss: 2.4734e-02\n",
      "Training CC: 0.4068   Validation CC  : 0.4111 \n"
     ]
    }
   ],
   "source": [
    "msdnet_model.to(device)   \n",
    "msdnet_model, results = train_scripts.train_regression(msdnet_model,\n",
    "                                                       train_loader,\n",
    "                                                       test_loader,\n",
    "                                                       epochs,\n",
    "                                                       criterion,\n",
    "                                                       optimizer_msd,\n",
    "                                                       device,\n",
    "                                                       show=10)\n",
    "msdnet_model = msdnet_model.cpu()\n",
    "\n",
    "# clear out unnecessary variables from device (GPU) memory\n",
    "#torch.cuda.empty_cache()"
   ]
  },
  {
   "cell_type": "code",
   "execution_count": 11,
   "id": "documented-tribe",
   "metadata": {
    "execution": {
     "iopub.execute_input": "2023-02-06T07:10:44.210745Z",
     "iopub.status.busy": "2023-02-06T07:10:44.210491Z",
     "iopub.status.idle": "2023-02-06T07:10:44.873613Z",
     "shell.execute_reply": "2023-02-06T07:10:44.873224Z"
    },
    "papermill": {
     "duration": 0.667413,
     "end_time": "2023-02-06T07:10:44.874443",
     "exception": false,
     "start_time": "2023-02-06T07:10:44.207030",
     "status": "completed"
    },
    "tags": []
   },
   "outputs": [
    {
     "name": "stdout",
     "output_type": "stream",
     "text": [
      "Epoch 10 of 30 | Learning rate 1.000e-02\n",
      "Training Loss: 2.1023e-02 | Validation Loss: 2.0195e-02\n",
      "Training CC: 0.5513   Validation CC  : 0.5673 \n"
     ]
    },
    {
     "name": "stdout",
     "output_type": "stream",
     "text": [
      "Epoch 20 of 30 | Learning rate 1.000e-02\n",
      "Training Loss: 1.6087e-02 | Validation Loss: 1.5932e-02\n",
      "Training CC: 0.6799   Validation CC  : 0.6858 \n"
     ]
    },
    {
     "name": "stdout",
     "output_type": "stream",
     "text": [
      "Epoch 30 of 30 | Learning rate 1.000e-02\n",
      "Training Loss: 1.4304e-02 | Validation Loss: 1.4126e-02\n",
      "Training CC: 0.7219   Validation CC  : 0.7252 \n"
     ]
    }
   ],
   "source": [
    "tunet_model.to(device)   \n",
    "tunet_model, results = train_scripts.train_regression(tunet_model,\n",
    "                                                      train_loader,\n",
    "                                                      test_loader,\n",
    "                                                      epochs,\n",
    "                                                      criterion,\n",
    "                                                      optimizer_tunet,\n",
    "                                                      device,\n",
    "                                                      show=10)\n",
    "tunet_model = tunet_model.cpu()"
   ]
  },
  {
   "cell_type": "code",
   "execution_count": 12,
   "id": "baking-nigeria",
   "metadata": {
    "execution": {
     "iopub.execute_input": "2023-02-06T07:10:44.881275Z",
     "iopub.status.busy": "2023-02-06T07:10:44.881073Z",
     "iopub.status.idle": "2023-02-06T07:10:45.792766Z",
     "shell.execute_reply": "2023-02-06T07:10:45.792365Z"
    },
    "papermill": {
     "duration": 0.916035,
     "end_time": "2023-02-06T07:10:45.793693",
     "exception": false,
     "start_time": "2023-02-06T07:10:44.877658",
     "status": "completed"
    },
    "tags": []
   },
   "outputs": [
    {
     "name": "stdout",
     "output_type": "stream",
     "text": [
      "Epoch 10 of 30 | Learning rate 1.000e-02\n",
      "Training Loss: 2.9115e-02 | Validation Loss: 2.7833e-02\n",
      "Training CC: 0.4941   Validation CC  : 0.5236 \n"
     ]
    },
    {
     "name": "stdout",
     "output_type": "stream",
     "text": [
      "Epoch 20 of 30 | Learning rate 1.000e-02\n",
      "Training Loss: 1.7936e-02 | Validation Loss: 1.7812e-02\n",
      "Training CC: 0.6395   Validation CC  : 0.6462 \n"
     ]
    },
    {
     "name": "stdout",
     "output_type": "stream",
     "text": [
      "Epoch 30 of 30 | Learning rate 1.000e-02\n",
      "Training Loss: 1.5100e-02 | Validation Loss: 1.4969e-02\n",
      "Training CC: 0.7016   Validation CC  : 0.7050 \n"
     ]
    }
   ],
   "source": [
    "tunet3plus_model.to(device)   \n",
    "tunet3plus_model, results = train_scripts.train_regression(tunet3plus_model,\n",
    "                                                           train_loader,\n",
    "                                                           test_loader,\n",
    "                                                           epochs,\n",
    "                                                           criterion,\n",
    "                                                           optimizer_tunet3plus,\n",
    "                                                           device,\n",
    "                                                           show=10)\n",
    "tunet3plus_model = tunet3plus_model.cpu()"
   ]
  },
  {
   "cell_type": "code",
   "execution_count": 13,
   "id": "encouraging-recovery",
   "metadata": {
    "execution": {
     "iopub.execute_input": "2023-02-06T07:10:45.800588Z",
     "iopub.status.busy": "2023-02-06T07:10:45.800262Z",
     "iopub.status.idle": "2023-02-06T07:10:47.549924Z",
     "shell.execute_reply": "2023-02-06T07:10:47.549527Z"
    },
    "papermill": {
     "duration": 1.754017,
     "end_time": "2023-02-06T07:10:47.550883",
     "exception": false,
     "start_time": "2023-02-06T07:10:45.796866",
     "status": "completed"
    },
    "tags": []
   },
   "outputs": [
    {
     "name": "stdout",
     "output_type": "stream",
     "text": [
      "Epoch 10 of 30 | Learning rate 1.000e-02\n",
      "Training Loss: 1.9555e-02 | Validation Loss: 1.8536e-02\n",
      "Training CC: 0.5966   Validation CC  : 0.6203 \n"
     ]
    },
    {
     "name": "stdout",
     "output_type": "stream",
     "text": [
      "Epoch 20 of 30 | Learning rate 1.000e-02\n",
      "Training Loss: 1.5011e-02 | Validation Loss: 1.4870e-02\n",
      "Training CC: 0.7039   Validation CC  : 0.7076 \n"
     ]
    },
    {
     "name": "stdout",
     "output_type": "stream",
     "text": [
      "Epoch 30 of 30 | Learning rate 1.000e-02\n",
      "Training Loss: 1.3773e-02 | Validation Loss: 1.3678e-02\n",
      "Training CC: 0.7334   Validation CC  : 0.7355 \n"
     ]
    }
   ],
   "source": [
    "smsnet_model.to(device)   \n",
    "smsnet_model, results = train_scripts.train_regression(smsnet_model,\n",
    "                                                       train_loader,\n",
    "                                                       test_loader,\n",
    "                                                       epochs,\n",
    "                                                       criterion,\n",
    "                                                       optimizer_smsnet,\n",
    "                                                       device,\n",
    "                                                       show=10)\n",
    "smsnet_model = smsnet_model.cpu()"
   ]
  },
  {
   "cell_type": "markdown",
   "id": "1bfc743f",
   "metadata": {
    "papermill": {
     "duration": 0.002845,
     "end_time": "2023-02-06T07:10:47.556955",
     "exception": false,
     "start_time": "2023-02-06T07:10:47.554110",
     "status": "completed"
    },
    "tags": []
   },
   "source": [
    "## Save Networks\n",
    "\n",
    "Each network library contains submodule for saving the trained networks. Each instance saves in a .pt file the following:\n",
    "\n",
    "- model's state_dict: the network parameters learned through optimization/minimization during training,\n",
    "- model's topo_dict: the list of network hyperparameters needed to initialize the same architecture.\n",
    "\n",
    "This follows standard PyTorch practice; instead of saving massive trained networks, the pickled weights may simply be loaded into a freshly created network."
   ]
  },
  {
   "cell_type": "code",
   "execution_count": 14,
   "id": "young-plymouth",
   "metadata": {
    "execution": {
     "iopub.execute_input": "2023-02-06T07:10:47.563617Z",
     "iopub.status.busy": "2023-02-06T07:10:47.563367Z",
     "iopub.status.idle": "2023-02-06T07:10:47.586203Z",
     "shell.execute_reply": "2023-02-06T07:10:47.585372Z"
    },
    "papermill": {
     "duration": 0.028293,
     "end_time": "2023-02-06T07:10:47.588138",
     "exception": false,
     "start_time": "2023-02-06T07:10:47.559845",
     "status": "completed"
    },
    "tags": []
   },
   "outputs": [],
   "source": [
    "msdnet_model.save_network_parameters(\"this_msdnet.pt\")\n",
    "smsnet_model.save_network_parameters(\"this_smsnet.pt\")\n",
    "tunet_model.save_network_parameters(\"this_tunet.pt\")"
   ]
  },
  {
   "cell_type": "markdown",
   "id": "046ced18",
   "metadata": {
    "papermill": {
     "duration": 0.006488,
     "end_time": "2023-02-06T07:10:47.603744",
     "exception": false,
     "start_time": "2023-02-06T07:10:47.597256",
     "status": "completed"
    },
    "tags": []
   },
   "source": [
    "## Load networks from file\n",
    "\n",
    "Each network library loads in the .pt file containing architecture-governing hyperparameters and learned weights."
   ]
  },
  {
   "cell_type": "code",
   "execution_count": 15,
   "id": "separate-coupon",
   "metadata": {
    "execution": {
     "iopub.execute_input": "2023-02-06T07:10:47.614928Z",
     "iopub.status.busy": "2023-02-06T07:10:47.614550Z",
     "iopub.status.idle": "2023-02-06T07:10:47.681591Z",
     "shell.execute_reply": "2023-02-06T07:10:47.680561Z"
    },
    "papermill": {
     "duration": 0.073302,
     "end_time": "2023-02-06T07:10:47.682812",
     "exception": false,
     "start_time": "2023-02-06T07:10:47.609510",
     "status": "completed"
    },
    "tags": []
   },
   "outputs": [],
   "source": [
    "copy_msdnet = msdnet.MSDNetwork_from_file(\"this_msdnet.pt\")\n",
    "copy_smsnet = smsnet.SMSNetwork_from_file(\"this_smsnet.pt\")\n",
    "copy_tunet = tunet.TUNetwork_from_file(\"this_tunet.pt\")"
   ]
  },
  {
   "cell_type": "markdown",
   "id": "fd482ffe",
   "metadata": {
    "papermill": {
     "duration": 0.002788,
     "end_time": "2023-02-06T07:10:47.688535",
     "exception": false,
     "start_time": "2023-02-06T07:10:47.685747",
     "status": "completed"
    },
    "tags": []
   },
   "source": [
    "### Verify loaded networks\n",
    "\n",
    "Network copies are loaded from file and checked against the originals."
   ]
  },
  {
   "cell_type": "code",
   "execution_count": 16,
   "id": "accessory-alcohol",
   "metadata": {
    "execution": {
     "iopub.execute_input": "2023-02-06T07:10:47.696007Z",
     "iopub.status.busy": "2023-02-06T07:10:47.695459Z",
     "iopub.status.idle": "2023-02-06T07:10:47.774630Z",
     "shell.execute_reply": "2023-02-06T07:10:47.774169Z"
    },
    "papermill": {
     "duration": 0.084594,
     "end_time": "2023-02-06T07:10:47.775956",
     "exception": false,
     "start_time": "2023-02-06T07:10:47.691362",
     "status": "completed"
    },
    "tags": []
   },
   "outputs": [],
   "source": [
    "with torch.no_grad():\n",
    "    r1 = msdnet_model(test_x)\n",
    "    r2 = copy_msdnet(test_x)\n",
    "delta = r1-r2\n",
    "assert torch.max(torch.abs(delta)) < 1e-8"
   ]
  },
  {
   "cell_type": "code",
   "execution_count": 17,
   "id": "integral-warehouse",
   "metadata": {
    "execution": {
     "iopub.execute_input": "2023-02-06T07:10:47.783037Z",
     "iopub.status.busy": "2023-02-06T07:10:47.782781Z",
     "iopub.status.idle": "2023-02-06T07:10:47.812774Z",
     "shell.execute_reply": "2023-02-06T07:10:47.812366Z"
    },
    "papermill": {
     "duration": 0.034878,
     "end_time": "2023-02-06T07:10:47.813978",
     "exception": false,
     "start_time": "2023-02-06T07:10:47.779100",
     "status": "completed"
    },
    "tags": []
   },
   "outputs": [],
   "source": [
    "with torch.no_grad():\n",
    "    r1 = smsnet_model(test_x)\n",
    "    r2 = copy_smsnet(test_x)\n",
    "delta = r1-r2\n",
    "assert torch.max(torch.abs(delta)) < 1e-8"
   ]
  },
  {
   "cell_type": "code",
   "execution_count": 18,
   "id": "hindu-jungle",
   "metadata": {
    "execution": {
     "iopub.execute_input": "2023-02-06T07:10:47.822748Z",
     "iopub.status.busy": "2023-02-06T07:10:47.822498Z",
     "iopub.status.idle": "2023-02-06T07:10:47.835977Z",
     "shell.execute_reply": "2023-02-06T07:10:47.835539Z"
    },
    "papermill": {
     "duration": 0.019616,
     "end_time": "2023-02-06T07:10:47.837304",
     "exception": false,
     "start_time": "2023-02-06T07:10:47.817688",
     "status": "completed"
    },
    "tags": []
   },
   "outputs": [],
   "source": [
    "with torch.no_grad():\n",
    "    r1 = tunet_model(test_x)\n",
    "    r2 = copy_tunet(test_x)\n",
    "delta = r1-r2\n",
    "assert torch.max(torch.abs(delta)) < 1e-8"
   ]
  }
 ],
 "metadata": {
  "kernelspec": {
   "display_name": "Python 3 (ipykernel)",
   "language": "python",
   "name": "python3"
  },
  "language_info": {
   "codemirror_mode": {
    "name": "ipython",
    "version": 3
   },
   "file_extension": ".py",
   "mimetype": "text/x-python",
   "name": "python",
   "nbconvert_exporter": "python",
   "pygments_lexer": "ipython3",
   "version": "3.9.16"
  },
  "papermill": {
   "default_parameters": {},
   "duration": 9.594007,
   "end_time": "2023-02-06T07:10:48.459045",
   "environment_variables": {},
   "exception": null,
   "input_path": "saving_loading_networks.ipynb",
   "output_path": "saving_loading_networks.ipynb",
   "parameters": {},
   "start_time": "2023-02-06T07:10:38.865038",
   "version": "2.4.0"
  }
 },
 "nbformat": 4,
 "nbformat_minor": 5
}