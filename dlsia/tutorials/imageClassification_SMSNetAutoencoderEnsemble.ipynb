{
 "cells": [
  {
   "cell_type": "markdown",
   "metadata": {},
   "source": [
    "<img src=\"../../docs/images/dlsia.png\" width=600 />\n",
    "\n",
    "# Image classification with Randomized Sparse Mixed Scale Autoencoders, regularized by the availability of image labels\n",
    "\n",
    "Authors: Eric Roberts and Petrus Zwart\n",
    "\n",
    "E-mail: PHZwart@lbl.gov, EJRoberts@lbl.gov\n",
    "___\n",
    "\n",
    "This notebook highlights some basic functionality with the dlsia package.\n",
    "\n",
    "In this notebook we setup autoencoders, with the goal to explore the latent space it generates. In this case however, we will guide the formation of the latent space by including labels to specific images.\n",
    "\n",
    "The autoencoders we use are based on randomly construct convolutional neural networks in which we can control the number of parameters it contains. This type of control can be beneficial when the amount of data on which one can train a network is not very voluminous, as it allows for better handles on overfitting.\n",
    "\n",
    "The constructed latent space can be used for unsupervised and supervised exploration methods. In our limited experience, the classifiers that are trained come out of the data are reasonable, but can be improved upon using classic classification methods, as shown further.\n",
    "___"
   ]
  },
  {
   "cell_type": "code",
   "execution_count": 3,
   "metadata": {},
   "outputs": [],
   "source": [
    "import numpy as np\n",
    "\n",
    "import torch\n",
    "import torch.nn as nn\n",
    "import torch.optim as optim\n",
    "\n",
    "from dlsia.core import helpers\n",
    "from dlsia.core import train_scripts\n",
    "from dlsia.core.networks import baggins\n",
    "from dlsia.core.networks import sparsenet\n",
    "from dlsia.test_data.two_d import random_shapes\n",
    "from dlsia.core.utils import latent_space_viewer\n",
    "from dlsia.viz_tools import plots\n",
    "from dlsia.viz_tools import plot_autoencoder_image_classification as paic\n",
    "\n",
    "\n",
    "\n",
    "import matplotlib.pyplot as plt\n",
    "import matplotlib\n",
    "from torch.utils.data import DataLoader, TensorDataset\n",
    "import einops\n",
    "import umap"
   ]
  },
  {
   "cell_type": "markdown",
   "metadata": {},
   "source": [
    "## Create data\n",
    "\n",
    "Using our dlsia in-house data generator, we produce a number of noisy \"shapes\" images consisting of single triangles, rectangles, circles, and donuts/annuli, each assigned a different class. In addition to augmenting with random orientations and sizes, each raw, ground truth image will be bundled with its corresponding noisy and binary mask.\n",
    "\n",
    "#### Parameters to toggle:\n",
    "- n_train : number of ground truth/noisy/label image bundles to generate for training\n",
    "- n_labeled : number of images with labels\n",
    "- n_test : number of ground truth/noisy/label image bundles to generate for testing\n",
    "- noise_level :  per-pixel noise drawn from a continuous uniform distribution (cut-off above at 1)\n",
    "- nxy : size of individual images"
   ]
  },
  {
   "cell_type": "code",
   "execution_count": 4,
   "metadata": {},
   "outputs": [],
   "source": [
    "n_train = 400\n",
    "n_labeled = 200\n",
    "\n",
    "n_test  = 400\n",
    "noise_level = 0.50\n",
    "nxy = 32\n",
    "\n",
    "train_data = random_shapes.build_random_shape_set_numpy(n_imgs=n_train,\n",
    "                                                        noise_level=noise_level,\n",
    "                                                        n_xy=nxy)\n",
    "test_data = random_shapes.build_random_shape_set_numpy(n_imgs=n_test,\n",
    "                                                       noise_level=noise_level,\n",
    "                                                       n_xy=nxy)\n"
   ]
  },
  {
   "cell_type": "markdown",
   "metadata": {},
   "source": [
    "## View shapes data"
   ]
  },
  {
   "cell_type": "code",
   "execution_count": null,
   "metadata": {},
   "outputs": [],
   "source": [
    "plots.plot_shapes_data_numpy(train_data)"
   ]
  },
  {
   "cell_type": "markdown",
   "metadata": {},
   "source": [
    "### Dataloader class\n",
    "\n",
    "Here we cast all images from numpy arrays and the PyTorch Dataloader class for easy handling and iterative loading of data into the networks and models. \n",
    "\n",
    "Once again, to reduce/increase memory consumption, tune the batch_size parameter."
   ]
  },
  {
   "cell_type": "code",
   "execution_count": 7,
   "metadata": {},
   "outputs": [],
   "source": [
    "which_one = \"Noisy\" #\"GroundTruth\" \n",
    "\n",
    "batch_size = 100\n",
    "\n",
    "loader_params = {'batch_size': batch_size, \n",
    "                 'shuffle': True} \n",
    "train_imgs = torch.Tensor(train_data[which_one]).unsqueeze(1)\n",
    "train_labels = torch.Tensor(train_data[\"Label\"]).unsqueeze(1)-1\n",
    "train_labels[n_labeled:]=-1 # remove some labels to highlight 'mixed' training\n",
    "\n",
    "Ttrain_data = TensorDataset(train_imgs,train_labels)\n",
    "train_loader = DataLoader(Ttrain_data, **loader_params)\n",
    "\n",
    "loader_params = {'batch_size': batch_size, \n",
    "                 'shuffle': False} \n",
    "test_images = torch.Tensor(test_data[which_one]).unsqueeze(1)\n",
    "test_labels = torch.Tensor(test_data[\"Label\"]).unsqueeze(1)-1\n",
    "Ttest_data = TensorDataset( test_images, test_labels ) \n",
    "test_loader = DataLoader(Ttest_data, **loader_params)\n"
   ]
  },
  {
   "cell_type": "markdown",
   "metadata": {},
   "source": [
    "## Build SMSNet Autoencoders\n",
    "\n",
    "Define SMSNet (Sparse Mixed-Scale Network) Autoencoder architecture-governing hyperparameters here. "
   ]
  },
  {
   "cell_type": "markdown",
   "metadata": {},
   "source": [
    "### Hyperparameters\n",
    "\n",
    "There are a number of parameters to play with that impact the size of the random sparse mixed-scale Autoencoder:\n",
    "\n",
    "- latent_shape: the spatial footprint of the image in latent space. I don't recommend going below 4x4, because it interferes with the  dilation choices. This is a bit of a bug, we need to fix that.\n",
    "- out_channels: the number of channels of the latent image. Determines the dimension of latent space: (channels,latent_shape[-2], latent_shape[-1])\n",
    "- depth: the depth of the random sparse convolutional encoder / decoder\n",
    "- hidden channels: The number of channels put out per convolution. \n",
    "- max_degree / min_degree : This determines how many connections you have per node.\n",
    "    \n",
    "    \n",
    "Other parameters do not impact the size of the network dramatically / at all:\n",
    "\n",
    "- in_shape: determined by the input shape of the image.\n",
    "- dilations: the maximum dilation should not exceed the smallest image dimension.\n",
    "- alpha_range: determines the type of graphs (wide vs skinny). When alpha is large,the chances for skinny graphs to be generated increases. We don't know which parameter choice is best, so we randomize it's choice.\n",
    "- gamma_range: no effect unless the maximum degree and min_degree are far apart. We don't know which parameter choice is best, so we randomize it's choice.\n",
    "- pIL, pLO, IO: keep as is. \n",
    "- stride_base: make sure your latent image size can be generated from the in_shape by repeated division of with this number.\n",
    "\n",
    "For the classification, specify the number of output classes. Here we work with 4 shapes, so set it to 4.\n",
    "The dropout rate governs the dropout layers in the classifier part of the networks and doesn't affect the autoencoder part."
   ]
  },
  {
   "cell_type": "markdown",
   "metadata": {},
   "source": [
    "### Initialize networks"
   ]
  },
  {
   "cell_type": "code",
   "execution_count": 9,
   "metadata": {
    "scrolled": false
   },
   "outputs": [
    {
     "name": "stdout",
     "output_type": "stream",
     "text": [
      "Training network  0\n",
      "Number of parameters in network 0 :  145324\n",
      "Training network  1\n",
      "Number of parameters in network 1 :  204689\n",
      "Training network  2\n",
      "Number of parameters in network 2 :  203916\n",
      "Training network  3\n",
      "Number of parameters in network 3 :  196594\n",
      "Training network  4\n",
      "Number of parameters in network 4 :  178282\n",
      "Training network  5\n",
      "Number of parameters in network 5 :  269593\n",
      "Training network  6\n",
      "Number of parameters in network 6 :  228877\n"
     ]
    }
   ],
   "source": [
    "autoencoders = []\n",
    "n_models = 7\n",
    "for ii in range(n_models):\n",
    "    print('Training network ', ii)\n",
    "    torch.cuda.empty_cache()\n",
    "    autoencoder = sparsenet.SparseAEC(in_shape=(32, 32), \n",
    "                                      latent_shape=(8, 8), \n",
    "                                      out_classes=4,\n",
    "                                      depth=40, \n",
    "                                      dilations=[1,2,3], \n",
    "                                      hidden_channels=3, \n",
    "                                      out_channels=2, \n",
    "                                      alpha_range=(0.0, 0.25), \n",
    "                                      gamma_range=(0.0, 0.5), \n",
    "                                      max_degree=10, min_degree=10, \n",
    "                                      pIL=0.15, \n",
    "                                      pLO=0.15, \n",
    "                                      IO=False, \n",
    "                                      stride_base=2, \n",
    "                                      dropout_rate=0.15,)\n",
    "    autoencoders.append(autoencoder)\n",
    "    pytorch_total_params = helpers.count_parameters(autoencoder)\n",
    "    print( \"Number of parameters in network\", ii , ': ', pytorch_total_params)"
   ]
  },
  {
   "cell_type": "markdown",
   "metadata": {},
   "source": [
    "## Train networks\n",
    "\n",
    "We specify the learning rate and the number of epochs for used for each training instance.\n",
    "\n",
    "**Note:** we define two optimizers: one for autoencoding and one for classification. They will be minimized in sequence (one after another) instead of building a single sum of targets. This avoids choosing the right weight. \n",
    "\n",
    "The mini-epochs are the number of epochs it passes over the whole data set to optimize a single target function. The autoencoder is done first."
   ]
  },
  {
   "cell_type": "code",
   "execution_count": 10,
   "metadata": {
    "scrolled": true
   },
   "outputs": [
    {
     "name": "stdout",
     "output_type": "stream",
     "text": [
      "Epoch    4,  of 20 >-*-< Mini Epoch     1 of 3 >-*-< Learning rate 1.000e-03\n",
      "** Autoencoding Losses **\n",
      "Training Loss    : 7.6078e-02 | Validation Loss      : 7.6025e-02\n",
      "Training CC      : 0.7900     | Validation CC        : 0.7865 \n",
      "** Classification Losses **    <---- Now Optimizing\n",
      "Training Loss    : 9.2222e-01 | Validation Loss      : 8.8710e-01\n",
      "Training F1 Macro: 0.6677     | Validation F1 Macro  : 0.7083 \n",
      "Training F1 Micro: 0.6766     | Validation F1 Micro  : 0.7025 \n",
      "\n",
      "Epoch    7,  of 20 >-*-< Mini Epoch     2 of 3 >-*-< Learning rate 1.000e-03\n",
      "** Autoencoding Losses **      <---- Now Optimizing\n",
      "Training Loss    : 4.3855e-02 | Validation Loss      : 4.2505e-02\n",
      "Training CC      : 0.8515     | Validation CC        : 0.8515 \n",
      "** Classification Losses **\n",
      "Training Loss    : 5.7237e-01 | Validation Loss      : 6.6970e-01\n",
      "Training F1 Macro: 0.7635     | Validation F1 Macro  : 0.7748 \n",
      "Training F1 Micro: 0.7550     | Validation F1 Micro  : 0.7775 \n",
      "\n",
      "Epoch   10,  of 20 >-*-< Mini Epoch     3 of 3 >-*-< Learning rate 1.000e-03\n",
      "** Autoencoding Losses **\n",
      "Training Loss    : 3.7693e-02 | Validation Loss      : 3.8720e-02\n",
      "Training CC      : 0.8713     | Validation CC        : 0.8659 \n",
      "** Classification Losses **    <---- Now Optimizing\n",
      "Training Loss    : 3.5208e-01 | Validation Loss      : 5.5368e-01\n",
      "Training F1 Macro: 0.8562     | Validation F1 Macro  : 0.7691 \n",
      "Training F1 Micro: 0.8497     | Validation F1 Micro  : 0.7625 \n",
      "\n",
      "Epoch   14,  of 20 >-*-< Mini Epoch     1 of 3 >-*-< Learning rate 1.000e-03\n",
      "** Autoencoding Losses **\n",
      "Training Loss    : 3.3036e-02 | Validation Loss      : 3.4005e-02\n",
      "Training CC      : 0.8879     | Validation CC        : 0.8828 \n",
      "** Classification Losses **    <---- Now Optimizing\n",
      "Training Loss    : 4.6871e-01 | Validation Loss      : 6.1115e-01\n",
      "Training F1 Macro: 0.7709     | Validation F1 Macro  : 0.7324 \n",
      "Training F1 Micro: 0.7644     | Validation F1 Micro  : 0.7275 \n",
      "\n",
      "Epoch   17,  of 20 >-*-< Mini Epoch     2 of 3 >-*-< Learning rate 1.000e-03\n",
      "** Autoencoding Losses **      <---- Now Optimizing\n",
      "Training Loss    : 3.2060e-02 | Validation Loss      : 3.2051e-02\n",
      "Training CC      : 0.8935     | Validation CC        : 0.8901 \n",
      "** Classification Losses **\n",
      "Training Loss    : 4.1311e-01 | Validation Loss      : 5.4992e-01\n",
      "Training F1 Macro: 0.8011     | Validation F1 Macro  : 0.7387 \n",
      "Training F1 Micro: 0.7912     | Validation F1 Micro  : 0.7400 \n",
      "\n",
      "Epoch   20,  of 20 >-*-< Mini Epoch     3 of 3 >-*-< Learning rate 1.000e-03\n",
      "** Autoencoding Losses **\n",
      "Training Loss    : 2.9693e-02 | Validation Loss      : 3.1104e-02\n",
      "Training CC      : 0.8999     | Validation CC        : 0.8935 \n",
      "** Classification Losses **    <---- Now Optimizing\n",
      "Training Loss    : 3.6497e-01 | Validation Loss      : 5.5683e-01\n",
      "Training F1 Macro: 0.8061     | Validation F1 Macro  : 0.7547 \n",
      "Training F1 Micro: 0.8008     | Validation F1 Micro  : 0.7550 \n",
      "\n",
      "Autoencoder input reconstruction performance\n"
     ]
    },
    {
     "data": {
      "application/vnd.plotly.v1+json": {
       "config": {
        "plotlyServerURL": "https://plot.ly"
       },
       "data": [
        {
         "line": {
          "color": "red"
         },
         "mode": "lines+markers",
         "name": "Training",
         "type": "scatter",
         "x": [
          0,
          1,
          2,
          3,
          4,
          5,
          6,
          7,
          8,
          9,
          10,
          11,
          12,
          13,
          14,
          15,
          16,
          17,
          18,
          19,
          20,
          21,
          22,
          23,
          24,
          25,
          26,
          27,
          28,
          29,
          30,
          31,
          32,
          33,
          34,
          35,
          36,
          37,
          38,
          39,
          40,
          41,
          42,
          43,
          44,
          45,
          46,
          47,
          48,
          49,
          50,
          51,
          52,
          53,
          54,
          55,
          56,
          57,
          58,
          59
         ],
         "xaxis": "x",
         "y": [
          1.4300430715084076,
          1.462035596370697,
          1.4521990716457367,
          1.3988414406776428,
          1.0627874732017517,
          0.8857228606939316,
          0.8464645445346832,
          0.8494318276643753,
          0.908829465508461,
          0.9222152382135391,
          0.7506447583436966,
          0.7118704617023468,
          0.6621994227170944,
          0.7044148743152618,
          0.6378075927495956,
          0.6365479677915573,
          0.6061573848128319,
          0.5674690455198288,
          0.5726282745599747,
          0.5723694562911987,
          0.5180371552705765,
          0.5826737955212593,
          0.520567275583744,
          0.4632968232035637,
          0.557409442961216,
          0.4200015589594841,
          0.46954071521759033,
          0.46458224952220917,
          0.4851618707180023,
          0.35208484530448914,
          0.4945423901081085,
          0.46143608540296555,
          0.4497573599219322,
          0.39882703870534897,
          0.4967854991555214,
          0.45646458119153976,
          0.31808240711688995,
          0.5301603376865387,
          0.4007920101284981,
          0.46871180832386017,
          0.3683790862560272,
          0.40629659593105316,
          0.46064864844083786,
          0.3921263888478279,
          0.3587976470589638,
          0.4404614418745041,
          0.40160299092531204,
          0.36400106549263,
          0.37949220836162567,
          0.4131092205643654,
          0.3211158886551857,
          0.43409061431884766,
          0.3703027367591858,
          0.44629988074302673,
          0.39963438361883163,
          0.46636439859867096,
          0.4243721514940262,
          0.39542411267757416,
          0.3643505573272705,
          0.3649732396006584
         ],
         "yaxis": "y"
        },
        {
         "line": {
          "color": "blue"
         },
         "mode": "lines+markers",
         "name": "Validation",
         "type": "scatter",
         "x": [
          0,
          1,
          2,
          3,
          4,
          5,
          6,
          7,
          8,
          9,
          10,
          11,
          12,
          13,
          14,
          15,
          16,
          17,
          18,
          19,
          20,
          21,
          22,
          23,
          24,
          25,
          26,
          27,
          28,
          29,
          30,
          31,
          32,
          33,
          34,
          35,
          36,
          37,
          38,
          39,
          40,
          41,
          42,
          43,
          44,
          45,
          46,
          47,
          48,
          49,
          50,
          51,
          52,
          53,
          54,
          55,
          56,
          57,
          58,
          59
         ],
         "xaxis": "x",
         "y": [
          1.445218950510025,
          1.4797944128513336,
          1.493728905916214,
          1.185502052307129,
          1.0271933376789093,
          0.9635564535856247,
          0.9444185644388199,
          0.999597430229187,
          0.997254803776741,
          0.887100875377655,
          0.8373811841011047,
          0.82419553399086,
          0.8069157898426056,
          0.8454948961734772,
          0.8313123285770416,
          0.7554161697626114,
          0.7267785370349884,
          0.6842156648635864,
          0.7002007067203522,
          0.6696960180997849,
          0.7365590333938599,
          0.6702274829149246,
          0.6297714710235596,
          0.6349619030952454,
          0.6298781782388687,
          0.6357249021530151,
          0.6413912177085876,
          0.5933814346790314,
          0.6255615949630737,
          0.5536761954426765,
          0.5857575386762619,
          0.6028388887643814,
          0.6253765225410461,
          0.5749891996383667,
          0.6353392601013184,
          0.5717972368001938,
          0.6102335155010223,
          0.5973163917660713,
          0.6211948990821838,
          0.6111526787281036,
          0.5705613493919373,
          0.5758384615182877,
          0.5270100757479668,
          0.6352698653936386,
          0.5707929730415344,
          0.5945754051208496,
          0.5568985939025879,
          0.546761155128479,
          0.5815334469079971,
          0.5499182492494583,
          0.605403259396553,
          0.5691999197006226,
          0.5888170897960663,
          0.6123307794332504,
          0.5520025342702866,
          0.6288292109966278,
          0.5882370173931122,
          0.5812682807445526,
          0.586672455072403,
          0.5568299442529678
         ],
         "yaxis": "y"
        },
        {
         "line": {
          "color": "red"
         },
         "mode": "lines+markers",
         "showlegend": false,
         "type": "scatter",
         "x": [
          0,
          1,
          2,
          3,
          4,
          5,
          6,
          7,
          8,
          9,
          10,
          11,
          12,
          13,
          14,
          15,
          16,
          17,
          18,
          19,
          20,
          21,
          22,
          23,
          24,
          25,
          26,
          27,
          28,
          29,
          30,
          31,
          32,
          33,
          34,
          35,
          36,
          37,
          38,
          39,
          40,
          41,
          42,
          43,
          44,
          45,
          46,
          47,
          48,
          49,
          50,
          51,
          52,
          53,
          54,
          55,
          56,
          57,
          58,
          59
         ],
         "xaxis": "x2",
         "y": [
          0.24069583043456078,
          0.2134208157658577,
          0.2236112579703331,
          0.2548172324895859,
          0.6621976643800735,
          0.7618783712387085,
          0.7747363448143005,
          0.7326204627752304,
          0.6816334873437881,
          0.6676610559225082,
          0.7561280429363251,
          0.7402685284614563,
          0.7528211176395416,
          0.7130264490842819,
          0.8158439546823502,
          0.7921255677938461,
          0.7916092127561569,
          0.8013513684272766,
          0.7691067457199097,
          0.76352858543396,
          0.8167005330324173,
          0.7726050466299057,
          0.7775696069002151,
          0.8309370130300522,
          0.7488841563463211,
          0.833757609128952,
          0.7952139973640442,
          0.7917325794696808,
          0.7595064491033554,
          0.8561707139015198,
          0.7593948841094971,
          0.7832901179790497,
          0.8020742535591125,
          0.8419169038534164,
          0.7437065243721008,
          0.7738182693719864,
          0.8666025549173355,
          0.7541006952524185,
          0.8196785151958466,
          0.7708976566791534,
          0.8330842107534409,
          0.7881891876459122,
          0.7418300807476044,
          0.7942996323108673,
          0.834091529250145,
          0.794269785284996,
          0.7867495864629745,
          0.8215736299753189,
          0.8291444629430771,
          0.8010510802268982,
          0.8542573750019073,
          0.7834277451038361,
          0.8342113494873047,
          0.7948063313961029,
          0.8013703227043152,
          0.7500976026058197,
          0.7924817800521851,
          0.7923843413591385,
          0.8073460459709167,
          0.8061198890209198
         ],
         "yaxis": "y2"
        },
        {
         "line": {
          "color": "blue"
         },
         "mode": "lines+markers",
         "showlegend": false,
         "type": "scatter",
         "x": [
          0,
          1,
          2,
          3,
          4,
          5,
          6,
          7,
          8,
          9,
          10,
          11,
          12,
          13,
          14,
          15,
          16,
          17,
          18,
          19,
          20,
          21,
          22,
          23,
          24,
          25,
          26,
          27,
          28,
          29,
          30,
          31,
          32,
          33,
          34,
          35,
          36,
          37,
          38,
          39,
          40,
          41,
          42,
          43,
          44,
          45,
          46,
          47,
          48,
          49,
          50,
          51,
          52,
          53,
          54,
          55,
          56,
          57,
          58,
          59
         ],
         "xaxis": "x2",
         "y": [
          0.23499669134616852,
          0.2089344784617424,
          0.20835521817207336,
          0.4994978606700897,
          0.6574811041355133,
          0.6658405214548111,
          0.6836703419685364,
          0.6536626815795898,
          0.6470841020345688,
          0.7083159387111664,
          0.7184081971645355,
          0.6779874116182327,
          0.6909874230623245,
          0.6928252726793289,
          0.6934027075767517,
          0.7214128971099854,
          0.7102916538715363,
          0.7250583469867706,
          0.7159648835659027,
          0.774785041809082,
          0.7076630592346191,
          0.7452794760465622,
          0.746188297867775,
          0.729114443063736,
          0.7277156859636307,
          0.7659550905227661,
          0.7240891307592392,
          0.7376883327960968,
          0.7384471148252487,
          0.7691207528114319,
          0.7419233322143555,
          0.7506775408983231,
          0.7429806888103485,
          0.7432535141706467,
          0.7195721566677094,
          0.7575259506702423,
          0.7497386783361435,
          0.7474913001060486,
          0.7233828008174896,
          0.7323580980300903,
          0.747788816690445,
          0.7472158819437027,
          0.7708275467157364,
          0.7211813181638718,
          0.7286974787712097,
          0.7464449405670166,
          0.7615632563829422,
          0.7636129856109619,
          0.7373186498880386,
          0.7387328743934631,
          0.7518348842859268,
          0.7482815384864807,
          0.7282340228557587,
          0.7203433960676193,
          0.7589318454265594,
          0.7372797578573227,
          0.7219052165746689,
          0.7260836958885193,
          0.7254200279712677,
          0.7547024637460709
         ],
         "yaxis": "y2"
        }
       ],
       "layout": {
        "annotations": [
         {
          "font": {
           "size": 16
          },
          "showarrow": false,
          "text": "Loss",
          "x": 0.225,
          "xanchor": "center",
          "xref": "paper",
          "y": 1,
          "yanchor": "bottom",
          "yref": "paper"
         },
         {
          "font": {
           "size": 16
          },
          "showarrow": false,
          "text": "F1",
          "x": 0.775,
          "xanchor": "center",
          "xref": "paper",
          "y": 1,
          "yanchor": "bottom",
          "yref": "paper"
         }
        ],
        "autosize": true,
        "template": {
         "data": {
          "bar": [
           {
            "error_x": {
             "color": "#2a3f5f"
            },
            "error_y": {
             "color": "#2a3f5f"
            },
            "marker": {
             "line": {
              "color": "#E5ECF6",
              "width": 0.5
             },
             "pattern": {
              "fillmode": "overlay",
              "size": 10,
              "solidity": 0.2
             }
            },
            "type": "bar"
           }
          ],
          "barpolar": [
           {
            "marker": {
             "line": {
              "color": "#E5ECF6",
              "width": 0.5
             },
             "pattern": {
              "fillmode": "overlay",
              "size": 10,
              "solidity": 0.2
             }
            },
            "type": "barpolar"
           }
          ],
          "carpet": [
           {
            "aaxis": {
             "endlinecolor": "#2a3f5f",
             "gridcolor": "white",
             "linecolor": "white",
             "minorgridcolor": "white",
             "startlinecolor": "#2a3f5f"
            },
            "baxis": {
             "endlinecolor": "#2a3f5f",
             "gridcolor": "white",
             "linecolor": "white",
             "minorgridcolor": "white",
             "startlinecolor": "#2a3f5f"
            },
            "type": "carpet"
           }
          ],
          "choropleth": [
           {
            "colorbar": {
             "outlinewidth": 0,
             "ticks": ""
            },
            "type": "choropleth"
           }
          ],
          "contour": [
           {
            "colorbar": {
             "outlinewidth": 0,
             "ticks": ""
            },
            "colorscale": [
             [
              0,
              "#0d0887"
             ],
             [
              0.1111111111111111,
              "#46039f"
             ],
             [
              0.2222222222222222,
              "#7201a8"
             ],
             [
              0.3333333333333333,
              "#9c179e"
             ],
             [
              0.4444444444444444,
              "#bd3786"
             ],
             [
              0.5555555555555556,
              "#d8576b"
             ],
             [
              0.6666666666666666,
              "#ed7953"
             ],
             [
              0.7777777777777778,
              "#fb9f3a"
             ],
             [
              0.8888888888888888,
              "#fdca26"
             ],
             [
              1,
              "#f0f921"
             ]
            ],
            "type": "contour"
           }
          ],
          "contourcarpet": [
           {
            "colorbar": {
             "outlinewidth": 0,
             "ticks": ""
            },
            "type": "contourcarpet"
           }
          ],
          "heatmap": [
           {
            "colorbar": {
             "outlinewidth": 0,
             "ticks": ""
            },
            "colorscale": [
             [
              0,
              "#0d0887"
             ],
             [
              0.1111111111111111,
              "#46039f"
             ],
             [
              0.2222222222222222,
              "#7201a8"
             ],
             [
              0.3333333333333333,
              "#9c179e"
             ],
             [
              0.4444444444444444,
              "#bd3786"
             ],
             [
              0.5555555555555556,
              "#d8576b"
             ],
             [
              0.6666666666666666,
              "#ed7953"
             ],
             [
              0.7777777777777778,
              "#fb9f3a"
             ],
             [
              0.8888888888888888,
              "#fdca26"
             ],
             [
              1,
              "#f0f921"
             ]
            ],
            "type": "heatmap"
           }
          ],
          "heatmapgl": [
           {
            "colorbar": {
             "outlinewidth": 0,
             "ticks": ""
            },
            "colorscale": [
             [
              0,
              "#0d0887"
             ],
             [
              0.1111111111111111,
              "#46039f"
             ],
             [
              0.2222222222222222,
              "#7201a8"
             ],
             [
              0.3333333333333333,
              "#9c179e"
             ],
             [
              0.4444444444444444,
              "#bd3786"
             ],
             [
              0.5555555555555556,
              "#d8576b"
             ],
             [
              0.6666666666666666,
              "#ed7953"
             ],
             [
              0.7777777777777778,
              "#fb9f3a"
             ],
             [
              0.8888888888888888,
              "#fdca26"
             ],
             [
              1,
              "#f0f921"
             ]
            ],
            "type": "heatmapgl"
           }
          ],
          "histogram": [
           {
            "marker": {
             "pattern": {
              "fillmode": "overlay",
              "size": 10,
              "solidity": 0.2
             }
            },
            "type": "histogram"
           }
          ],
          "histogram2d": [
           {
            "colorbar": {
             "outlinewidth": 0,
             "ticks": ""
            },
            "colorscale": [
             [
              0,
              "#0d0887"
             ],
             [
              0.1111111111111111,
              "#46039f"
             ],
             [
              0.2222222222222222,
              "#7201a8"
             ],
             [
              0.3333333333333333,
              "#9c179e"
             ],
             [
              0.4444444444444444,
              "#bd3786"
             ],
             [
              0.5555555555555556,
              "#d8576b"
             ],
             [
              0.6666666666666666,
              "#ed7953"
             ],
             [
              0.7777777777777778,
              "#fb9f3a"
             ],
             [
              0.8888888888888888,
              "#fdca26"
             ],
             [
              1,
              "#f0f921"
             ]
            ],
            "type": "histogram2d"
           }
          ],
          "histogram2dcontour": [
           {
            "colorbar": {
             "outlinewidth": 0,
             "ticks": ""
            },
            "colorscale": [
             [
              0,
              "#0d0887"
             ],
             [
              0.1111111111111111,
              "#46039f"
             ],
             [
              0.2222222222222222,
              "#7201a8"
             ],
             [
              0.3333333333333333,
              "#9c179e"
             ],
             [
              0.4444444444444444,
              "#bd3786"
             ],
             [
              0.5555555555555556,
              "#d8576b"
             ],
             [
              0.6666666666666666,
              "#ed7953"
             ],
             [
              0.7777777777777778,
              "#fb9f3a"
             ],
             [
              0.8888888888888888,
              "#fdca26"
             ],
             [
              1,
              "#f0f921"
             ]
            ],
            "type": "histogram2dcontour"
           }
          ],
          "mesh3d": [
           {
            "colorbar": {
             "outlinewidth": 0,
             "ticks": ""
            },
            "type": "mesh3d"
           }
          ],
          "parcoords": [
           {
            "line": {
             "colorbar": {
              "outlinewidth": 0,
              "ticks": ""
             }
            },
            "type": "parcoords"
           }
          ],
          "pie": [
           {
            "automargin": true,
            "type": "pie"
           }
          ],
          "scatter": [
           {
            "fillpattern": {
             "fillmode": "overlay",
             "size": 10,
             "solidity": 0.2
            },
            "type": "scatter"
           }
          ],
          "scatter3d": [
           {
            "line": {
             "colorbar": {
              "outlinewidth": 0,
              "ticks": ""
             }
            },
            "marker": {
             "colorbar": {
              "outlinewidth": 0,
              "ticks": ""
             }
            },
            "type": "scatter3d"
           }
          ],
          "scattercarpet": [
           {
            "marker": {
             "colorbar": {
              "outlinewidth": 0,
              "ticks": ""
             }
            },
            "type": "scattercarpet"
           }
          ],
          "scattergeo": [
           {
            "marker": {
             "colorbar": {
              "outlinewidth": 0,
              "ticks": ""
             }
            },
            "type": "scattergeo"
           }
          ],
          "scattergl": [
           {
            "marker": {
             "colorbar": {
              "outlinewidth": 0,
              "ticks": ""
             }
            },
            "type": "scattergl"
           }
          ],
          "scattermapbox": [
           {
            "marker": {
             "colorbar": {
              "outlinewidth": 0,
              "ticks": ""
             }
            },
            "type": "scattermapbox"
           }
          ],
          "scatterpolar": [
           {
            "marker": {
             "colorbar": {
              "outlinewidth": 0,
              "ticks": ""
             }
            },
            "type": "scatterpolar"
           }
          ],
          "scatterpolargl": [
           {
            "marker": {
             "colorbar": {
              "outlinewidth": 0,
              "ticks": ""
             }
            },
            "type": "scatterpolargl"
           }
          ],
          "scatterternary": [
           {
            "marker": {
             "colorbar": {
              "outlinewidth": 0,
              "ticks": ""
             }
            },
            "type": "scatterternary"
           }
          ],
          "surface": [
           {
            "colorbar": {
             "outlinewidth": 0,
             "ticks": ""
            },
            "colorscale": [
             [
              0,
              "#0d0887"
             ],
             [
              0.1111111111111111,
              "#46039f"
             ],
             [
              0.2222222222222222,
              "#7201a8"
             ],
             [
              0.3333333333333333,
              "#9c179e"
             ],
             [
              0.4444444444444444,
              "#bd3786"
             ],
             [
              0.5555555555555556,
              "#d8576b"
             ],
             [
              0.6666666666666666,
              "#ed7953"
             ],
             [
              0.7777777777777778,
              "#fb9f3a"
             ],
             [
              0.8888888888888888,
              "#fdca26"
             ],
             [
              1,
              "#f0f921"
             ]
            ],
            "type": "surface"
           }
          ],
          "table": [
           {
            "cells": {
             "fill": {
              "color": "#EBF0F8"
             },
             "line": {
              "color": "white"
             }
            },
            "header": {
             "fill": {
              "color": "#C8D4E3"
             },
             "line": {
              "color": "white"
             }
            },
            "type": "table"
           }
          ]
         },
         "layout": {
          "annotationdefaults": {
           "arrowcolor": "#2a3f5f",
           "arrowhead": 0,
           "arrowwidth": 1
          },
          "autotypenumbers": "strict",
          "coloraxis": {
           "colorbar": {
            "outlinewidth": 0,
            "ticks": ""
           }
          },
          "colorscale": {
           "diverging": [
            [
             0,
             "#8e0152"
            ],
            [
             0.1,
             "#c51b7d"
            ],
            [
             0.2,
             "#de77ae"
            ],
            [
             0.3,
             "#f1b6da"
            ],
            [
             0.4,
             "#fde0ef"
            ],
            [
             0.5,
             "#f7f7f7"
            ],
            [
             0.6,
             "#e6f5d0"
            ],
            [
             0.7,
             "#b8e186"
            ],
            [
             0.8,
             "#7fbc41"
            ],
            [
             0.9,
             "#4d9221"
            ],
            [
             1,
             "#276419"
            ]
           ],
           "sequential": [
            [
             0,
             "#0d0887"
            ],
            [
             0.1111111111111111,
             "#46039f"
            ],
            [
             0.2222222222222222,
             "#7201a8"
            ],
            [
             0.3333333333333333,
             "#9c179e"
            ],
            [
             0.4444444444444444,
             "#bd3786"
            ],
            [
             0.5555555555555556,
             "#d8576b"
            ],
            [
             0.6666666666666666,
             "#ed7953"
            ],
            [
             0.7777777777777778,
             "#fb9f3a"
            ],
            [
             0.8888888888888888,
             "#fdca26"
            ],
            [
             1,
             "#f0f921"
            ]
           ],
           "sequentialminus": [
            [
             0,
             "#0d0887"
            ],
            [
             0.1111111111111111,
             "#46039f"
            ],
            [
             0.2222222222222222,
             "#7201a8"
            ],
            [
             0.3333333333333333,
             "#9c179e"
            ],
            [
             0.4444444444444444,
             "#bd3786"
            ],
            [
             0.5555555555555556,
             "#d8576b"
            ],
            [
             0.6666666666666666,
             "#ed7953"
            ],
            [
             0.7777777777777778,
             "#fb9f3a"
            ],
            [
             0.8888888888888888,
             "#fdca26"
            ],
            [
             1,
             "#f0f921"
            ]
           ]
          },
          "colorway": [
           "#636efa",
           "#EF553B",
           "#00cc96",
           "#ab63fa",
           "#FFA15A",
           "#19d3f3",
           "#FF6692",
           "#B6E880",
           "#FF97FF",
           "#FECB52"
          ],
          "font": {
           "color": "#2a3f5f"
          },
          "geo": {
           "bgcolor": "white",
           "lakecolor": "white",
           "landcolor": "#E5ECF6",
           "showlakes": true,
           "showland": true,
           "subunitcolor": "white"
          },
          "hoverlabel": {
           "align": "left"
          },
          "hovermode": "closest",
          "mapbox": {
           "style": "light"
          },
          "paper_bgcolor": "white",
          "plot_bgcolor": "#E5ECF6",
          "polar": {
           "angularaxis": {
            "gridcolor": "white",
            "linecolor": "white",
            "ticks": ""
           },
           "bgcolor": "#E5ECF6",
           "radialaxis": {
            "gridcolor": "white",
            "linecolor": "white",
            "ticks": ""
           }
          },
          "scene": {
           "xaxis": {
            "backgroundcolor": "#E5ECF6",
            "gridcolor": "white",
            "gridwidth": 2,
            "linecolor": "white",
            "showbackground": true,
            "ticks": "",
            "zerolinecolor": "white"
           },
           "yaxis": {
            "backgroundcolor": "#E5ECF6",
            "gridcolor": "white",
            "gridwidth": 2,
            "linecolor": "white",
            "showbackground": true,
            "ticks": "",
            "zerolinecolor": "white"
           },
           "zaxis": {
            "backgroundcolor": "#E5ECF6",
            "gridcolor": "white",
            "gridwidth": 2,
            "linecolor": "white",
            "showbackground": true,
            "ticks": "",
            "zerolinecolor": "white"
           }
          },
          "shapedefaults": {
           "line": {
            "color": "#2a3f5f"
           }
          },
          "ternary": {
           "aaxis": {
            "gridcolor": "white",
            "linecolor": "white",
            "ticks": ""
           },
           "baxis": {
            "gridcolor": "white",
            "linecolor": "white",
            "ticks": ""
           },
           "bgcolor": "#E5ECF6",
           "caxis": {
            "gridcolor": "white",
            "linecolor": "white",
            "ticks": ""
           }
          },
          "title": {
           "x": 0.05
          },
          "xaxis": {
           "automargin": true,
           "gridcolor": "white",
           "linecolor": "white",
           "ticks": "",
           "title": {
            "standoff": 15
           },
           "zerolinecolor": "white",
           "zerolinewidth": 2
          },
          "yaxis": {
           "automargin": true,
           "gridcolor": "white",
           "linecolor": "white",
           "ticks": "",
           "title": {
            "standoff": 15
           },
           "zerolinecolor": "white",
           "zerolinewidth": 2
          }
         }
        },
        "xaxis": {
         "anchor": "y",
         "domain": [
          0,
          0.45
         ]
        },
        "xaxis2": {
         "anchor": "y2",
         "domain": [
          0.55,
          1
         ]
        },
        "yaxis": {
         "anchor": "x",
         "domain": [
          0,
          1
         ],
         "type": "log"
        },
        "yaxis2": {
         "anchor": "x2",
         "domain": [
          0,
          1
         ]
        }
       }
      },
      "text/html": [
       "<div>                            <div id=\"9e61f988-c51f-415b-81cc-89ac3031b8c0\" class=\"plotly-graph-div\" style=\"height:525px; width:100%;\"></div>            <script type=\"text/javascript\">                require([\"plotly\"], function(Plotly) {                    window.PLOTLYENV=window.PLOTLYENV || {};                                    if (document.getElementById(\"9e61f988-c51f-415b-81cc-89ac3031b8c0\")) {                    Plotly.newPlot(                        \"9e61f988-c51f-415b-81cc-89ac3031b8c0\",                        [{\"line\":{\"color\":\"red\"},\"mode\":\"lines+markers\",\"name\":\"Training\",\"x\":[0,1,2,3,4,5,6,7,8,9,10,11,12,13,14,15,16,17,18,19,20,21,22,23,24,25,26,27,28,29,30,31,32,33,34,35,36,37,38,39,40,41,42,43,44,45,46,47,48,49,50,51,52,53,54,55,56,57,58,59],\"y\":[1.4300430715084076,1.462035596370697,1.4521990716457367,1.3988414406776428,1.0627874732017517,0.8857228606939316,0.8464645445346832,0.8494318276643753,0.908829465508461,0.9222152382135391,0.7506447583436966,0.7118704617023468,0.6621994227170944,0.7044148743152618,0.6378075927495956,0.6365479677915573,0.6061573848128319,0.5674690455198288,0.5726282745599747,0.5723694562911987,0.5180371552705765,0.5826737955212593,0.520567275583744,0.4632968232035637,0.557409442961216,0.4200015589594841,0.46954071521759033,0.46458224952220917,0.4851618707180023,0.35208484530448914,0.4945423901081085,0.46143608540296555,0.4497573599219322,0.39882703870534897,0.4967854991555214,0.45646458119153976,0.31808240711688995,0.5301603376865387,0.4007920101284981,0.46871180832386017,0.3683790862560272,0.40629659593105316,0.46064864844083786,0.3921263888478279,0.3587976470589638,0.4404614418745041,0.40160299092531204,0.36400106549263,0.37949220836162567,0.4131092205643654,0.3211158886551857,0.43409061431884766,0.3703027367591858,0.44629988074302673,0.39963438361883163,0.46636439859867096,0.4243721514940262,0.39542411267757416,0.3643505573272705,0.3649732396006584],\"type\":\"scatter\",\"xaxis\":\"x\",\"yaxis\":\"y\"},{\"line\":{\"color\":\"blue\"},\"mode\":\"lines+markers\",\"name\":\"Validation\",\"x\":[0,1,2,3,4,5,6,7,8,9,10,11,12,13,14,15,16,17,18,19,20,21,22,23,24,25,26,27,28,29,30,31,32,33,34,35,36,37,38,39,40,41,42,43,44,45,46,47,48,49,50,51,52,53,54,55,56,57,58,59],\"y\":[1.445218950510025,1.4797944128513336,1.493728905916214,1.185502052307129,1.0271933376789093,0.9635564535856247,0.9444185644388199,0.999597430229187,0.997254803776741,0.887100875377655,0.8373811841011047,0.82419553399086,0.8069157898426056,0.8454948961734772,0.8313123285770416,0.7554161697626114,0.7267785370349884,0.6842156648635864,0.7002007067203522,0.6696960180997849,0.7365590333938599,0.6702274829149246,0.6297714710235596,0.6349619030952454,0.6298781782388687,0.6357249021530151,0.6413912177085876,0.5933814346790314,0.6255615949630737,0.5536761954426765,0.5857575386762619,0.6028388887643814,0.6253765225410461,0.5749891996383667,0.6353392601013184,0.5717972368001938,0.6102335155010223,0.5973163917660713,0.6211948990821838,0.6111526787281036,0.5705613493919373,0.5758384615182877,0.5270100757479668,0.6352698653936386,0.5707929730415344,0.5945754051208496,0.5568985939025879,0.546761155128479,0.5815334469079971,0.5499182492494583,0.605403259396553,0.5691999197006226,0.5888170897960663,0.6123307794332504,0.5520025342702866,0.6288292109966278,0.5882370173931122,0.5812682807445526,0.586672455072403,0.5568299442529678],\"type\":\"scatter\",\"xaxis\":\"x\",\"yaxis\":\"y\"},{\"line\":{\"color\":\"red\"},\"mode\":\"lines+markers\",\"showlegend\":false,\"x\":[0,1,2,3,4,5,6,7,8,9,10,11,12,13,14,15,16,17,18,19,20,21,22,23,24,25,26,27,28,29,30,31,32,33,34,35,36,37,38,39,40,41,42,43,44,45,46,47,48,49,50,51,52,53,54,55,56,57,58,59],\"y\":[0.24069583043456078,0.2134208157658577,0.2236112579703331,0.2548172324895859,0.6621976643800735,0.7618783712387085,0.7747363448143005,0.7326204627752304,0.6816334873437881,0.6676610559225082,0.7561280429363251,0.7402685284614563,0.7528211176395416,0.7130264490842819,0.8158439546823502,0.7921255677938461,0.7916092127561569,0.8013513684272766,0.7691067457199097,0.76352858543396,0.8167005330324173,0.7726050466299057,0.7775696069002151,0.8309370130300522,0.7488841563463211,0.833757609128952,0.7952139973640442,0.7917325794696808,0.7595064491033554,0.8561707139015198,0.7593948841094971,0.7832901179790497,0.8020742535591125,0.8419169038534164,0.7437065243721008,0.7738182693719864,0.8666025549173355,0.7541006952524185,0.8196785151958466,0.7708976566791534,0.8330842107534409,0.7881891876459122,0.7418300807476044,0.7942996323108673,0.834091529250145,0.794269785284996,0.7867495864629745,0.8215736299753189,0.8291444629430771,0.8010510802268982,0.8542573750019073,0.7834277451038361,0.8342113494873047,0.7948063313961029,0.8013703227043152,0.7500976026058197,0.7924817800521851,0.7923843413591385,0.8073460459709167,0.8061198890209198],\"type\":\"scatter\",\"xaxis\":\"x2\",\"yaxis\":\"y2\"},{\"line\":{\"color\":\"blue\"},\"mode\":\"lines+markers\",\"showlegend\":false,\"x\":[0,1,2,3,4,5,6,7,8,9,10,11,12,13,14,15,16,17,18,19,20,21,22,23,24,25,26,27,28,29,30,31,32,33,34,35,36,37,38,39,40,41,42,43,44,45,46,47,48,49,50,51,52,53,54,55,56,57,58,59],\"y\":[0.23499669134616852,0.2089344784617424,0.20835521817207336,0.4994978606700897,0.6574811041355133,0.6658405214548111,0.6836703419685364,0.6536626815795898,0.6470841020345688,0.7083159387111664,0.7184081971645355,0.6779874116182327,0.6909874230623245,0.6928252726793289,0.6934027075767517,0.7214128971099854,0.7102916538715363,0.7250583469867706,0.7159648835659027,0.774785041809082,0.7076630592346191,0.7452794760465622,0.746188297867775,0.729114443063736,0.7277156859636307,0.7659550905227661,0.7240891307592392,0.7376883327960968,0.7384471148252487,0.7691207528114319,0.7419233322143555,0.7506775408983231,0.7429806888103485,0.7432535141706467,0.7195721566677094,0.7575259506702423,0.7497386783361435,0.7474913001060486,0.7233828008174896,0.7323580980300903,0.747788816690445,0.7472158819437027,0.7708275467157364,0.7211813181638718,0.7286974787712097,0.7464449405670166,0.7615632563829422,0.7636129856109619,0.7373186498880386,0.7387328743934631,0.7518348842859268,0.7482815384864807,0.7282340228557587,0.7203433960676193,0.7589318454265594,0.7372797578573227,0.7219052165746689,0.7260836958885193,0.7254200279712677,0.7547024637460709],\"type\":\"scatter\",\"xaxis\":\"x2\",\"yaxis\":\"y2\"}],                        {\"template\":{\"data\":{\"histogram2dcontour\":[{\"type\":\"histogram2dcontour\",\"colorbar\":{\"outlinewidth\":0,\"ticks\":\"\"},\"colorscale\":[[0.0,\"#0d0887\"],[0.1111111111111111,\"#46039f\"],[0.2222222222222222,\"#7201a8\"],[0.3333333333333333,\"#9c179e\"],[0.4444444444444444,\"#bd3786\"],[0.5555555555555556,\"#d8576b\"],[0.6666666666666666,\"#ed7953\"],[0.7777777777777778,\"#fb9f3a\"],[0.8888888888888888,\"#fdca26\"],[1.0,\"#f0f921\"]]}],\"choropleth\":[{\"type\":\"choropleth\",\"colorbar\":{\"outlinewidth\":0,\"ticks\":\"\"}}],\"histogram2d\":[{\"type\":\"histogram2d\",\"colorbar\":{\"outlinewidth\":0,\"ticks\":\"\"},\"colorscale\":[[0.0,\"#0d0887\"],[0.1111111111111111,\"#46039f\"],[0.2222222222222222,\"#7201a8\"],[0.3333333333333333,\"#9c179e\"],[0.4444444444444444,\"#bd3786\"],[0.5555555555555556,\"#d8576b\"],[0.6666666666666666,\"#ed7953\"],[0.7777777777777778,\"#fb9f3a\"],[0.8888888888888888,\"#fdca26\"],[1.0,\"#f0f921\"]]}],\"heatmap\":[{\"type\":\"heatmap\",\"colorbar\":{\"outlinewidth\":0,\"ticks\":\"\"},\"colorscale\":[[0.0,\"#0d0887\"],[0.1111111111111111,\"#46039f\"],[0.2222222222222222,\"#7201a8\"],[0.3333333333333333,\"#9c179e\"],[0.4444444444444444,\"#bd3786\"],[0.5555555555555556,\"#d8576b\"],[0.6666666666666666,\"#ed7953\"],[0.7777777777777778,\"#fb9f3a\"],[0.8888888888888888,\"#fdca26\"],[1.0,\"#f0f921\"]]}],\"heatmapgl\":[{\"type\":\"heatmapgl\",\"colorbar\":{\"outlinewidth\":0,\"ticks\":\"\"},\"colorscale\":[[0.0,\"#0d0887\"],[0.1111111111111111,\"#46039f\"],[0.2222222222222222,\"#7201a8\"],[0.3333333333333333,\"#9c179e\"],[0.4444444444444444,\"#bd3786\"],[0.5555555555555556,\"#d8576b\"],[0.6666666666666666,\"#ed7953\"],[0.7777777777777778,\"#fb9f3a\"],[0.8888888888888888,\"#fdca26\"],[1.0,\"#f0f921\"]]}],\"contourcarpet\":[{\"type\":\"contourcarpet\",\"colorbar\":{\"outlinewidth\":0,\"ticks\":\"\"}}],\"contour\":[{\"type\":\"contour\",\"colorbar\":{\"outlinewidth\":0,\"ticks\":\"\"},\"colorscale\":[[0.0,\"#0d0887\"],[0.1111111111111111,\"#46039f\"],[0.2222222222222222,\"#7201a8\"],[0.3333333333333333,\"#9c179e\"],[0.4444444444444444,\"#bd3786\"],[0.5555555555555556,\"#d8576b\"],[0.6666666666666666,\"#ed7953\"],[0.7777777777777778,\"#fb9f3a\"],[0.8888888888888888,\"#fdca26\"],[1.0,\"#f0f921\"]]}],\"surface\":[{\"type\":\"surface\",\"colorbar\":{\"outlinewidth\":0,\"ticks\":\"\"},\"colorscale\":[[0.0,\"#0d0887\"],[0.1111111111111111,\"#46039f\"],[0.2222222222222222,\"#7201a8\"],[0.3333333333333333,\"#9c179e\"],[0.4444444444444444,\"#bd3786\"],[0.5555555555555556,\"#d8576b\"],[0.6666666666666666,\"#ed7953\"],[0.7777777777777778,\"#fb9f3a\"],[0.8888888888888888,\"#fdca26\"],[1.0,\"#f0f921\"]]}],\"mesh3d\":[{\"type\":\"mesh3d\",\"colorbar\":{\"outlinewidth\":0,\"ticks\":\"\"}}],\"scatter\":[{\"fillpattern\":{\"fillmode\":\"overlay\",\"size\":10,\"solidity\":0.2},\"type\":\"scatter\"}],\"parcoords\":[{\"type\":\"parcoords\",\"line\":{\"colorbar\":{\"outlinewidth\":0,\"ticks\":\"\"}}}],\"scatterpolargl\":[{\"type\":\"scatterpolargl\",\"marker\":{\"colorbar\":{\"outlinewidth\":0,\"ticks\":\"\"}}}],\"bar\":[{\"error_x\":{\"color\":\"#2a3f5f\"},\"error_y\":{\"color\":\"#2a3f5f\"},\"marker\":{\"line\":{\"color\":\"#E5ECF6\",\"width\":0.5},\"pattern\":{\"fillmode\":\"overlay\",\"size\":10,\"solidity\":0.2}},\"type\":\"bar\"}],\"scattergeo\":[{\"type\":\"scattergeo\",\"marker\":{\"colorbar\":{\"outlinewidth\":0,\"ticks\":\"\"}}}],\"scatterpolar\":[{\"type\":\"scatterpolar\",\"marker\":{\"colorbar\":{\"outlinewidth\":0,\"ticks\":\"\"}}}],\"histogram\":[{\"marker\":{\"pattern\":{\"fillmode\":\"overlay\",\"size\":10,\"solidity\":0.2}},\"type\":\"histogram\"}],\"scattergl\":[{\"type\":\"scattergl\",\"marker\":{\"colorbar\":{\"outlinewidth\":0,\"ticks\":\"\"}}}],\"scatter3d\":[{\"type\":\"scatter3d\",\"line\":{\"colorbar\":{\"outlinewidth\":0,\"ticks\":\"\"}},\"marker\":{\"colorbar\":{\"outlinewidth\":0,\"ticks\":\"\"}}}],\"scattermapbox\":[{\"type\":\"scattermapbox\",\"marker\":{\"colorbar\":{\"outlinewidth\":0,\"ticks\":\"\"}}}],\"scatterternary\":[{\"type\":\"scatterternary\",\"marker\":{\"colorbar\":{\"outlinewidth\":0,\"ticks\":\"\"}}}],\"scattercarpet\":[{\"type\":\"scattercarpet\",\"marker\":{\"colorbar\":{\"outlinewidth\":0,\"ticks\":\"\"}}}],\"carpet\":[{\"aaxis\":{\"endlinecolor\":\"#2a3f5f\",\"gridcolor\":\"white\",\"linecolor\":\"white\",\"minorgridcolor\":\"white\",\"startlinecolor\":\"#2a3f5f\"},\"baxis\":{\"endlinecolor\":\"#2a3f5f\",\"gridcolor\":\"white\",\"linecolor\":\"white\",\"minorgridcolor\":\"white\",\"startlinecolor\":\"#2a3f5f\"},\"type\":\"carpet\"}],\"table\":[{\"cells\":{\"fill\":{\"color\":\"#EBF0F8\"},\"line\":{\"color\":\"white\"}},\"header\":{\"fill\":{\"color\":\"#C8D4E3\"},\"line\":{\"color\":\"white\"}},\"type\":\"table\"}],\"barpolar\":[{\"marker\":{\"line\":{\"color\":\"#E5ECF6\",\"width\":0.5},\"pattern\":{\"fillmode\":\"overlay\",\"size\":10,\"solidity\":0.2}},\"type\":\"barpolar\"}],\"pie\":[{\"automargin\":true,\"type\":\"pie\"}]},\"layout\":{\"autotypenumbers\":\"strict\",\"colorway\":[\"#636efa\",\"#EF553B\",\"#00cc96\",\"#ab63fa\",\"#FFA15A\",\"#19d3f3\",\"#FF6692\",\"#B6E880\",\"#FF97FF\",\"#FECB52\"],\"font\":{\"color\":\"#2a3f5f\"},\"hovermode\":\"closest\",\"hoverlabel\":{\"align\":\"left\"},\"paper_bgcolor\":\"white\",\"plot_bgcolor\":\"#E5ECF6\",\"polar\":{\"bgcolor\":\"#E5ECF6\",\"angularaxis\":{\"gridcolor\":\"white\",\"linecolor\":\"white\",\"ticks\":\"\"},\"radialaxis\":{\"gridcolor\":\"white\",\"linecolor\":\"white\",\"ticks\":\"\"}},\"ternary\":{\"bgcolor\":\"#E5ECF6\",\"aaxis\":{\"gridcolor\":\"white\",\"linecolor\":\"white\",\"ticks\":\"\"},\"baxis\":{\"gridcolor\":\"white\",\"linecolor\":\"white\",\"ticks\":\"\"},\"caxis\":{\"gridcolor\":\"white\",\"linecolor\":\"white\",\"ticks\":\"\"}},\"coloraxis\":{\"colorbar\":{\"outlinewidth\":0,\"ticks\":\"\"}},\"colorscale\":{\"sequential\":[[0.0,\"#0d0887\"],[0.1111111111111111,\"#46039f\"],[0.2222222222222222,\"#7201a8\"],[0.3333333333333333,\"#9c179e\"],[0.4444444444444444,\"#bd3786\"],[0.5555555555555556,\"#d8576b\"],[0.6666666666666666,\"#ed7953\"],[0.7777777777777778,\"#fb9f3a\"],[0.8888888888888888,\"#fdca26\"],[1.0,\"#f0f921\"]],\"sequentialminus\":[[0.0,\"#0d0887\"],[0.1111111111111111,\"#46039f\"],[0.2222222222222222,\"#7201a8\"],[0.3333333333333333,\"#9c179e\"],[0.4444444444444444,\"#bd3786\"],[0.5555555555555556,\"#d8576b\"],[0.6666666666666666,\"#ed7953\"],[0.7777777777777778,\"#fb9f3a\"],[0.8888888888888888,\"#fdca26\"],[1.0,\"#f0f921\"]],\"diverging\":[[0,\"#8e0152\"],[0.1,\"#c51b7d\"],[0.2,\"#de77ae\"],[0.3,\"#f1b6da\"],[0.4,\"#fde0ef\"],[0.5,\"#f7f7f7\"],[0.6,\"#e6f5d0\"],[0.7,\"#b8e186\"],[0.8,\"#7fbc41\"],[0.9,\"#4d9221\"],[1,\"#276419\"]]},\"xaxis\":{\"gridcolor\":\"white\",\"linecolor\":\"white\",\"ticks\":\"\",\"title\":{\"standoff\":15},\"zerolinecolor\":\"white\",\"automargin\":true,\"zerolinewidth\":2},\"yaxis\":{\"gridcolor\":\"white\",\"linecolor\":\"white\",\"ticks\":\"\",\"title\":{\"standoff\":15},\"zerolinecolor\":\"white\",\"automargin\":true,\"zerolinewidth\":2},\"scene\":{\"xaxis\":{\"backgroundcolor\":\"#E5ECF6\",\"gridcolor\":\"white\",\"linecolor\":\"white\",\"showbackground\":true,\"ticks\":\"\",\"zerolinecolor\":\"white\",\"gridwidth\":2},\"yaxis\":{\"backgroundcolor\":\"#E5ECF6\",\"gridcolor\":\"white\",\"linecolor\":\"white\",\"showbackground\":true,\"ticks\":\"\",\"zerolinecolor\":\"white\",\"gridwidth\":2},\"zaxis\":{\"backgroundcolor\":\"#E5ECF6\",\"gridcolor\":\"white\",\"linecolor\":\"white\",\"showbackground\":true,\"ticks\":\"\",\"zerolinecolor\":\"white\",\"gridwidth\":2}},\"shapedefaults\":{\"line\":{\"color\":\"#2a3f5f\"}},\"annotationdefaults\":{\"arrowcolor\":\"#2a3f5f\",\"arrowhead\":0,\"arrowwidth\":1},\"geo\":{\"bgcolor\":\"white\",\"landcolor\":\"#E5ECF6\",\"subunitcolor\":\"white\",\"showland\":true,\"showlakes\":true,\"lakecolor\":\"white\"},\"title\":{\"x\":0.05},\"mapbox\":{\"style\":\"light\"}}},\"xaxis\":{\"anchor\":\"y\",\"domain\":[0.0,0.45]},\"yaxis\":{\"anchor\":\"x\",\"domain\":[0.0,1.0],\"type\":\"log\"},\"xaxis2\":{\"anchor\":\"y2\",\"domain\":[0.55,1.0]},\"yaxis2\":{\"anchor\":\"x2\",\"domain\":[0.0,1.0]},\"annotations\":[{\"font\":{\"size\":16},\"showarrow\":false,\"text\":\"Loss\",\"x\":0.225,\"xanchor\":\"center\",\"xref\":\"paper\",\"y\":1.0,\"yanchor\":\"bottom\",\"yref\":\"paper\"},{\"font\":{\"size\":16},\"showarrow\":false,\"text\":\"F1\",\"x\":0.775,\"xanchor\":\"center\",\"xref\":\"paper\",\"y\":1.0,\"yanchor\":\"bottom\",\"yref\":\"paper\"}],\"autosize\":true},                        {\"responsive\": true}                    ).then(function(){\n",
       "                            \n",
       "var gd = document.getElementById('9e61f988-c51f-415b-81cc-89ac3031b8c0');\n",
       "var x = new MutationObserver(function (mutations, observer) {{\n",
       "        var display = window.getComputedStyle(gd).display;\n",
       "        if (!display || display === 'none') {{\n",
       "            console.log([gd, 'removed!']);\n",
       "            Plotly.purge(gd);\n",
       "            observer.disconnect();\n",
       "        }}\n",
       "}});\n",
       "\n",
       "// Listen for the removal of the full notebook cells\n",
       "var notebookContainer = gd.closest('#notebook-container');\n",
       "if (notebookContainer) {{\n",
       "    x.observe(notebookContainer, {childList: true});\n",
       "}}\n",
       "\n",
       "// Listen for the clearing of the current output cell\n",
       "var outputEl = gd.closest('.output');\n",
       "if (outputEl) {{\n",
       "    x.observe(outputEl, {childList: true});\n",
       "}}\n",
       "\n",
       "                        })                };                });            </script>        </div>"
      ]
     },
     "metadata": {},
     "output_type": "display_data"
    },
    {
     "name": "stdout",
     "output_type": "stream",
     "text": [
      "Image classification performance\n"
     ]
    },
    {
     "data": {
      "application/vnd.plotly.v1+json": {
       "config": {
        "plotlyServerURL": "https://plot.ly"
       },
       "data": [
        {
         "line": {
          "color": "red"
         },
         "mode": "lines+markers",
         "name": "Training",
         "type": "scatter",
         "x": [
          0,
          1,
          2,
          3,
          4,
          5,
          6,
          7,
          8,
          9,
          10,
          11,
          12,
          13,
          14,
          15,
          16,
          17,
          18,
          19,
          20,
          21,
          22,
          23,
          24,
          25,
          26,
          27,
          28,
          29,
          30,
          31,
          32,
          33,
          34,
          35,
          36,
          37,
          38,
          39,
          40,
          41,
          42,
          43,
          44,
          45,
          46,
          47,
          48,
          49,
          50,
          51,
          52,
          53,
          54,
          55,
          56,
          57,
          58,
          59
         ],
         "xaxis": "x",
         "y": [
          0.32205281406641006,
          0.23167604207992554,
          0.17504465207457542,
          0.14848515391349792,
          0.1507081277668476,
          0.15172455459833145,
          0.13777505233883858,
          0.1073434166610241,
          0.08645584620535374,
          0.07607769407331944,
          0.07696422189474106,
          0.07803554087877274,
          0.07260318100452423,
          0.06005910597741604,
          0.05179718602448702,
          0.04793618991971016,
          0.048334311693906784,
          0.049475028179585934,
          0.04830627515912056,
          0.04385531973093748,
          0.0421303641051054,
          0.040131134912371635,
          0.040656039491295815,
          0.04127995576709509,
          0.040740519762039185,
          0.039203629828989506,
          0.0379547206684947,
          0.03732840344309807,
          0.03719579987227917,
          0.03769317734986544,
          0.03766502905637026,
          0.03630729578435421,
          0.035685209557414055,
          0.034899658523499966,
          0.034908777102828026,
          0.03504600189626217,
          0.035336585715413094,
          0.03455478698015213,
          0.03363846242427826,
          0.03303570672869682,
          0.0335503276437521,
          0.03359771054238081,
          0.03406866267323494,
          0.03288286551833153,
          0.032099402509629726,
          0.03198820352554321,
          0.03205135744065046,
          0.031936527229845524,
          0.03173560090363026,
          0.03205984737724066,
          0.030778539832681417,
          0.030639054253697395,
          0.030626547522842884,
          0.03081539925187826,
          0.030574120581150055,
          0.03035207185894251,
          0.029673642944544554,
          0.029438965022563934,
          0.02970236726105213,
          0.02969305496662855
         ],
         "yaxis": "y"
        },
        {
         "line": {
          "color": "blue"
         },
         "mode": "lines+markers",
         "name": "Validation",
         "type": "scatter",
         "x": [
          0,
          1,
          2,
          3,
          4,
          5,
          6,
          7,
          8,
          9,
          10,
          11,
          12,
          13,
          14,
          15,
          16,
          17,
          18,
          19,
          20,
          21,
          22,
          23,
          24,
          25,
          26,
          27,
          28,
          29,
          30,
          31,
          32,
          33,
          34,
          35,
          36,
          37,
          38,
          39,
          40,
          41,
          42,
          43,
          44,
          45,
          46,
          47,
          48,
          49,
          50,
          51,
          52,
          53,
          54,
          55,
          56,
          57,
          58,
          59
         ],
         "xaxis": "x",
         "y": [
          0.2544746734201908,
          0.1907523162662983,
          0.14629073813557625,
          0.14800618216395378,
          0.14952459931373596,
          0.1502658762037754,
          0.11581413261592388,
          0.09266254864633083,
          0.07538092695176601,
          0.07602536864578724,
          0.07734191417694092,
          0.07811332866549492,
          0.06387522257864475,
          0.054509613662958145,
          0.04819664265960455,
          0.04839659854769707,
          0.04953541699796915,
          0.05065260827541351,
          0.04519366379827261,
          0.04250492062419653,
          0.040752990171313286,
          0.0409505283460021,
          0.04153154976665974,
          0.04219587426632643,
          0.04036920424550772,
          0.03882058523595333,
          0.0377735486254096,
          0.03790264017879963,
          0.03827138524502516,
          0.038720495998859406,
          0.03774613980203867,
          0.036424074321985245,
          0.0355618791654706,
          0.03561194706708193,
          0.03576074633747339,
          0.036014690063893795,
          0.03532564453780651,
          0.0345334867015481,
          0.03398045804351568,
          0.03400503471493721,
          0.034331267699599266,
          0.03468031715601683,
          0.03410925716161728,
          0.03330208547413349,
          0.03274616878479719,
          0.032732377760112286,
          0.03282306995242834,
          0.03297289740294218,
          0.032449571415781975,
          0.032050635665655136,
          0.03160368464887142,
          0.031641848385334015,
          0.0317414915189147,
          0.03188486862927675,
          0.03147788904607296,
          0.031029346864670515,
          0.030683678574860096,
          0.030712099745869637,
          0.03088729688897729,
          0.031103622168302536
         ],
         "yaxis": "y"
        },
        {
         "line": {
          "color": "red"
         },
         "mode": "lines+markers",
         "showlegend": false,
         "type": "scatter",
         "x": [
          0,
          1,
          2,
          3,
          4,
          5,
          6,
          7,
          8,
          9,
          10,
          11,
          12,
          13,
          14,
          15,
          16,
          17,
          18,
          19,
          20,
          21,
          22,
          23,
          24,
          25,
          26,
          27,
          28,
          29,
          30,
          31,
          32,
          33,
          34,
          35,
          36,
          37,
          38,
          39,
          40,
          41,
          42,
          43,
          44,
          45,
          46,
          47,
          48,
          49,
          50,
          51,
          52,
          53,
          54,
          55,
          56,
          57,
          58,
          59
         ],
         "xaxis": "x2",
         "y": [
          0.2947060503065586,
          0.5923525840044022,
          0.6786964684724808,
          0.7058018893003464,
          0.6969635486602783,
          0.6928351670503616,
          0.7087523490190506,
          0.7433590143918991,
          0.7726715505123138,
          0.790047824382782,
          0.7886396199464798,
          0.784845843911171,
          0.7928880155086517,
          0.8155627697706223,
          0.8328827321529388,
          0.8428470641374588,
          0.8421584665775299,
          0.8389072567224503,
          0.8418977111577988,
          0.8515314310789108,
          0.8566016554832458,
          0.8625069111585617,
          0.861378014087677,
          0.8590475171804428,
          0.8607807159423828,
          0.8664777427911758,
          0.8707577139139175,
          0.8732223659753799,
          0.8729996979236603,
          0.8713146597146988,
          0.8722358793020248,
          0.8764692842960358,
          0.8790811449289322,
          0.8814982771873474,
          0.8813395798206329,
          0.8806838095188141,
          0.8806432336568832,
          0.8836546540260315,
          0.8862284868955612,
          0.8879476636648178,
          0.8870557397603989,
          0.8860369920730591,
          0.885993704199791,
          0.8890309035778046,
          0.8914796113967896,
          0.8923107832670212,
          0.8922104984521866,
          0.8921042531728745,
          0.8926024287939072,
          0.893518328666687,
          0.8960990458726883,
          0.8969913274049759,
          0.8968776911497116,
          0.896304190158844,
          0.8968223184347153,
          0.8981326818466187,
          0.90012326836586,
          0.9009220153093338,
          0.9003483206033707,
          0.8999272435903549
         ],
         "yaxis": "y2"
        },
        {
         "line": {
          "color": "blue"
         },
         "mode": "lines+markers",
         "showlegend": false,
         "type": "scatter",
         "x": [
          0,
          1,
          2,
          3,
          4,
          5,
          6,
          7,
          8,
          9,
          10,
          11,
          12,
          13,
          14,
          15,
          16,
          17,
          18,
          19,
          20,
          21,
          22,
          23,
          24,
          25,
          26,
          27,
          28,
          29,
          30,
          31,
          32,
          33,
          34,
          35,
          36,
          37,
          38,
          39,
          40,
          41,
          42,
          43,
          44,
          45,
          46,
          47,
          48,
          49,
          50,
          51,
          52,
          53,
          54,
          55,
          56,
          57,
          58,
          59
         ],
         "xaxis": "x2",
         "y": [
          0.5322535187005997,
          0.6550646722316742,
          0.702641949057579,
          0.6980530619621277,
          0.6904401481151581,
          0.689293161034584,
          0.7296103090047836,
          0.7580877840518951,
          0.7867007553577423,
          0.7864578068256378,
          0.7827574610710144,
          0.7793384194374084,
          0.8045398145914078,
          0.8231862634420395,
          0.8390799015760422,
          0.8388867676258087,
          0.8361186534166336,
          0.8324680626392365,
          0.8455966860055923,
          0.8514589965343475,
          0.8585460484027863,
          0.8580826371908188,
          0.856314018368721,
          0.8537783175706863,
          0.8603205978870392,
          0.8655790537595749,
          0.8693759739398956,
          0.8689108639955521,
          0.8675815463066101,
          0.8659355938434601,
          0.8699274063110352,
          0.8741102665662766,
          0.877091646194458,
          0.8769011050462723,
          0.8763492107391357,
          0.8754032105207443,
          0.8780300617218018,
          0.8808034509420395,
          0.8829651176929474,
          0.882819801568985,
          0.88155198097229,
          0.8802579939365387,
          0.8827033489942551,
          0.8854309618473053,
          0.8873825818300247,
          0.8874340057373047,
          0.8871120363473892,
          0.8865682184696198,
          0.8885132968425751,
          0.8901237398386002,
          0.891574501991272,
          0.8914386630058289,
          0.8910753130912781,
          0.8905550390481949,
          0.892179399728775,
          0.8936780393123627,
          0.8949446380138397,
          0.8948591351509094,
          0.89425128698349,
          0.893470898270607
         ],
         "yaxis": "y2"
        }
       ],
       "layout": {
        "annotations": [
         {
          "font": {
           "size": 16
          },
          "showarrow": false,
          "text": "Loss",
          "x": 0.225,
          "xanchor": "center",
          "xref": "paper",
          "y": 1,
          "yanchor": "bottom",
          "yref": "paper"
         },
         {
          "font": {
           "size": 16
          },
          "showarrow": false,
          "text": "CC",
          "x": 0.775,
          "xanchor": "center",
          "xref": "paper",
          "y": 1,
          "yanchor": "bottom",
          "yref": "paper"
         }
        ],
        "autosize": true,
        "template": {
         "data": {
          "bar": [
           {
            "error_x": {
             "color": "#2a3f5f"
            },
            "error_y": {
             "color": "#2a3f5f"
            },
            "marker": {
             "line": {
              "color": "#E5ECF6",
              "width": 0.5
             },
             "pattern": {
              "fillmode": "overlay",
              "size": 10,
              "solidity": 0.2
             }
            },
            "type": "bar"
           }
          ],
          "barpolar": [
           {
            "marker": {
             "line": {
              "color": "#E5ECF6",
              "width": 0.5
             },
             "pattern": {
              "fillmode": "overlay",
              "size": 10,
              "solidity": 0.2
             }
            },
            "type": "barpolar"
           }
          ],
          "carpet": [
           {
            "aaxis": {
             "endlinecolor": "#2a3f5f",
             "gridcolor": "white",
             "linecolor": "white",
             "minorgridcolor": "white",
             "startlinecolor": "#2a3f5f"
            },
            "baxis": {
             "endlinecolor": "#2a3f5f",
             "gridcolor": "white",
             "linecolor": "white",
             "minorgridcolor": "white",
             "startlinecolor": "#2a3f5f"
            },
            "type": "carpet"
           }
          ],
          "choropleth": [
           {
            "colorbar": {
             "outlinewidth": 0,
             "ticks": ""
            },
            "type": "choropleth"
           }
          ],
          "contour": [
           {
            "colorbar": {
             "outlinewidth": 0,
             "ticks": ""
            },
            "colorscale": [
             [
              0,
              "#0d0887"
             ],
             [
              0.1111111111111111,
              "#46039f"
             ],
             [
              0.2222222222222222,
              "#7201a8"
             ],
             [
              0.3333333333333333,
              "#9c179e"
             ],
             [
              0.4444444444444444,
              "#bd3786"
             ],
             [
              0.5555555555555556,
              "#d8576b"
             ],
             [
              0.6666666666666666,
              "#ed7953"
             ],
             [
              0.7777777777777778,
              "#fb9f3a"
             ],
             [
              0.8888888888888888,
              "#fdca26"
             ],
             [
              1,
              "#f0f921"
             ]
            ],
            "type": "contour"
           }
          ],
          "contourcarpet": [
           {
            "colorbar": {
             "outlinewidth": 0,
             "ticks": ""
            },
            "type": "contourcarpet"
           }
          ],
          "heatmap": [
           {
            "colorbar": {
             "outlinewidth": 0,
             "ticks": ""
            },
            "colorscale": [
             [
              0,
              "#0d0887"
             ],
             [
              0.1111111111111111,
              "#46039f"
             ],
             [
              0.2222222222222222,
              "#7201a8"
             ],
             [
              0.3333333333333333,
              "#9c179e"
             ],
             [
              0.4444444444444444,
              "#bd3786"
             ],
             [
              0.5555555555555556,
              "#d8576b"
             ],
             [
              0.6666666666666666,
              "#ed7953"
             ],
             [
              0.7777777777777778,
              "#fb9f3a"
             ],
             [
              0.8888888888888888,
              "#fdca26"
             ],
             [
              1,
              "#f0f921"
             ]
            ],
            "type": "heatmap"
           }
          ],
          "heatmapgl": [
           {
            "colorbar": {
             "outlinewidth": 0,
             "ticks": ""
            },
            "colorscale": [
             [
              0,
              "#0d0887"
             ],
             [
              0.1111111111111111,
              "#46039f"
             ],
             [
              0.2222222222222222,
              "#7201a8"
             ],
             [
              0.3333333333333333,
              "#9c179e"
             ],
             [
              0.4444444444444444,
              "#bd3786"
             ],
             [
              0.5555555555555556,
              "#d8576b"
             ],
             [
              0.6666666666666666,
              "#ed7953"
             ],
             [
              0.7777777777777778,
              "#fb9f3a"
             ],
             [
              0.8888888888888888,
              "#fdca26"
             ],
             [
              1,
              "#f0f921"
             ]
            ],
            "type": "heatmapgl"
           }
          ],
          "histogram": [
           {
            "marker": {
             "pattern": {
              "fillmode": "overlay",
              "size": 10,
              "solidity": 0.2
             }
            },
            "type": "histogram"
           }
          ],
          "histogram2d": [
           {
            "colorbar": {
             "outlinewidth": 0,
             "ticks": ""
            },
            "colorscale": [
             [
              0,
              "#0d0887"
             ],
             [
              0.1111111111111111,
              "#46039f"
             ],
             [
              0.2222222222222222,
              "#7201a8"
             ],
             [
              0.3333333333333333,
              "#9c179e"
             ],
             [
              0.4444444444444444,
              "#bd3786"
             ],
             [
              0.5555555555555556,
              "#d8576b"
             ],
             [
              0.6666666666666666,
              "#ed7953"
             ],
             [
              0.7777777777777778,
              "#fb9f3a"
             ],
             [
              0.8888888888888888,
              "#fdca26"
             ],
             [
              1,
              "#f0f921"
             ]
            ],
            "type": "histogram2d"
           }
          ],
          "histogram2dcontour": [
           {
            "colorbar": {
             "outlinewidth": 0,
             "ticks": ""
            },
            "colorscale": [
             [
              0,
              "#0d0887"
             ],
             [
              0.1111111111111111,
              "#46039f"
             ],
             [
              0.2222222222222222,
              "#7201a8"
             ],
             [
              0.3333333333333333,
              "#9c179e"
             ],
             [
              0.4444444444444444,
              "#bd3786"
             ],
             [
              0.5555555555555556,
              "#d8576b"
             ],
             [
              0.6666666666666666,
              "#ed7953"
             ],
             [
              0.7777777777777778,
              "#fb9f3a"
             ],
             [
              0.8888888888888888,
              "#fdca26"
             ],
             [
              1,
              "#f0f921"
             ]
            ],
            "type": "histogram2dcontour"
           }
          ],
          "mesh3d": [
           {
            "colorbar": {
             "outlinewidth": 0,
             "ticks": ""
            },
            "type": "mesh3d"
           }
          ],
          "parcoords": [
           {
            "line": {
             "colorbar": {
              "outlinewidth": 0,
              "ticks": ""
             }
            },
            "type": "parcoords"
           }
          ],
          "pie": [
           {
            "automargin": true,
            "type": "pie"
           }
          ],
          "scatter": [
           {
            "fillpattern": {
             "fillmode": "overlay",
             "size": 10,
             "solidity": 0.2
            },
            "type": "scatter"
           }
          ],
          "scatter3d": [
           {
            "line": {
             "colorbar": {
              "outlinewidth": 0,
              "ticks": ""
             }
            },
            "marker": {
             "colorbar": {
              "outlinewidth": 0,
              "ticks": ""
             }
            },
            "type": "scatter3d"
           }
          ],
          "scattercarpet": [
           {
            "marker": {
             "colorbar": {
              "outlinewidth": 0,
              "ticks": ""
             }
            },
            "type": "scattercarpet"
           }
          ],
          "scattergeo": [
           {
            "marker": {
             "colorbar": {
              "outlinewidth": 0,
              "ticks": ""
             }
            },
            "type": "scattergeo"
           }
          ],
          "scattergl": [
           {
            "marker": {
             "colorbar": {
              "outlinewidth": 0,
              "ticks": ""
             }
            },
            "type": "scattergl"
           }
          ],
          "scattermapbox": [
           {
            "marker": {
             "colorbar": {
              "outlinewidth": 0,
              "ticks": ""
             }
            },
            "type": "scattermapbox"
           }
          ],
          "scatterpolar": [
           {
            "marker": {
             "colorbar": {
              "outlinewidth": 0,
              "ticks": ""
             }
            },
            "type": "scatterpolar"
           }
          ],
          "scatterpolargl": [
           {
            "marker": {
             "colorbar": {
              "outlinewidth": 0,
              "ticks": ""
             }
            },
            "type": "scatterpolargl"
           }
          ],
          "scatterternary": [
           {
            "marker": {
             "colorbar": {
              "outlinewidth": 0,
              "ticks": ""
             }
            },
            "type": "scatterternary"
           }
          ],
          "surface": [
           {
            "colorbar": {
             "outlinewidth": 0,
             "ticks": ""
            },
            "colorscale": [
             [
              0,
              "#0d0887"
             ],
             [
              0.1111111111111111,
              "#46039f"
             ],
             [
              0.2222222222222222,
              "#7201a8"
             ],
             [
              0.3333333333333333,
              "#9c179e"
             ],
             [
              0.4444444444444444,
              "#bd3786"
             ],
             [
              0.5555555555555556,
              "#d8576b"
             ],
             [
              0.6666666666666666,
              "#ed7953"
             ],
             [
              0.7777777777777778,
              "#fb9f3a"
             ],
             [
              0.8888888888888888,
              "#fdca26"
             ],
             [
              1,
              "#f0f921"
             ]
            ],
            "type": "surface"
           }
          ],
          "table": [
           {
            "cells": {
             "fill": {
              "color": "#EBF0F8"
             },
             "line": {
              "color": "white"
             }
            },
            "header": {
             "fill": {
              "color": "#C8D4E3"
             },
             "line": {
              "color": "white"
             }
            },
            "type": "table"
           }
          ]
         },
         "layout": {
          "annotationdefaults": {
           "arrowcolor": "#2a3f5f",
           "arrowhead": 0,
           "arrowwidth": 1
          },
          "autotypenumbers": "strict",
          "coloraxis": {
           "colorbar": {
            "outlinewidth": 0,
            "ticks": ""
           }
          },
          "colorscale": {
           "diverging": [
            [
             0,
             "#8e0152"
            ],
            [
             0.1,
             "#c51b7d"
            ],
            [
             0.2,
             "#de77ae"
            ],
            [
             0.3,
             "#f1b6da"
            ],
            [
             0.4,
             "#fde0ef"
            ],
            [
             0.5,
             "#f7f7f7"
            ],
            [
             0.6,
             "#e6f5d0"
            ],
            [
             0.7,
             "#b8e186"
            ],
            [
             0.8,
             "#7fbc41"
            ],
            [
             0.9,
             "#4d9221"
            ],
            [
             1,
             "#276419"
            ]
           ],
           "sequential": [
            [
             0,
             "#0d0887"
            ],
            [
             0.1111111111111111,
             "#46039f"
            ],
            [
             0.2222222222222222,
             "#7201a8"
            ],
            [
             0.3333333333333333,
             "#9c179e"
            ],
            [
             0.4444444444444444,
             "#bd3786"
            ],
            [
             0.5555555555555556,
             "#d8576b"
            ],
            [
             0.6666666666666666,
             "#ed7953"
            ],
            [
             0.7777777777777778,
             "#fb9f3a"
            ],
            [
             0.8888888888888888,
             "#fdca26"
            ],
            [
             1,
             "#f0f921"
            ]
           ],
           "sequentialminus": [
            [
             0,
             "#0d0887"
            ],
            [
             0.1111111111111111,
             "#46039f"
            ],
            [
             0.2222222222222222,
             "#7201a8"
            ],
            [
             0.3333333333333333,
             "#9c179e"
            ],
            [
             0.4444444444444444,
             "#bd3786"
            ],
            [
             0.5555555555555556,
             "#d8576b"
            ],
            [
             0.6666666666666666,
             "#ed7953"
            ],
            [
             0.7777777777777778,
             "#fb9f3a"
            ],
            [
             0.8888888888888888,
             "#fdca26"
            ],
            [
             1,
             "#f0f921"
            ]
           ]
          },
          "colorway": [
           "#636efa",
           "#EF553B",
           "#00cc96",
           "#ab63fa",
           "#FFA15A",
           "#19d3f3",
           "#FF6692",
           "#B6E880",
           "#FF97FF",
           "#FECB52"
          ],
          "font": {
           "color": "#2a3f5f"
          },
          "geo": {
           "bgcolor": "white",
           "lakecolor": "white",
           "landcolor": "#E5ECF6",
           "showlakes": true,
           "showland": true,
           "subunitcolor": "white"
          },
          "hoverlabel": {
           "align": "left"
          },
          "hovermode": "closest",
          "mapbox": {
           "style": "light"
          },
          "paper_bgcolor": "white",
          "plot_bgcolor": "#E5ECF6",
          "polar": {
           "angularaxis": {
            "gridcolor": "white",
            "linecolor": "white",
            "ticks": ""
           },
           "bgcolor": "#E5ECF6",
           "radialaxis": {
            "gridcolor": "white",
            "linecolor": "white",
            "ticks": ""
           }
          },
          "scene": {
           "xaxis": {
            "backgroundcolor": "#E5ECF6",
            "gridcolor": "white",
            "gridwidth": 2,
            "linecolor": "white",
            "showbackground": true,
            "ticks": "",
            "zerolinecolor": "white"
           },
           "yaxis": {
            "backgroundcolor": "#E5ECF6",
            "gridcolor": "white",
            "gridwidth": 2,
            "linecolor": "white",
            "showbackground": true,
            "ticks": "",
            "zerolinecolor": "white"
           },
           "zaxis": {
            "backgroundcolor": "#E5ECF6",
            "gridcolor": "white",
            "gridwidth": 2,
            "linecolor": "white",
            "showbackground": true,
            "ticks": "",
            "zerolinecolor": "white"
           }
          },
          "shapedefaults": {
           "line": {
            "color": "#2a3f5f"
           }
          },
          "ternary": {
           "aaxis": {
            "gridcolor": "white",
            "linecolor": "white",
            "ticks": ""
           },
           "baxis": {
            "gridcolor": "white",
            "linecolor": "white",
            "ticks": ""
           },
           "bgcolor": "#E5ECF6",
           "caxis": {
            "gridcolor": "white",
            "linecolor": "white",
            "ticks": ""
           }
          },
          "title": {
           "x": 0.05
          },
          "xaxis": {
           "automargin": true,
           "gridcolor": "white",
           "linecolor": "white",
           "ticks": "",
           "title": {
            "standoff": 15
           },
           "zerolinecolor": "white",
           "zerolinewidth": 2
          },
          "yaxis": {
           "automargin": true,
           "gridcolor": "white",
           "linecolor": "white",
           "ticks": "",
           "title": {
            "standoff": 15
           },
           "zerolinecolor": "white",
           "zerolinewidth": 2
          }
         }
        },
        "xaxis": {
         "anchor": "y",
         "domain": [
          0,
          0.45
         ]
        },
        "xaxis2": {
         "anchor": "y2",
         "domain": [
          0.55,
          1
         ]
        },
        "yaxis": {
         "anchor": "x",
         "domain": [
          0,
          1
         ],
         "type": "log"
        },
        "yaxis2": {
         "anchor": "x2",
         "domain": [
          0,
          1
         ]
        }
       }
      },
      "text/html": [
       "<div>                            <div id=\"42d27bd3-8b6c-4906-8ceb-5f4e61794e6e\" class=\"plotly-graph-div\" style=\"height:525px; width:100%;\"></div>            <script type=\"text/javascript\">                require([\"plotly\"], function(Plotly) {                    window.PLOTLYENV=window.PLOTLYENV || {};                                    if (document.getElementById(\"42d27bd3-8b6c-4906-8ceb-5f4e61794e6e\")) {                    Plotly.newPlot(                        \"42d27bd3-8b6c-4906-8ceb-5f4e61794e6e\",                        [{\"line\":{\"color\":\"red\"},\"mode\":\"lines+markers\",\"name\":\"Training\",\"x\":[0,1,2,3,4,5,6,7,8,9,10,11,12,13,14,15,16,17,18,19,20,21,22,23,24,25,26,27,28,29,30,31,32,33,34,35,36,37,38,39,40,41,42,43,44,45,46,47,48,49,50,51,52,53,54,55,56,57,58,59],\"y\":[0.32205281406641006,0.23167604207992554,0.17504465207457542,0.14848515391349792,0.1507081277668476,0.15172455459833145,0.13777505233883858,0.1073434166610241,0.08645584620535374,0.07607769407331944,0.07696422189474106,0.07803554087877274,0.07260318100452423,0.06005910597741604,0.05179718602448702,0.04793618991971016,0.048334311693906784,0.049475028179585934,0.04830627515912056,0.04385531973093748,0.0421303641051054,0.040131134912371635,0.040656039491295815,0.04127995576709509,0.040740519762039185,0.039203629828989506,0.0379547206684947,0.03732840344309807,0.03719579987227917,0.03769317734986544,0.03766502905637026,0.03630729578435421,0.035685209557414055,0.034899658523499966,0.034908777102828026,0.03504600189626217,0.035336585715413094,0.03455478698015213,0.03363846242427826,0.03303570672869682,0.0335503276437521,0.03359771054238081,0.03406866267323494,0.03288286551833153,0.032099402509629726,0.03198820352554321,0.03205135744065046,0.031936527229845524,0.03173560090363026,0.03205984737724066,0.030778539832681417,0.030639054253697395,0.030626547522842884,0.03081539925187826,0.030574120581150055,0.03035207185894251,0.029673642944544554,0.029438965022563934,0.02970236726105213,0.02969305496662855],\"type\":\"scatter\",\"xaxis\":\"x\",\"yaxis\":\"y\"},{\"line\":{\"color\":\"blue\"},\"mode\":\"lines+markers\",\"name\":\"Validation\",\"x\":[0,1,2,3,4,5,6,7,8,9,10,11,12,13,14,15,16,17,18,19,20,21,22,23,24,25,26,27,28,29,30,31,32,33,34,35,36,37,38,39,40,41,42,43,44,45,46,47,48,49,50,51,52,53,54,55,56,57,58,59],\"y\":[0.2544746734201908,0.1907523162662983,0.14629073813557625,0.14800618216395378,0.14952459931373596,0.1502658762037754,0.11581413261592388,0.09266254864633083,0.07538092695176601,0.07602536864578724,0.07734191417694092,0.07811332866549492,0.06387522257864475,0.054509613662958145,0.04819664265960455,0.04839659854769707,0.04953541699796915,0.05065260827541351,0.04519366379827261,0.04250492062419653,0.040752990171313286,0.0409505283460021,0.04153154976665974,0.04219587426632643,0.04036920424550772,0.03882058523595333,0.0377735486254096,0.03790264017879963,0.03827138524502516,0.038720495998859406,0.03774613980203867,0.036424074321985245,0.0355618791654706,0.03561194706708193,0.03576074633747339,0.036014690063893795,0.03532564453780651,0.0345334867015481,0.03398045804351568,0.03400503471493721,0.034331267699599266,0.03468031715601683,0.03410925716161728,0.03330208547413349,0.03274616878479719,0.032732377760112286,0.03282306995242834,0.03297289740294218,0.032449571415781975,0.032050635665655136,0.03160368464887142,0.031641848385334015,0.0317414915189147,0.03188486862927675,0.03147788904607296,0.031029346864670515,0.030683678574860096,0.030712099745869637,0.03088729688897729,0.031103622168302536],\"type\":\"scatter\",\"xaxis\":\"x\",\"yaxis\":\"y\"},{\"line\":{\"color\":\"red\"},\"mode\":\"lines+markers\",\"showlegend\":false,\"x\":[0,1,2,3,4,5,6,7,8,9,10,11,12,13,14,15,16,17,18,19,20,21,22,23,24,25,26,27,28,29,30,31,32,33,34,35,36,37,38,39,40,41,42,43,44,45,46,47,48,49,50,51,52,53,54,55,56,57,58,59],\"y\":[0.2947060503065586,0.5923525840044022,0.6786964684724808,0.7058018893003464,0.6969635486602783,0.6928351670503616,0.7087523490190506,0.7433590143918991,0.7726715505123138,0.790047824382782,0.7886396199464798,0.784845843911171,0.7928880155086517,0.8155627697706223,0.8328827321529388,0.8428470641374588,0.8421584665775299,0.8389072567224503,0.8418977111577988,0.8515314310789108,0.8566016554832458,0.8625069111585617,0.861378014087677,0.8590475171804428,0.8607807159423828,0.8664777427911758,0.8707577139139175,0.8732223659753799,0.8729996979236603,0.8713146597146988,0.8722358793020248,0.8764692842960358,0.8790811449289322,0.8814982771873474,0.8813395798206329,0.8806838095188141,0.8806432336568832,0.8836546540260315,0.8862284868955612,0.8879476636648178,0.8870557397603989,0.8860369920730591,0.885993704199791,0.8890309035778046,0.8914796113967896,0.8923107832670212,0.8922104984521866,0.8921042531728745,0.8926024287939072,0.893518328666687,0.8960990458726883,0.8969913274049759,0.8968776911497116,0.896304190158844,0.8968223184347153,0.8981326818466187,0.90012326836586,0.9009220153093338,0.9003483206033707,0.8999272435903549],\"type\":\"scatter\",\"xaxis\":\"x2\",\"yaxis\":\"y2\"},{\"line\":{\"color\":\"blue\"},\"mode\":\"lines+markers\",\"showlegend\":false,\"x\":[0,1,2,3,4,5,6,7,8,9,10,11,12,13,14,15,16,17,18,19,20,21,22,23,24,25,26,27,28,29,30,31,32,33,34,35,36,37,38,39,40,41,42,43,44,45,46,47,48,49,50,51,52,53,54,55,56,57,58,59],\"y\":[0.5322535187005997,0.6550646722316742,0.702641949057579,0.6980530619621277,0.6904401481151581,0.689293161034584,0.7296103090047836,0.7580877840518951,0.7867007553577423,0.7864578068256378,0.7827574610710144,0.7793384194374084,0.8045398145914078,0.8231862634420395,0.8390799015760422,0.8388867676258087,0.8361186534166336,0.8324680626392365,0.8455966860055923,0.8514589965343475,0.8585460484027863,0.8580826371908188,0.856314018368721,0.8537783175706863,0.8603205978870392,0.8655790537595749,0.8693759739398956,0.8689108639955521,0.8675815463066101,0.8659355938434601,0.8699274063110352,0.8741102665662766,0.877091646194458,0.8769011050462723,0.8763492107391357,0.8754032105207443,0.8780300617218018,0.8808034509420395,0.8829651176929474,0.882819801568985,0.88155198097229,0.8802579939365387,0.8827033489942551,0.8854309618473053,0.8873825818300247,0.8874340057373047,0.8871120363473892,0.8865682184696198,0.8885132968425751,0.8901237398386002,0.891574501991272,0.8914386630058289,0.8910753130912781,0.8905550390481949,0.892179399728775,0.8936780393123627,0.8949446380138397,0.8948591351509094,0.89425128698349,0.893470898270607],\"type\":\"scatter\",\"xaxis\":\"x2\",\"yaxis\":\"y2\"}],                        {\"template\":{\"data\":{\"histogram2dcontour\":[{\"type\":\"histogram2dcontour\",\"colorbar\":{\"outlinewidth\":0,\"ticks\":\"\"},\"colorscale\":[[0.0,\"#0d0887\"],[0.1111111111111111,\"#46039f\"],[0.2222222222222222,\"#7201a8\"],[0.3333333333333333,\"#9c179e\"],[0.4444444444444444,\"#bd3786\"],[0.5555555555555556,\"#d8576b\"],[0.6666666666666666,\"#ed7953\"],[0.7777777777777778,\"#fb9f3a\"],[0.8888888888888888,\"#fdca26\"],[1.0,\"#f0f921\"]]}],\"choropleth\":[{\"type\":\"choropleth\",\"colorbar\":{\"outlinewidth\":0,\"ticks\":\"\"}}],\"histogram2d\":[{\"type\":\"histogram2d\",\"colorbar\":{\"outlinewidth\":0,\"ticks\":\"\"},\"colorscale\":[[0.0,\"#0d0887\"],[0.1111111111111111,\"#46039f\"],[0.2222222222222222,\"#7201a8\"],[0.3333333333333333,\"#9c179e\"],[0.4444444444444444,\"#bd3786\"],[0.5555555555555556,\"#d8576b\"],[0.6666666666666666,\"#ed7953\"],[0.7777777777777778,\"#fb9f3a\"],[0.8888888888888888,\"#fdca26\"],[1.0,\"#f0f921\"]]}],\"heatmap\":[{\"type\":\"heatmap\",\"colorbar\":{\"outlinewidth\":0,\"ticks\":\"\"},\"colorscale\":[[0.0,\"#0d0887\"],[0.1111111111111111,\"#46039f\"],[0.2222222222222222,\"#7201a8\"],[0.3333333333333333,\"#9c179e\"],[0.4444444444444444,\"#bd3786\"],[0.5555555555555556,\"#d8576b\"],[0.6666666666666666,\"#ed7953\"],[0.7777777777777778,\"#fb9f3a\"],[0.8888888888888888,\"#fdca26\"],[1.0,\"#f0f921\"]]}],\"heatmapgl\":[{\"type\":\"heatmapgl\",\"colorbar\":{\"outlinewidth\":0,\"ticks\":\"\"},\"colorscale\":[[0.0,\"#0d0887\"],[0.1111111111111111,\"#46039f\"],[0.2222222222222222,\"#7201a8\"],[0.3333333333333333,\"#9c179e\"],[0.4444444444444444,\"#bd3786\"],[0.5555555555555556,\"#d8576b\"],[0.6666666666666666,\"#ed7953\"],[0.7777777777777778,\"#fb9f3a\"],[0.8888888888888888,\"#fdca26\"],[1.0,\"#f0f921\"]]}],\"contourcarpet\":[{\"type\":\"contourcarpet\",\"colorbar\":{\"outlinewidth\":0,\"ticks\":\"\"}}],\"contour\":[{\"type\":\"contour\",\"colorbar\":{\"outlinewidth\":0,\"ticks\":\"\"},\"colorscale\":[[0.0,\"#0d0887\"],[0.1111111111111111,\"#46039f\"],[0.2222222222222222,\"#7201a8\"],[0.3333333333333333,\"#9c179e\"],[0.4444444444444444,\"#bd3786\"],[0.5555555555555556,\"#d8576b\"],[0.6666666666666666,\"#ed7953\"],[0.7777777777777778,\"#fb9f3a\"],[0.8888888888888888,\"#fdca26\"],[1.0,\"#f0f921\"]]}],\"surface\":[{\"type\":\"surface\",\"colorbar\":{\"outlinewidth\":0,\"ticks\":\"\"},\"colorscale\":[[0.0,\"#0d0887\"],[0.1111111111111111,\"#46039f\"],[0.2222222222222222,\"#7201a8\"],[0.3333333333333333,\"#9c179e\"],[0.4444444444444444,\"#bd3786\"],[0.5555555555555556,\"#d8576b\"],[0.6666666666666666,\"#ed7953\"],[0.7777777777777778,\"#fb9f3a\"],[0.8888888888888888,\"#fdca26\"],[1.0,\"#f0f921\"]]}],\"mesh3d\":[{\"type\":\"mesh3d\",\"colorbar\":{\"outlinewidth\":0,\"ticks\":\"\"}}],\"scatter\":[{\"fillpattern\":{\"fillmode\":\"overlay\",\"size\":10,\"solidity\":0.2},\"type\":\"scatter\"}],\"parcoords\":[{\"type\":\"parcoords\",\"line\":{\"colorbar\":{\"outlinewidth\":0,\"ticks\":\"\"}}}],\"scatterpolargl\":[{\"type\":\"scatterpolargl\",\"marker\":{\"colorbar\":{\"outlinewidth\":0,\"ticks\":\"\"}}}],\"bar\":[{\"error_x\":{\"color\":\"#2a3f5f\"},\"error_y\":{\"color\":\"#2a3f5f\"},\"marker\":{\"line\":{\"color\":\"#E5ECF6\",\"width\":0.5},\"pattern\":{\"fillmode\":\"overlay\",\"size\":10,\"solidity\":0.2}},\"type\":\"bar\"}],\"scattergeo\":[{\"type\":\"scattergeo\",\"marker\":{\"colorbar\":{\"outlinewidth\":0,\"ticks\":\"\"}}}],\"scatterpolar\":[{\"type\":\"scatterpolar\",\"marker\":{\"colorbar\":{\"outlinewidth\":0,\"ticks\":\"\"}}}],\"histogram\":[{\"marker\":{\"pattern\":{\"fillmode\":\"overlay\",\"size\":10,\"solidity\":0.2}},\"type\":\"histogram\"}],\"scattergl\":[{\"type\":\"scattergl\",\"marker\":{\"colorbar\":{\"outlinewidth\":0,\"ticks\":\"\"}}}],\"scatter3d\":[{\"type\":\"scatter3d\",\"line\":{\"colorbar\":{\"outlinewidth\":0,\"ticks\":\"\"}},\"marker\":{\"colorbar\":{\"outlinewidth\":0,\"ticks\":\"\"}}}],\"scattermapbox\":[{\"type\":\"scattermapbox\",\"marker\":{\"colorbar\":{\"outlinewidth\":0,\"ticks\":\"\"}}}],\"scatterternary\":[{\"type\":\"scatterternary\",\"marker\":{\"colorbar\":{\"outlinewidth\":0,\"ticks\":\"\"}}}],\"scattercarpet\":[{\"type\":\"scattercarpet\",\"marker\":{\"colorbar\":{\"outlinewidth\":0,\"ticks\":\"\"}}}],\"carpet\":[{\"aaxis\":{\"endlinecolor\":\"#2a3f5f\",\"gridcolor\":\"white\",\"linecolor\":\"white\",\"minorgridcolor\":\"white\",\"startlinecolor\":\"#2a3f5f\"},\"baxis\":{\"endlinecolor\":\"#2a3f5f\",\"gridcolor\":\"white\",\"linecolor\":\"white\",\"minorgridcolor\":\"white\",\"startlinecolor\":\"#2a3f5f\"},\"type\":\"carpet\"}],\"table\":[{\"cells\":{\"fill\":{\"color\":\"#EBF0F8\"},\"line\":{\"color\":\"white\"}},\"header\":{\"fill\":{\"color\":\"#C8D4E3\"},\"line\":{\"color\":\"white\"}},\"type\":\"table\"}],\"barpolar\":[{\"marker\":{\"line\":{\"color\":\"#E5ECF6\",\"width\":0.5},\"pattern\":{\"fillmode\":\"overlay\",\"size\":10,\"solidity\":0.2}},\"type\":\"barpolar\"}],\"pie\":[{\"automargin\":true,\"type\":\"pie\"}]},\"layout\":{\"autotypenumbers\":\"strict\",\"colorway\":[\"#636efa\",\"#EF553B\",\"#00cc96\",\"#ab63fa\",\"#FFA15A\",\"#19d3f3\",\"#FF6692\",\"#B6E880\",\"#FF97FF\",\"#FECB52\"],\"font\":{\"color\":\"#2a3f5f\"},\"hovermode\":\"closest\",\"hoverlabel\":{\"align\":\"left\"},\"paper_bgcolor\":\"white\",\"plot_bgcolor\":\"#E5ECF6\",\"polar\":{\"bgcolor\":\"#E5ECF6\",\"angularaxis\":{\"gridcolor\":\"white\",\"linecolor\":\"white\",\"ticks\":\"\"},\"radialaxis\":{\"gridcolor\":\"white\",\"linecolor\":\"white\",\"ticks\":\"\"}},\"ternary\":{\"bgcolor\":\"#E5ECF6\",\"aaxis\":{\"gridcolor\":\"white\",\"linecolor\":\"white\",\"ticks\":\"\"},\"baxis\":{\"gridcolor\":\"white\",\"linecolor\":\"white\",\"ticks\":\"\"},\"caxis\":{\"gridcolor\":\"white\",\"linecolor\":\"white\",\"ticks\":\"\"}},\"coloraxis\":{\"colorbar\":{\"outlinewidth\":0,\"ticks\":\"\"}},\"colorscale\":{\"sequential\":[[0.0,\"#0d0887\"],[0.1111111111111111,\"#46039f\"],[0.2222222222222222,\"#7201a8\"],[0.3333333333333333,\"#9c179e\"],[0.4444444444444444,\"#bd3786\"],[0.5555555555555556,\"#d8576b\"],[0.6666666666666666,\"#ed7953\"],[0.7777777777777778,\"#fb9f3a\"],[0.8888888888888888,\"#fdca26\"],[1.0,\"#f0f921\"]],\"sequentialminus\":[[0.0,\"#0d0887\"],[0.1111111111111111,\"#46039f\"],[0.2222222222222222,\"#7201a8\"],[0.3333333333333333,\"#9c179e\"],[0.4444444444444444,\"#bd3786\"],[0.5555555555555556,\"#d8576b\"],[0.6666666666666666,\"#ed7953\"],[0.7777777777777778,\"#fb9f3a\"],[0.8888888888888888,\"#fdca26\"],[1.0,\"#f0f921\"]],\"diverging\":[[0,\"#8e0152\"],[0.1,\"#c51b7d\"],[0.2,\"#de77ae\"],[0.3,\"#f1b6da\"],[0.4,\"#fde0ef\"],[0.5,\"#f7f7f7\"],[0.6,\"#e6f5d0\"],[0.7,\"#b8e186\"],[0.8,\"#7fbc41\"],[0.9,\"#4d9221\"],[1,\"#276419\"]]},\"xaxis\":{\"gridcolor\":\"white\",\"linecolor\":\"white\",\"ticks\":\"\",\"title\":{\"standoff\":15},\"zerolinecolor\":\"white\",\"automargin\":true,\"zerolinewidth\":2},\"yaxis\":{\"gridcolor\":\"white\",\"linecolor\":\"white\",\"ticks\":\"\",\"title\":{\"standoff\":15},\"zerolinecolor\":\"white\",\"automargin\":true,\"zerolinewidth\":2},\"scene\":{\"xaxis\":{\"backgroundcolor\":\"#E5ECF6\",\"gridcolor\":\"white\",\"linecolor\":\"white\",\"showbackground\":true,\"ticks\":\"\",\"zerolinecolor\":\"white\",\"gridwidth\":2},\"yaxis\":{\"backgroundcolor\":\"#E5ECF6\",\"gridcolor\":\"white\",\"linecolor\":\"white\",\"showbackground\":true,\"ticks\":\"\",\"zerolinecolor\":\"white\",\"gridwidth\":2},\"zaxis\":{\"backgroundcolor\":\"#E5ECF6\",\"gridcolor\":\"white\",\"linecolor\":\"white\",\"showbackground\":true,\"ticks\":\"\",\"zerolinecolor\":\"white\",\"gridwidth\":2}},\"shapedefaults\":{\"line\":{\"color\":\"#2a3f5f\"}},\"annotationdefaults\":{\"arrowcolor\":\"#2a3f5f\",\"arrowhead\":0,\"arrowwidth\":1},\"geo\":{\"bgcolor\":\"white\",\"landcolor\":\"#E5ECF6\",\"subunitcolor\":\"white\",\"showland\":true,\"showlakes\":true,\"lakecolor\":\"white\"},\"title\":{\"x\":0.05},\"mapbox\":{\"style\":\"light\"}}},\"xaxis\":{\"anchor\":\"y\",\"domain\":[0.0,0.45]},\"yaxis\":{\"anchor\":\"x\",\"domain\":[0.0,1.0],\"type\":\"log\"},\"xaxis2\":{\"anchor\":\"y2\",\"domain\":[0.55,1.0]},\"yaxis2\":{\"anchor\":\"x2\",\"domain\":[0.0,1.0]},\"annotations\":[{\"font\":{\"size\":16},\"showarrow\":false,\"text\":\"Loss\",\"x\":0.225,\"xanchor\":\"center\",\"xref\":\"paper\",\"y\":1.0,\"yanchor\":\"bottom\",\"yref\":\"paper\"},{\"font\":{\"size\":16},\"showarrow\":false,\"text\":\"CC\",\"x\":0.775,\"xanchor\":\"center\",\"xref\":\"paper\",\"y\":1.0,\"yanchor\":\"bottom\",\"yref\":\"paper\"}],\"autosize\":true},                        {\"responsive\": true}                    ).then(function(){\n",
       "                            \n",
       "var gd = document.getElementById('42d27bd3-8b6c-4906-8ceb-5f4e61794e6e');\n",
       "var x = new MutationObserver(function (mutations, observer) {{\n",
       "        var display = window.getComputedStyle(gd).display;\n",
       "        if (!display || display === 'none') {{\n",
       "            console.log([gd, 'removed!']);\n",
       "            Plotly.purge(gd);\n",
       "            observer.disconnect();\n",
       "        }}\n",
       "}});\n",
       "\n",
       "// Listen for the removal of the full notebook cells\n",
       "var notebookContainer = gd.closest('#notebook-container');\n",
       "if (notebookContainer) {{\n",
       "    x.observe(notebookContainer, {childList: true});\n",
       "}}\n",
       "\n",
       "// Listen for the clearing of the current output cell\n",
       "var outputEl = gd.closest('.output');\n",
       "if (outputEl) {{\n",
       "    x.observe(outputEl, {childList: true});\n",
       "}}\n",
       "\n",
       "                        })                };                });            </script>        </div>"
      ]
     },
     "metadata": {},
     "output_type": "display_data"
    },
    {
     "name": "stdout",
     "output_type": "stream",
     "text": [
      "Epoch    4,  of 20 >-*-< Mini Epoch     1 of 3 >-*-< Learning rate 1.000e-03\n",
      "** Autoencoding Losses **\n",
      "Training Loss    : 6.9182e-02 | Validation Loss      : 6.9431e-02\n",
      "Training CC      : 0.8040     | Validation CC        : 0.7978 \n",
      "** Classification Losses **    <---- Now Optimizing\n",
      "Training Loss    : 8.2768e-01 | Validation Loss      : 8.9613e-01\n",
      "Training F1 Macro: 0.6823     | Validation F1 Macro  : 0.6561 \n",
      "Training F1 Micro: 0.7084     | Validation F1 Micro  : 0.6600 \n",
      "\n",
      "Epoch    7,  of 20 >-*-< Mini Epoch     2 of 3 >-*-< Learning rate 1.000e-03\n",
      "** Autoencoding Losses **      <---- Now Optimizing\n",
      "Training Loss    : 4.3305e-02 | Validation Loss      : 4.3146e-02\n",
      "Training CC      : 0.8536     | Validation CC        : 0.8538 \n",
      "** Classification Losses **\n",
      "Training Loss    : 5.5720e-01 | Validation Loss      : 6.9259e-01\n",
      "Training F1 Macro: 0.7413     | Validation F1 Macro  : 0.7040 \n",
      "Training F1 Micro: 0.7508     | Validation F1 Micro  : 0.7050 \n",
      "\n",
      "Epoch   10,  of 20 >-*-< Mini Epoch     3 of 3 >-*-< Learning rate 1.000e-03\n",
      "** Autoencoding Losses **\n",
      "Training Loss    : 3.7685e-02 | Validation Loss      : 3.8594e-02\n",
      "Training CC      : 0.8727     | Validation CC        : 0.8663 \n",
      "** Classification Losses **    <---- Now Optimizing\n",
      "Training Loss    : 3.9805e-01 | Validation Loss      : 5.1445e-01\n",
      "Training F1 Macro: 0.8420     | Validation F1 Macro  : 0.7678 \n",
      "Training F1 Micro: 0.8350     | Validation F1 Micro  : 0.7675 \n",
      "\n",
      "Epoch   14,  of 20 >-*-< Mini Epoch     1 of 3 >-*-< Learning rate 1.000e-03\n",
      "** Autoencoding Losses **\n",
      "Training Loss    : 3.1957e-02 | Validation Loss      : 3.3037e-02\n",
      "Training CC      : 0.8918     | Validation CC        : 0.8863 \n",
      "** Classification Losses **    <---- Now Optimizing\n",
      "Training Loss    : 4.0162e-01 | Validation Loss      : 5.1773e-01\n",
      "Training F1 Macro: 0.8107     | Validation F1 Macro  : 0.7652 \n",
      "Training F1 Micro: 0.8111     | Validation F1 Micro  : 0.7650 \n",
      "\n",
      "Epoch   17,  of 20 >-*-< Mini Epoch     2 of 3 >-*-< Learning rate 1.000e-03\n",
      "** Autoencoding Losses **      <---- Now Optimizing\n",
      "Training Loss    : 3.0578e-02 | Validation Loss      : 3.1132e-02\n",
      "Training CC      : 0.8974     | Validation CC        : 0.8934 \n",
      "** Classification Losses **\n",
      "Training Loss    : 3.9328e-01 | Validation Loss      : 4.9797e-01\n",
      "Training F1 Macro: 0.8048     | Validation F1 Macro  : 0.7714 \n",
      "Training F1 Micro: 0.8016     | Validation F1 Micro  : 0.7700 \n",
      "\n"
     ]
    },
    {
     "ename": "KeyboardInterrupt",
     "evalue": "",
     "output_type": "error",
     "traceback": [
      "\u001b[0;31m---------------------------------------------------------------------------\u001b[0m",
      "\u001b[0;31mKeyboardInterrupt\u001b[0m                         Traceback (most recent call last)",
      "Cell \u001b[0;32mIn[10], line 15\u001b[0m\n\u001b[1;32m     11\u001b[0m criterion_label \u001b[38;5;241m=\u001b[39m nn\u001b[38;5;241m.\u001b[39mCrossEntropyLoss(ignore_index\u001b[38;5;241m=\u001b[39m\u001b[38;5;241m-\u001b[39m\u001b[38;5;241m1\u001b[39m)\n\u001b[1;32m     12\u001b[0m optimizer_label \u001b[38;5;241m=\u001b[39m optim\u001b[38;5;241m.\u001b[39mAdam(autoencoder\u001b[38;5;241m.\u001b[39mparameters(), lr\u001b[38;5;241m=\u001b[39mlearning_rate)\n\u001b[0;32m---> 15\u001b[0m rv \u001b[38;5;241m=\u001b[39m \u001b[43mtrain_scripts\u001b[49m\u001b[38;5;241;43m.\u001b[39;49m\u001b[43mautoencode_and_classify_training\u001b[49m\u001b[43m(\u001b[49m\u001b[43mnet\u001b[49m\u001b[38;5;241;43m=\u001b[39;49m\u001b[43mautoencoder\u001b[49m\u001b[38;5;241;43m.\u001b[39;49m\u001b[43mto\u001b[49m\u001b[43m(\u001b[49m\u001b[38;5;124;43m'\u001b[39;49m\u001b[38;5;124;43mcuda:0\u001b[39;49m\u001b[38;5;124;43m'\u001b[39;49m\u001b[43m)\u001b[49m\u001b[43m,\u001b[49m\n\u001b[1;32m     16\u001b[0m \u001b[43m                                                    \u001b[49m\u001b[43mtrainloader\u001b[49m\u001b[38;5;241;43m=\u001b[39;49m\u001b[43mtrain_loader\u001b[49m\u001b[43m,\u001b[49m\n\u001b[1;32m     17\u001b[0m \u001b[43m                                                    \u001b[49m\u001b[43mvalidationloader\u001b[49m\u001b[38;5;241;43m=\u001b[39;49m\u001b[43mtest_loader\u001b[49m\u001b[43m,\u001b[49m\n\u001b[1;32m     18\u001b[0m \u001b[43m                                                    \u001b[49m\u001b[43mmacro_epochs\u001b[49m\u001b[38;5;241;43m=\u001b[39;49m\u001b[43mnum_epochs\u001b[49m\u001b[43m,\u001b[49m\n\u001b[1;32m     19\u001b[0m \u001b[43m                                                    \u001b[49m\u001b[43mmini_epochs\u001b[49m\u001b[38;5;241;43m=\u001b[39;49m\u001b[38;5;241;43m3\u001b[39;49m\u001b[43m,\u001b[49m\n\u001b[1;32m     20\u001b[0m \u001b[43m                                                    \u001b[49m\u001b[43mcriteria_autoencode\u001b[49m\u001b[38;5;241;43m=\u001b[39;49m\u001b[43mcriterion_AE\u001b[49m\u001b[43m,\u001b[49m\n\u001b[1;32m     21\u001b[0m \u001b[43m                                                    \u001b[49m\u001b[43mminimizer_autoencode\u001b[49m\u001b[38;5;241;43m=\u001b[39;49m\u001b[43moptimizer_AE\u001b[49m\u001b[43m,\u001b[49m\n\u001b[1;32m     22\u001b[0m \u001b[43m                                                    \u001b[49m\u001b[43mcriteria_classify\u001b[49m\u001b[38;5;241;43m=\u001b[39;49m\u001b[43mcriterion_label\u001b[49m\u001b[43m,\u001b[49m\n\u001b[1;32m     23\u001b[0m \u001b[43m                                                    \u001b[49m\u001b[43mminimizer_classify\u001b[49m\u001b[38;5;241;43m=\u001b[39;49m\u001b[43moptimizer_label\u001b[49m\u001b[43m,\u001b[49m\n\u001b[1;32m     24\u001b[0m \u001b[43m                                                    \u001b[49m\u001b[43mdevice\u001b[49m\u001b[38;5;241;43m=\u001b[39;49m\u001b[38;5;124;43m\"\u001b[39;49m\u001b[38;5;124;43mcuda:0\u001b[39;49m\u001b[38;5;124;43m\"\u001b[39;49m\u001b[43m,\u001b[49m\u001b[43m \u001b[49m\n\u001b[1;32m     25\u001b[0m \u001b[43m                                                    \u001b[49m\u001b[43mshow\u001b[49m\u001b[38;5;241;43m=\u001b[39;49m\u001b[38;5;241;43m10\u001b[39;49m\u001b[43m,\u001b[49m\u001b[43m \u001b[49m\n\u001b[1;32m     26\u001b[0m \u001b[43m                                                    \u001b[49m\u001b[43mclip_value\u001b[49m\u001b[38;5;241;43m=\u001b[39;49m\u001b[38;5;241;43m100.0\u001b[39;49m\u001b[43m)\u001b[49m\n\u001b[1;32m     28\u001b[0m \u001b[38;5;28mprint\u001b[39m(\u001b[38;5;124m'\u001b[39m\u001b[38;5;124mAutoencoder input reconstruction performance\u001b[39m\u001b[38;5;124m'\u001b[39m)\n\u001b[1;32m     29\u001b[0m plots\u001b[38;5;241m.\u001b[39mplot_training_results_segmentation(rv[\u001b[38;5;241m2\u001b[39m])\u001b[38;5;241m.\u001b[39mshow()\n",
      "File \u001b[0;32m~/dlsia/dlsia/core/train_scripts.py:678\u001b[0m, in \u001b[0;36mautoencode_and_classify_training\u001b[0;34m(net, trainloader, validationloader, macro_epochs, mini_epochs, criteria_autoencode, minimizer_autoencode, criteria_classify, minimizer_classify, device, scheduler, clip_value, show)\u001b[0m\n\u001b[1;32m    676\u001b[0m \u001b[38;5;28;01mif\u001b[39;00m clip_value \u001b[38;5;129;01mis\u001b[39;00m \u001b[38;5;129;01mnot\u001b[39;00m \u001b[38;5;28;01mNone\u001b[39;00m:\n\u001b[1;32m    677\u001b[0m     torch\u001b[38;5;241m.\u001b[39mnn\u001b[38;5;241m.\u001b[39mutils\u001b[38;5;241m.\u001b[39mclip_grad_value_(net\u001b[38;5;241m.\u001b[39mparameters(), clip_value)\n\u001b[0;32m--> 678\u001b[0m minimizer_autoencode\u001b[38;5;241m.\u001b[39mstep()\n\u001b[1;32m    679\u001b[0m \u001b[38;5;28;01mif\u001b[39;00m scheduler \u001b[38;5;129;01mis\u001b[39;00m \u001b[38;5;129;01mnot\u001b[39;00m \u001b[38;5;28;01mNone\u001b[39;00m:\n\u001b[1;32m    680\u001b[0m     scheduler\u001b[38;5;241m.\u001b[39mstep()\n",
      "File \u001b[0;32m~/anaconda3/envs/dlsia/lib/python3.9/site-packages/torch/optim/optimizer.py:140\u001b[0m, in \u001b[0;36mOptimizer._hook_for_profile.<locals>.profile_hook_step.<locals>.wrapper\u001b[0;34m(*args, **kwargs)\u001b[0m\n\u001b[1;32m    138\u001b[0m profile_name \u001b[38;5;241m=\u001b[39m \u001b[38;5;124m\"\u001b[39m\u001b[38;5;124mOptimizer.step#\u001b[39m\u001b[38;5;132;01m{}\u001b[39;00m\u001b[38;5;124m.step\u001b[39m\u001b[38;5;124m\"\u001b[39m\u001b[38;5;241m.\u001b[39mformat(obj\u001b[38;5;241m.\u001b[39m\u001b[38;5;18m__class__\u001b[39m\u001b[38;5;241m.\u001b[39m\u001b[38;5;18m__name__\u001b[39m)\n\u001b[1;32m    139\u001b[0m \u001b[38;5;28;01mwith\u001b[39;00m torch\u001b[38;5;241m.\u001b[39mautograd\u001b[38;5;241m.\u001b[39mprofiler\u001b[38;5;241m.\u001b[39mrecord_function(profile_name):\n\u001b[0;32m--> 140\u001b[0m     out \u001b[38;5;241m=\u001b[39m \u001b[43mfunc\u001b[49m\u001b[43m(\u001b[49m\u001b[38;5;241;43m*\u001b[39;49m\u001b[43margs\u001b[49m\u001b[43m,\u001b[49m\u001b[43m \u001b[49m\u001b[38;5;241;43m*\u001b[39;49m\u001b[38;5;241;43m*\u001b[39;49m\u001b[43mkwargs\u001b[49m\u001b[43m)\u001b[49m\n\u001b[1;32m    141\u001b[0m     obj\u001b[38;5;241m.\u001b[39m_optimizer_step_code()\n\u001b[1;32m    142\u001b[0m     \u001b[38;5;28;01mreturn\u001b[39;00m out\n",
      "File \u001b[0;32m~/anaconda3/envs/dlsia/lib/python3.9/site-packages/torch/optim/optimizer.py:23\u001b[0m, in \u001b[0;36m_use_grad_for_differentiable.<locals>._use_grad\u001b[0;34m(self, *args, **kwargs)\u001b[0m\n\u001b[1;32m     21\u001b[0m \u001b[38;5;28;01mtry\u001b[39;00m:\n\u001b[1;32m     22\u001b[0m     torch\u001b[38;5;241m.\u001b[39mset_grad_enabled(\u001b[38;5;28mself\u001b[39m\u001b[38;5;241m.\u001b[39mdefaults[\u001b[38;5;124m'\u001b[39m\u001b[38;5;124mdifferentiable\u001b[39m\u001b[38;5;124m'\u001b[39m])\n\u001b[0;32m---> 23\u001b[0m     ret \u001b[38;5;241m=\u001b[39m \u001b[43mfunc\u001b[49m\u001b[43m(\u001b[49m\u001b[38;5;28;43mself\u001b[39;49m\u001b[43m,\u001b[49m\u001b[43m \u001b[49m\u001b[38;5;241;43m*\u001b[39;49m\u001b[43margs\u001b[49m\u001b[43m,\u001b[49m\u001b[43m \u001b[49m\u001b[38;5;241;43m*\u001b[39;49m\u001b[38;5;241;43m*\u001b[39;49m\u001b[43mkwargs\u001b[49m\u001b[43m)\u001b[49m\n\u001b[1;32m     24\u001b[0m \u001b[38;5;28;01mfinally\u001b[39;00m:\n\u001b[1;32m     25\u001b[0m     torch\u001b[38;5;241m.\u001b[39mset_grad_enabled(prev_grad)\n",
      "File \u001b[0;32m~/anaconda3/envs/dlsia/lib/python3.9/site-packages/torch/optim/adam.py:234\u001b[0m, in \u001b[0;36mAdam.step\u001b[0;34m(self, closure, grad_scaler)\u001b[0m\n\u001b[1;32m    231\u001b[0m                 \u001b[38;5;28;01mraise\u001b[39;00m \u001b[38;5;167;01mRuntimeError\u001b[39;00m(\u001b[38;5;124m'\u001b[39m\u001b[38;5;124m`requires_grad` is not supported for `step` in differentiable mode\u001b[39m\u001b[38;5;124m'\u001b[39m)\n\u001b[1;32m    232\u001b[0m             state_steps\u001b[38;5;241m.\u001b[39mappend(state[\u001b[38;5;124m'\u001b[39m\u001b[38;5;124mstep\u001b[39m\u001b[38;5;124m'\u001b[39m])\n\u001b[0;32m--> 234\u001b[0m     \u001b[43madam\u001b[49m\u001b[43m(\u001b[49m\u001b[43mparams_with_grad\u001b[49m\u001b[43m,\u001b[49m\n\u001b[1;32m    235\u001b[0m \u001b[43m         \u001b[49m\u001b[43mgrads\u001b[49m\u001b[43m,\u001b[49m\n\u001b[1;32m    236\u001b[0m \u001b[43m         \u001b[49m\u001b[43mexp_avgs\u001b[49m\u001b[43m,\u001b[49m\n\u001b[1;32m    237\u001b[0m \u001b[43m         \u001b[49m\u001b[43mexp_avg_sqs\u001b[49m\u001b[43m,\u001b[49m\n\u001b[1;32m    238\u001b[0m \u001b[43m         \u001b[49m\u001b[43mmax_exp_avg_sqs\u001b[49m\u001b[43m,\u001b[49m\n\u001b[1;32m    239\u001b[0m \u001b[43m         \u001b[49m\u001b[43mstate_steps\u001b[49m\u001b[43m,\u001b[49m\n\u001b[1;32m    240\u001b[0m \u001b[43m         \u001b[49m\u001b[43mamsgrad\u001b[49m\u001b[38;5;241;43m=\u001b[39;49m\u001b[43mgroup\u001b[49m\u001b[43m[\u001b[49m\u001b[38;5;124;43m'\u001b[39;49m\u001b[38;5;124;43mamsgrad\u001b[39;49m\u001b[38;5;124;43m'\u001b[39;49m\u001b[43m]\u001b[49m\u001b[43m,\u001b[49m\n\u001b[1;32m    241\u001b[0m \u001b[43m         \u001b[49m\u001b[43mbeta1\u001b[49m\u001b[38;5;241;43m=\u001b[39;49m\u001b[43mbeta1\u001b[49m\u001b[43m,\u001b[49m\n\u001b[1;32m    242\u001b[0m \u001b[43m         \u001b[49m\u001b[43mbeta2\u001b[49m\u001b[38;5;241;43m=\u001b[39;49m\u001b[43mbeta2\u001b[49m\u001b[43m,\u001b[49m\n\u001b[1;32m    243\u001b[0m \u001b[43m         \u001b[49m\u001b[43mlr\u001b[49m\u001b[38;5;241;43m=\u001b[39;49m\u001b[43mgroup\u001b[49m\u001b[43m[\u001b[49m\u001b[38;5;124;43m'\u001b[39;49m\u001b[38;5;124;43mlr\u001b[39;49m\u001b[38;5;124;43m'\u001b[39;49m\u001b[43m]\u001b[49m\u001b[43m,\u001b[49m\n\u001b[1;32m    244\u001b[0m \u001b[43m         \u001b[49m\u001b[43mweight_decay\u001b[49m\u001b[38;5;241;43m=\u001b[39;49m\u001b[43mgroup\u001b[49m\u001b[43m[\u001b[49m\u001b[38;5;124;43m'\u001b[39;49m\u001b[38;5;124;43mweight_decay\u001b[39;49m\u001b[38;5;124;43m'\u001b[39;49m\u001b[43m]\u001b[49m\u001b[43m,\u001b[49m\n\u001b[1;32m    245\u001b[0m \u001b[43m         \u001b[49m\u001b[43meps\u001b[49m\u001b[38;5;241;43m=\u001b[39;49m\u001b[43mgroup\u001b[49m\u001b[43m[\u001b[49m\u001b[38;5;124;43m'\u001b[39;49m\u001b[38;5;124;43meps\u001b[39;49m\u001b[38;5;124;43m'\u001b[39;49m\u001b[43m]\u001b[49m\u001b[43m,\u001b[49m\n\u001b[1;32m    246\u001b[0m \u001b[43m         \u001b[49m\u001b[43mmaximize\u001b[49m\u001b[38;5;241;43m=\u001b[39;49m\u001b[43mgroup\u001b[49m\u001b[43m[\u001b[49m\u001b[38;5;124;43m'\u001b[39;49m\u001b[38;5;124;43mmaximize\u001b[39;49m\u001b[38;5;124;43m'\u001b[39;49m\u001b[43m]\u001b[49m\u001b[43m,\u001b[49m\n\u001b[1;32m    247\u001b[0m \u001b[43m         \u001b[49m\u001b[43mforeach\u001b[49m\u001b[38;5;241;43m=\u001b[39;49m\u001b[43mgroup\u001b[49m\u001b[43m[\u001b[49m\u001b[38;5;124;43m'\u001b[39;49m\u001b[38;5;124;43mforeach\u001b[39;49m\u001b[38;5;124;43m'\u001b[39;49m\u001b[43m]\u001b[49m\u001b[43m,\u001b[49m\n\u001b[1;32m    248\u001b[0m \u001b[43m         \u001b[49m\u001b[43mcapturable\u001b[49m\u001b[38;5;241;43m=\u001b[39;49m\u001b[43mgroup\u001b[49m\u001b[43m[\u001b[49m\u001b[38;5;124;43m'\u001b[39;49m\u001b[38;5;124;43mcapturable\u001b[39;49m\u001b[38;5;124;43m'\u001b[39;49m\u001b[43m]\u001b[49m\u001b[43m,\u001b[49m\n\u001b[1;32m    249\u001b[0m \u001b[43m         \u001b[49m\u001b[43mdifferentiable\u001b[49m\u001b[38;5;241;43m=\u001b[39;49m\u001b[43mgroup\u001b[49m\u001b[43m[\u001b[49m\u001b[38;5;124;43m'\u001b[39;49m\u001b[38;5;124;43mdifferentiable\u001b[39;49m\u001b[38;5;124;43m'\u001b[39;49m\u001b[43m]\u001b[49m\u001b[43m,\u001b[49m\n\u001b[1;32m    250\u001b[0m \u001b[43m         \u001b[49m\u001b[43mfused\u001b[49m\u001b[38;5;241;43m=\u001b[39;49m\u001b[43mgroup\u001b[49m\u001b[43m[\u001b[49m\u001b[38;5;124;43m'\u001b[39;49m\u001b[38;5;124;43mfused\u001b[39;49m\u001b[38;5;124;43m'\u001b[39;49m\u001b[43m]\u001b[49m\u001b[43m,\u001b[49m\n\u001b[1;32m    251\u001b[0m \u001b[43m         \u001b[49m\u001b[43mgrad_scale\u001b[49m\u001b[38;5;241;43m=\u001b[39;49m\u001b[43mgrad_scale\u001b[49m\u001b[43m,\u001b[49m\n\u001b[1;32m    252\u001b[0m \u001b[43m         \u001b[49m\u001b[43mfound_inf\u001b[49m\u001b[38;5;241;43m=\u001b[39;49m\u001b[43mfound_inf\u001b[49m\u001b[43m)\u001b[49m\n\u001b[1;32m    254\u001b[0m \u001b[38;5;28;01mreturn\u001b[39;00m loss\n",
      "File \u001b[0;32m~/anaconda3/envs/dlsia/lib/python3.9/site-packages/torch/optim/adam.py:300\u001b[0m, in \u001b[0;36madam\u001b[0;34m(params, grads, exp_avgs, exp_avg_sqs, max_exp_avg_sqs, state_steps, foreach, capturable, differentiable, fused, grad_scale, found_inf, amsgrad, beta1, beta2, lr, weight_decay, eps, maximize)\u001b[0m\n\u001b[1;32m    297\u001b[0m \u001b[38;5;28;01melse\u001b[39;00m:\n\u001b[1;32m    298\u001b[0m     func \u001b[38;5;241m=\u001b[39m _single_tensor_adam\n\u001b[0;32m--> 300\u001b[0m \u001b[43mfunc\u001b[49m\u001b[43m(\u001b[49m\u001b[43mparams\u001b[49m\u001b[43m,\u001b[49m\n\u001b[1;32m    301\u001b[0m \u001b[43m     \u001b[49m\u001b[43mgrads\u001b[49m\u001b[43m,\u001b[49m\n\u001b[1;32m    302\u001b[0m \u001b[43m     \u001b[49m\u001b[43mexp_avgs\u001b[49m\u001b[43m,\u001b[49m\n\u001b[1;32m    303\u001b[0m \u001b[43m     \u001b[49m\u001b[43mexp_avg_sqs\u001b[49m\u001b[43m,\u001b[49m\n\u001b[1;32m    304\u001b[0m \u001b[43m     \u001b[49m\u001b[43mmax_exp_avg_sqs\u001b[49m\u001b[43m,\u001b[49m\n\u001b[1;32m    305\u001b[0m \u001b[43m     \u001b[49m\u001b[43mstate_steps\u001b[49m\u001b[43m,\u001b[49m\n\u001b[1;32m    306\u001b[0m \u001b[43m     \u001b[49m\u001b[43mamsgrad\u001b[49m\u001b[38;5;241;43m=\u001b[39;49m\u001b[43mamsgrad\u001b[49m\u001b[43m,\u001b[49m\n\u001b[1;32m    307\u001b[0m \u001b[43m     \u001b[49m\u001b[43mbeta1\u001b[49m\u001b[38;5;241;43m=\u001b[39;49m\u001b[43mbeta1\u001b[49m\u001b[43m,\u001b[49m\n\u001b[1;32m    308\u001b[0m \u001b[43m     \u001b[49m\u001b[43mbeta2\u001b[49m\u001b[38;5;241;43m=\u001b[39;49m\u001b[43mbeta2\u001b[49m\u001b[43m,\u001b[49m\n\u001b[1;32m    309\u001b[0m \u001b[43m     \u001b[49m\u001b[43mlr\u001b[49m\u001b[38;5;241;43m=\u001b[39;49m\u001b[43mlr\u001b[49m\u001b[43m,\u001b[49m\n\u001b[1;32m    310\u001b[0m \u001b[43m     \u001b[49m\u001b[43mweight_decay\u001b[49m\u001b[38;5;241;43m=\u001b[39;49m\u001b[43mweight_decay\u001b[49m\u001b[43m,\u001b[49m\n\u001b[1;32m    311\u001b[0m \u001b[43m     \u001b[49m\u001b[43meps\u001b[49m\u001b[38;5;241;43m=\u001b[39;49m\u001b[43meps\u001b[49m\u001b[43m,\u001b[49m\n\u001b[1;32m    312\u001b[0m \u001b[43m     \u001b[49m\u001b[43mmaximize\u001b[49m\u001b[38;5;241;43m=\u001b[39;49m\u001b[43mmaximize\u001b[49m\u001b[43m,\u001b[49m\n\u001b[1;32m    313\u001b[0m \u001b[43m     \u001b[49m\u001b[43mcapturable\u001b[49m\u001b[38;5;241;43m=\u001b[39;49m\u001b[43mcapturable\u001b[49m\u001b[43m,\u001b[49m\n\u001b[1;32m    314\u001b[0m \u001b[43m     \u001b[49m\u001b[43mdifferentiable\u001b[49m\u001b[38;5;241;43m=\u001b[39;49m\u001b[43mdifferentiable\u001b[49m\u001b[43m,\u001b[49m\n\u001b[1;32m    315\u001b[0m \u001b[43m     \u001b[49m\u001b[43mgrad_scale\u001b[49m\u001b[38;5;241;43m=\u001b[39;49m\u001b[43mgrad_scale\u001b[49m\u001b[43m,\u001b[49m\n\u001b[1;32m    316\u001b[0m \u001b[43m     \u001b[49m\u001b[43mfound_inf\u001b[49m\u001b[38;5;241;43m=\u001b[39;49m\u001b[43mfound_inf\u001b[49m\u001b[43m)\u001b[49m\n",
      "File \u001b[0;32m~/anaconda3/envs/dlsia/lib/python3.9/site-packages/torch/optim/adam.py:412\u001b[0m, in \u001b[0;36m_single_tensor_adam\u001b[0;34m(params, grads, exp_avgs, exp_avg_sqs, max_exp_avg_sqs, state_steps, grad_scale, found_inf, amsgrad, beta1, beta2, lr, weight_decay, eps, maximize, capturable, differentiable)\u001b[0m\n\u001b[1;32m    409\u001b[0m \u001b[38;5;28;01melse\u001b[39;00m:\n\u001b[1;32m    410\u001b[0m     denom \u001b[38;5;241m=\u001b[39m (exp_avg_sq\u001b[38;5;241m.\u001b[39msqrt() \u001b[38;5;241m/\u001b[39m bias_correction2_sqrt)\u001b[38;5;241m.\u001b[39madd_(eps)\n\u001b[0;32m--> 412\u001b[0m \u001b[43mparam\u001b[49m\u001b[38;5;241;43m.\u001b[39;49m\u001b[43maddcdiv_\u001b[49m\u001b[43m(\u001b[49m\u001b[43mexp_avg\u001b[49m\u001b[43m,\u001b[49m\u001b[43m \u001b[49m\u001b[43mdenom\u001b[49m\u001b[43m,\u001b[49m\u001b[43m \u001b[49m\u001b[43mvalue\u001b[49m\u001b[38;5;241;43m=\u001b[39;49m\u001b[38;5;241;43m-\u001b[39;49m\u001b[43mstep_size\u001b[49m\u001b[43m)\u001b[49m\n",
      "\u001b[0;31mKeyboardInterrupt\u001b[0m: "
     ]
    }
   ],
   "source": [
    "num_epochs = 20\n",
    "learning_rate = 1e-3\n",
    "\n",
    "for ii in range(n_models):\n",
    "    autoencoder = autoencoders[ii]\n",
    "    torch.cuda.empty_cache()\n",
    "\n",
    "    criterion_AE = nn.MSELoss()\n",
    "    optimizer_AE = optim.Adam(autoencoder.parameters(), lr=learning_rate)\n",
    "\n",
    "    criterion_label = nn.CrossEntropyLoss(ignore_index=-1)\n",
    "    optimizer_label = optim.Adam(autoencoder.parameters(), lr=learning_rate)\n",
    "\n",
    "\n",
    "    rv = train_scripts.autoencode_and_classify_training(net=autoencoder.to('cuda:0'),\n",
    "                                                        trainloader=train_loader,\n",
    "                                                        validationloader=test_loader,\n",
    "                                                        macro_epochs=num_epochs,\n",
    "                                                        mini_epochs=3,\n",
    "                                                        criteria_autoencode=criterion_AE,\n",
    "                                                        minimizer_autoencode=optimizer_AE,\n",
    "                                                        criteria_classify=criterion_label,\n",
    "                                                        minimizer_classify=optimizer_label,\n",
    "                                                        device=\"cuda:0\", \n",
    "                                                        show=10, \n",
    "                                                        clip_value=100.0)\n",
    "    \n",
    "    print('Autoencoder input reconstruction performance')\n",
    "    plots.plot_training_results_segmentation(rv[2]).show()\n",
    "    \n",
    "    print('Image classification performance')\n",
    "    plots.plot_training_results_regression(rv[1]).show()\n"
   ]
  },
  {
   "cell_type": "markdown",
   "metadata": {},
   "source": [
    "## Network evaluation\n",
    "\n",
    "We pass over the test data again with the newly trained networks and collect stuff so we can inspect what is happening."
   ]
  },
  {
   "cell_type": "markdown",
   "metadata": {},
   "source": [
    "### Network bagging"
   ]
  },
  {
   "cell_type": "code",
   "execution_count": 7,
   "metadata": {},
   "outputs": [],
   "source": [
    "bagged_model = baggins.autoencoder_labeling_model_baggin(autoencoders)"
   ]
  },
  {
   "cell_type": "code",
   "execution_count": 8,
   "metadata": {},
   "outputs": [
    {
     "name": "stderr",
     "output_type": "stream",
     "text": [
      "100%|██████████| 4/4 [00:04<00:00,  1.21s/it]\n"
     ]
    }
   ],
   "source": [
    "import tqdm\n",
    "results = []\n",
    "pres = []\n",
    "sresults = []\n",
    "spres = []\n",
    "\n",
    "latent = []\n",
    "true_lbl = []\n",
    "inp_img = []\n",
    "for batch in tqdm.tqdm(test_loader):\n",
    "    true_lbl.append(batch[1])\n",
    "    with torch.no_grad():\n",
    "        inp_img.append(batch[0].cpu())\n",
    "        res, sres, ps, sps = bagged_model(batch[0], \"cuda:0\", True)        \n",
    "        results.append(res.cpu())\n",
    "        pres.append(ps.cpu())\n",
    "        sresults.append(sres.cpu())\n",
    "        spres.append(sps.cpu())\n",
    "        \n",
    "results = torch.cat(results, dim=0)\n",
    "pres = torch.cat(pres,dim=0)\n",
    "sresults = torch.cat(sresults, dim=0)\n",
    "spres = torch.cat(spres,dim=0)\n",
    "\n",
    "true_lbl = torch.cat(true_lbl, dim=0)    \n",
    "inp_img = torch.cat(inp_img, dim=0)"
   ]
  },
  {
   "cell_type": "markdown",
   "metadata": {},
   "source": [
    "### Network performance metrics\n",
    "\n",
    "We evaluate the bagged calssifier performance using  F1 scores."
   ]
  },
  {
   "cell_type": "code",
   "execution_count": 9,
   "metadata": {},
   "outputs": [
    {
     "name": "stdout",
     "output_type": "stream",
     "text": [
      "Macro F1 on Test Data  0.97750\n",
      "Micro F1 on Test Data  0.97778\n"
     ]
    }
   ],
   "source": [
    "Macro_F1, Micro_F1 = train_scripts.segmentation_metrics(pres, true_lbl[:,0].type(torch.LongTensor))\n",
    "print(f\"Macro F1 on Test Data {Macro_F1: 6.5f}\")\n",
    "print(f\"Micro F1 on Test Data {Micro_F1: 6.5f}\")\n"
   ]
  },
  {
   "cell_type": "markdown",
   "metadata": {},
   "source": [
    "### View predictions and confidence\n",
    "\n",
    "Below we view the network predictions on images previously unseen in the training process. Class probabilities and prediction confidence is shown"
   ]
  },
  {
   "cell_type": "code",
   "execution_count": 11,
   "metadata": {
    "scrolled": true
   },
   "outputs": [
    {
     "name": "stdout",
     "output_type": "stream",
     "text": [
      "--------       The first 10 images encountered     ----------\n"
     ]
    },
    {
     "data": {
      "image/png": "[encoded data removed]",
      "text/plain": [
       "<Figure size 936x144 with 7 Axes>"
      ]
     },
     "metadata": {
      "needs_background": "light"
     },
     "output_type": "display_data"
    },
    {
     "data": {
      "image/png": "[encoded data removed]",
      "text/plain": [
       "<Figure size 936x144 with 7 Axes>"
      ]
     },
     "metadata": {
      "needs_background": "light"
     },
     "output_type": "display_data"
    },
    {
     "data": {
      "image/png": "[encoded data removed]",
      "text/plain": [
       "<Figure size 936x144 with 7 Axes>"
      ]
     },
     "metadata": {
      "needs_background": "light"
     },
     "output_type": "display_data"
    },
    {
     "data": {
      "image/png": "[encoded data removed]",
      "text/plain": [
       "<Figure size 936x144 with 7 Axes>"
      ]
     },
     "metadata": {
      "needs_background": "light"
     },
     "output_type": "display_data"
    },
    {
     "data": {
      "image/png": "[encoded data removed]",
      "text/plain": [
       "<Figure size 936x144 with 7 Axes>"
      ]
     },
     "metadata": {
      "needs_background": "light"
     },
     "output_type": "display_data"
    },
    {
     "data": {
      "image/png": "[encoded data removed]",
      "text/plain": [
       "<Figure size 936x144 with 7 Axes>"
      ]
     },
     "metadata": {
      "needs_background": "light"
     },
     "output_type": "display_data"
    },
    {
     "data": {
      "image/png": "[encoded data removed]",
      "text/plain": [
       "<Figure size 936x144 with 7 Axes>"
      ]
     },
     "metadata": {
      "needs_background": "light"
     },
     "output_type": "display_data"
    },
    {
     "data": {
      "image/png": "[encoded data removed]",
      "text/plain": [
       "<Figure size 936x144 with 7 Axes>"
      ]
     },
     "metadata": {
      "needs_background": "light"
     },
     "output_type": "display_data"
    },
    {
     "data": {
      "image/png": "[encoded data removed]",
      "text/plain": [
       "<Figure size 936x144 with 7 Axes>"
      ]
     },
     "metadata": {
      "needs_background": "light"
     },
     "output_type": "display_data"
    },
    {
     "data": {
      "image/png": "[encoded data removed]",
      "text/plain": [
       "<Figure size 936x144 with 7 Axes>"
      ]
     },
     "metadata": {
      "needs_background": "light"
     },
     "output_type": "display_data"
    },
    {
     "name": "stdout",
     "output_type": "stream",
     "text": [
      "--------       Incorrectly labeled images  (10 max)   ----------\n"
     ]
    },
    {
     "data": {
      "image/png": "[encoded data removed]",
      "text/plain": [
       "<Figure size 936x144 with 7 Axes>"
      ]
     },
     "metadata": {
      "needs_background": "light"
     },
     "output_type": "display_data"
    },
    {
     "data": {
      "image/png": "[encoded data removed]",
      "text/plain": [
       "<Figure size 936x144 with 7 Axes>"
      ]
     },
     "metadata": {
      "needs_background": "light"
     },
     "output_type": "display_data"
    },
    {
     "data": {
      "image/png": "[encoded data removed]",
      "text/plain": [
       "<Figure size 936x144 with 7 Axes>"
      ]
     },
     "metadata": {
      "needs_background": "light"
     },
     "output_type": "display_data"
    },
    {
     "data": {
      "image/png": "[encoded data removed]",
      "text/plain": [
       "<Figure size 936x144 with 7 Axes>"
      ]
     },
     "metadata": {
      "needs_background": "light"
     },
     "output_type": "display_data"
    },
    {
     "data": {
      "image/png": "[encoded data removed]",
      "text/plain": [
       "<Figure size 936x144 with 7 Axes>"
      ]
     },
     "metadata": {
      "needs_background": "light"
     },
     "output_type": "display_data"
    },
    {
     "data": {
      "image/png": "[encoded data removed]",
      "text/plain": [
       "<Figure size 936x144 with 7 Axes>"
      ]
     },
     "metadata": {
      "needs_background": "light"
     },
     "output_type": "display_data"
    },
    {
     "data": {
      "image/png": "[encoded data removed]",
      "text/plain": [
       "<Figure size 936x144 with 7 Axes>"
      ]
     },
     "metadata": {
      "needs_background": "light"
     },
     "output_type": "display_data"
    },
    {
     "data": {
      "image/png": "[encoded data removed]",
      "text/plain": [
       "<Figure size 936x144 with 7 Axes>"
      ]
     },
     "metadata": {
      "needs_background": "light"
     },
     "output_type": "display_data"
    },
    {
     "data": {
      "image/png": "[encoded data removed]",
      "text/plain": [
       "<Figure size 936x144 with 7 Axes>"
      ]
     },
     "metadata": {
      "needs_background": "light"
     },
     "output_type": "display_data"
    }
   ],
   "source": [
    "count = 0\n",
    "print(\"--------       The first 10 images encountered     ----------\")\n",
    "for img, simg, p, sp, tlbl, ori in zip(results, sresults, pres, spres, true_lbl, inp_img):\n",
    "    if count < 10:\n",
    "        fig = paic.plot_autoencoder_and_label_results_with_std(\n",
    "            input_img=ori[0].numpy(),\n",
    "            output_img=img[0].numpy(),\n",
    "            std_img=simg[0].numpy(),\n",
    "            p_classification=p.numpy(),\n",
    "            std_p_classification=sp.numpy(),\n",
    "            class_names=[\"Rect.\",\"Disc\",\"Tri.\",\"Donut\"])\n",
    "        plt.show()\n",
    "        count += 1\n",
    "    \n",
    "\n",
    "print(\"--------       Incorrectly labeled images  (10 max)   ----------\")\n",
    "count = 0\n",
    "for img, simg, p, sp, tlbl, ori in zip(results, sresults, pres, spres, true_lbl, inp_img):\n",
    "    ilbl = np.argmax(p.numpy())\n",
    "    if int(tlbl) != int(ilbl):\n",
    "        fig = paic.plot_autoencoder_and_label_results_with_std(\n",
    "            input_img=ori[0].numpy(),\n",
    "            output_img=img[0].numpy(),\n",
    "            std_img=simg[0].numpy(),\n",
    "            p_classification=p.numpy(),\n",
    "            std_p_classification=sp.numpy(),\n",
    "            class_names=[\"Rect.\",\"Disc\",\"Tri.\",\"Donut\"])\n",
    "        plt.show()\n",
    "        count += 1\n",
    "    if count > 10:\n",
    "        break\n"
   ]
  },
  {
   "cell_type": "code",
   "execution_count": null,
   "metadata": {},
   "outputs": [],
   "source": []
  },
  {
   "cell_type": "code",
   "execution_count": null,
   "metadata": {},
   "outputs": [],
   "source": []
  },
  {
   "cell_type": "code",
   "execution_count": 13,
   "metadata": {},
   "outputs": [
    {
     "ename": "TypeError",
     "evalue": "Rearrange can't be applied to an empty list",
     "output_type": "error",
     "traceback": [
      "\u001b[0;31m---------------------------------------------------------------------------\u001b[0m",
      "\u001b[0;31mTypeError\u001b[0m                                 Traceback (most recent call last)",
      "\u001b[0;32m<ipython-input-13-c69df00e6fa2>\u001b[0m in \u001b[0;36m<module>\u001b[0;34m\u001b[0m\n\u001b[0;32m----> 1\u001b[0;31m \u001b[0mlatent\u001b[0m \u001b[0;34m=\u001b[0m \u001b[0meinops\u001b[0m\u001b[0;34m.\u001b[0m\u001b[0mrearrange\u001b[0m\u001b[0;34m(\u001b[0m\u001b[0mlatent\u001b[0m\u001b[0;34m,\u001b[0m \u001b[0;34m\"N C Y X -> N (C Y X)\"\u001b[0m\u001b[0;34m)\u001b[0m\u001b[0;34m\u001b[0m\u001b[0;34m\u001b[0m\u001b[0m\n\u001b[0m\u001b[1;32m      2\u001b[0m \u001b[0mumapper\u001b[0m \u001b[0;34m=\u001b[0m \u001b[0mumap\u001b[0m\u001b[0;34m.\u001b[0m\u001b[0mUMAP\u001b[0m\u001b[0;34m(\u001b[0m\u001b[0mmin_dist\u001b[0m\u001b[0;34m=\u001b[0m\u001b[0;36m0\u001b[0m\u001b[0;34m,\u001b[0m \u001b[0mn_neighbors\u001b[0m\u001b[0;34m=\u001b[0m\u001b[0;36m35\u001b[0m\u001b[0;34m)\u001b[0m\u001b[0;34m\u001b[0m\u001b[0;34m\u001b[0m\u001b[0m\n\u001b[1;32m      3\u001b[0m \u001b[0mX\u001b[0m \u001b[0;34m=\u001b[0m \u001b[0mumapper\u001b[0m\u001b[0;34m.\u001b[0m\u001b[0mfit_transform\u001b[0m\u001b[0;34m(\u001b[0m\u001b[0mlatent\u001b[0m\u001b[0;34m.\u001b[0m\u001b[0mnumpy\u001b[0m\u001b[0;34m(\u001b[0m\u001b[0;34m)\u001b[0m\u001b[0;34m)\u001b[0m\u001b[0;34m\u001b[0m\u001b[0;34m\u001b[0m\u001b[0m\n",
      "\u001b[0;32m~/anaconda3/envs/MSDNet/lib/python3.9/site-packages/einops/einops.py\u001b[0m in \u001b[0;36mrearrange\u001b[0;34m(tensor, pattern, **axes_lengths)\u001b[0m\n\u001b[1;32m    420\u001b[0m     \u001b[0;32mif\u001b[0m \u001b[0misinstance\u001b[0m\u001b[0;34m(\u001b[0m\u001b[0mtensor\u001b[0m\u001b[0;34m,\u001b[0m \u001b[0mlist\u001b[0m\u001b[0;34m)\u001b[0m\u001b[0;34m:\u001b[0m\u001b[0;34m\u001b[0m\u001b[0;34m\u001b[0m\u001b[0m\n\u001b[1;32m    421\u001b[0m         \u001b[0;32mif\u001b[0m \u001b[0mlen\u001b[0m\u001b[0;34m(\u001b[0m\u001b[0mtensor\u001b[0m\u001b[0;34m)\u001b[0m \u001b[0;34m==\u001b[0m \u001b[0;36m0\u001b[0m\u001b[0;34m:\u001b[0m\u001b[0;34m\u001b[0m\u001b[0;34m\u001b[0m\u001b[0m\n\u001b[0;32m--> 422\u001b[0;31m             \u001b[0;32mraise\u001b[0m \u001b[0mTypeError\u001b[0m\u001b[0;34m(\u001b[0m\u001b[0;34m\"Rearrange can't be applied to an empty list\"\u001b[0m\u001b[0;34m)\u001b[0m\u001b[0;34m\u001b[0m\u001b[0;34m\u001b[0m\u001b[0m\n\u001b[0m\u001b[1;32m    423\u001b[0m         \u001b[0mtensor\u001b[0m \u001b[0;34m=\u001b[0m \u001b[0mget_backend\u001b[0m\u001b[0;34m(\u001b[0m\u001b[0mtensor\u001b[0m\u001b[0;34m[\u001b[0m\u001b[0;36m0\u001b[0m\u001b[0;34m]\u001b[0m\u001b[0;34m)\u001b[0m\u001b[0;34m.\u001b[0m\u001b[0mstack_on_zeroth_dimension\u001b[0m\u001b[0;34m(\u001b[0m\u001b[0mtensor\u001b[0m\u001b[0;34m)\u001b[0m\u001b[0;34m\u001b[0m\u001b[0;34m\u001b[0m\u001b[0m\n\u001b[1;32m    424\u001b[0m     \u001b[0;32mreturn\u001b[0m \u001b[0mreduce\u001b[0m\u001b[0;34m(\u001b[0m\u001b[0mtensor\u001b[0m\u001b[0;34m,\u001b[0m \u001b[0mpattern\u001b[0m\u001b[0;34m,\u001b[0m \u001b[0mreduction\u001b[0m\u001b[0;34m=\u001b[0m\u001b[0;34m'rearrange'\u001b[0m\u001b[0;34m,\u001b[0m \u001b[0;34m**\u001b[0m\u001b[0maxes_lengths\u001b[0m\u001b[0;34m)\u001b[0m\u001b[0;34m\u001b[0m\u001b[0;34m\u001b[0m\u001b[0m\n",
      "\u001b[0;31mTypeError\u001b[0m: Rearrange can't be applied to an empty list"
     ]
    }
   ],
   "source": [
    "latent = einops.rearrange(latent, \"N C Y X -> N (C Y X)\")\n",
    "umapper = umap.UMAP(min_dist=0, n_neighbors=35)\n",
    "X = umapper.fit_transform(latent.numpy())"
   ]
  },
  {
   "cell_type": "code",
   "execution_count": 12,
   "metadata": {},
   "outputs": [
    {
     "ename": "NameError",
     "evalue": "name 'infered_labels' is not defined",
     "output_type": "error",
     "traceback": [
      "\u001b[0;31m---------------------------------------------------------------------------\u001b[0m",
      "\u001b[0;31mNameError\u001b[0m                                 Traceback (most recent call last)",
      "\u001b[0;32m<ipython-input-12-be55cc47f0fa>\u001b[0m in \u001b[0;36m<module>\u001b[0;34m\u001b[0m\n\u001b[1;32m      1\u001b[0m \u001b[0mcount\u001b[0m \u001b[0;34m=\u001b[0m \u001b[0;36m0\u001b[0m\u001b[0;34m\u001b[0m\u001b[0;34m\u001b[0m\u001b[0m\n\u001b[0;32m----> 2\u001b[0;31m \u001b[0;32mfor\u001b[0m \u001b[0mimg\u001b[0m\u001b[0;34m,\u001b[0m \u001b[0mcc\u001b[0m\u001b[0;34m,\u001b[0m \u001b[0mtlbl\u001b[0m\u001b[0;34m,\u001b[0m \u001b[0mori\u001b[0m\u001b[0;34m,\u001b[0m \u001b[0mpl\u001b[0m \u001b[0;32min\u001b[0m \u001b[0mzip\u001b[0m\u001b[0;34m(\u001b[0m\u001b[0mresults\u001b[0m\u001b[0;34m,\u001b[0m \u001b[0mpres\u001b[0m\u001b[0;34m,\u001b[0m \u001b[0mtrue_lbl\u001b[0m\u001b[0;34m,\u001b[0m \u001b[0minp_img\u001b[0m\u001b[0;34m,\u001b[0m \u001b[0minfered_labels\u001b[0m\u001b[0;34m)\u001b[0m\u001b[0;34m:\u001b[0m\u001b[0;34m\u001b[0m\u001b[0;34m\u001b[0m\u001b[0m\n\u001b[0m\u001b[1;32m      3\u001b[0m     \u001b[0;32mif\u001b[0m \u001b[0mint\u001b[0m\u001b[0;34m(\u001b[0m\u001b[0mtlbl\u001b[0m\u001b[0;34m[\u001b[0m\u001b[0;36m0\u001b[0m\u001b[0;34m]\u001b[0m\u001b[0;34m)\u001b[0m \u001b[0;34m!=\u001b[0m \u001b[0mpl\u001b[0m\u001b[0;34m-\u001b[0m\u001b[0;36m1\u001b[0m\u001b[0;34m:\u001b[0m\u001b[0;34m\u001b[0m\u001b[0;34m\u001b[0m\u001b[0m\n\u001b[1;32m      4\u001b[0m         paic.plot_autoencoder_and_label_results(input_img=ori.numpy()[0,...], \n\u001b[1;32m      5\u001b[0m                                        \u001b[0moutput_img\u001b[0m\u001b[0;34m=\u001b[0m\u001b[0mimg\u001b[0m\u001b[0;34m.\u001b[0m\u001b[0mnumpy\u001b[0m\u001b[0;34m(\u001b[0m\u001b[0;34m)\u001b[0m\u001b[0;34m[\u001b[0m\u001b[0;36m0\u001b[0m\u001b[0;34m,\u001b[0m\u001b[0;34m...\u001b[0m\u001b[0;34m]\u001b[0m\u001b[0;34m,\u001b[0m\u001b[0;34m\u001b[0m\u001b[0;34m\u001b[0m\u001b[0m\n",
      "\u001b[0;31mNameError\u001b[0m: name 'infered_labels' is not defined"
     ]
    }
   ],
   "source": [
    "count = 0\n",
    "for img, cc, tlbl, ori, pl in zip(results, pres, true_lbl, inp_img, infered_labels):\n",
    "    if int(tlbl[0]) != pl-1:        \n",
    "        paic.plot_autoencoder_and_label_results(input_img=ori.numpy()[0,...], \n",
    "                                       output_img=img.numpy()[0,...], \n",
    "                                       p_classification=cc.numpy(),\n",
    "                                       class_names=[\"Rectangle\",\"Disc\",\"Triangle\",\"Annulus\"])\n",
    "        plt.show()\n",
    "        count += 1\n",
    "    if count > 5:\n",
    "        break"
   ]
  }
 ],
 "metadata": {
  "kernelspec": {
   "display_name": "Python 3 (ipykernel)",
   "language": "python",
   "name": "python3"
  },
  "language_info": {
   "codemirror_mode": {
    "name": "ipython",
    "version": 3
   },
   "file_extension": ".py",
   "mimetype": "text/x-python",
   "name": "python",
   "nbconvert_exporter": "python",
   "pygments_lexer": "ipython3",
   "version": "3.9.16"
  }
 },
 "nbformat": 4,
 "nbformat_minor": 4
}
